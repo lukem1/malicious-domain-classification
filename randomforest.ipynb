{
 "cells": [
  {
   "cell_type": "markdown",
   "metadata": {},
   "source": [
    "# Malicious Domain Dataset - Random Forest Classifier"
   ]
  },
  {
   "cell_type": "code",
   "execution_count": 17,
   "metadata": {},
   "outputs": [
    {
     "data": {
      "text/plain": [
       "0    32613\n",
       "1     3815\n",
       "Name: Class, dtype: int64"
      ]
     },
     "execution_count": 17,
     "metadata": {},
     "output_type": "execute_result"
    }
   ],
   "source": [
    "import pandas as pd\n",
    "\n",
    "# Load preprocessed dataset\n",
    "datasource = \"preprocessed.csv\"\n",
    "data = pd.read_csv(datasource)\n",
    "data.Class.value_counts()"
   ]
  },
  {
   "cell_type": "markdown",
   "metadata": {},
   "source": [
    "## Resampling\n",
    "\n",
    "As the preprocessed dataset is unbalanced, we resample to create a balanced set for training and testing."
   ]
  },
  {
   "cell_type": "code",
   "execution_count": 18,
   "metadata": {},
   "outputs": [],
   "source": [
    "from sklearn.utils import resample\n",
    "\n",
    "sample_size = min(data.Class.value_counts())\n",
    "\n",
    "malicious = resample(data.loc[data[\"Class\"] == 0], replace=False, n_samples=sample_size, random_state=42)\n",
    "benign = resample(data.loc[data[\"Class\"] == 1], replace=False, n_samples=sample_size, random_state=42)\n",
    "\n",
    "balanced = pd.concat([malicious, benign])\n",
    "balanced.Class.value_counts()\n",
    "\n",
    "X = balanced.drop(columns=[\"Class\"])\n",
    "y = balanced[\"Class\"]"
   ]
  },
  {
   "cell_type": "markdown",
   "metadata": {},
   "source": [
    "## Cross-validation"
   ]
  },
  {
   "cell_type": "markdown",
   "metadata": {},
   "source": [
    "Here we assess how well a Random Forest classifier will generalize the dataset by performing 10-fold cross-validation."
   ]
  },
  {
   "cell_type": "code",
   "execution_count": 19,
   "metadata": {},
   "outputs": [
    {
     "data": {
      "text/html": [
       "<div>\n",
       "<style scoped>\n",
       "    .dataframe tbody tr th:only-of-type {\n",
       "        vertical-align: middle;\n",
       "    }\n",
       "\n",
       "    .dataframe tbody tr th {\n",
       "        vertical-align: top;\n",
       "    }\n",
       "\n",
       "    .dataframe thead th {\n",
       "        text-align: right;\n",
       "    }\n",
       "</style>\n",
       "<table border=\"1\" class=\"dataframe\">\n",
       "  <thead>\n",
       "    <tr style=\"text-align: right;\">\n",
       "      <th></th>\n",
       "      <th>fit_time</th>\n",
       "      <th>score_time</th>\n",
       "      <th>test_accuracy</th>\n",
       "      <th>test_f1</th>\n",
       "      <th>test_precision</th>\n",
       "      <th>test_recall</th>\n",
       "    </tr>\n",
       "  </thead>\n",
       "  <tbody>\n",
       "    <tr>\n",
       "      <th>0</th>\n",
       "      <td>0.239348</td>\n",
       "      <td>0.015891</td>\n",
       "      <td>0.967235</td>\n",
       "      <td>0.967062</td>\n",
       "      <td>0.970899</td>\n",
       "      <td>0.963255</td>\n",
       "    </tr>\n",
       "    <tr>\n",
       "      <th>1</th>\n",
       "      <td>0.238916</td>\n",
       "      <td>0.016546</td>\n",
       "      <td>0.973788</td>\n",
       "      <td>0.973958</td>\n",
       "      <td>0.966408</td>\n",
       "      <td>0.981627</td>\n",
       "    </tr>\n",
       "    <tr>\n",
       "      <th>2</th>\n",
       "      <td>0.227260</td>\n",
       "      <td>0.015876</td>\n",
       "      <td>0.973788</td>\n",
       "      <td>0.973684</td>\n",
       "      <td>0.976253</td>\n",
       "      <td>0.971129</td>\n",
       "    </tr>\n",
       "    <tr>\n",
       "      <th>3</th>\n",
       "      <td>0.214280</td>\n",
       "      <td>0.015808</td>\n",
       "      <td>0.959371</td>\n",
       "      <td>0.960205</td>\n",
       "      <td>0.939698</td>\n",
       "      <td>0.981627</td>\n",
       "    </tr>\n",
       "    <tr>\n",
       "      <th>4</th>\n",
       "      <td>0.212008</td>\n",
       "      <td>0.015646</td>\n",
       "      <td>0.968545</td>\n",
       "      <td>0.968254</td>\n",
       "      <td>0.976000</td>\n",
       "      <td>0.960630</td>\n",
       "    </tr>\n",
       "    <tr>\n",
       "      <th>5</th>\n",
       "      <td>0.209293</td>\n",
       "      <td>0.015539</td>\n",
       "      <td>0.969856</td>\n",
       "      <td>0.969777</td>\n",
       "      <td>0.973615</td>\n",
       "      <td>0.965969</td>\n",
       "    </tr>\n",
       "    <tr>\n",
       "      <th>6</th>\n",
       "      <td>0.210652</td>\n",
       "      <td>0.015744</td>\n",
       "      <td>0.965924</td>\n",
       "      <td>0.966408</td>\n",
       "      <td>0.954082</td>\n",
       "      <td>0.979058</td>\n",
       "    </tr>\n",
       "    <tr>\n",
       "      <th>7</th>\n",
       "      <td>0.211009</td>\n",
       "      <td>0.015825</td>\n",
       "      <td>0.969856</td>\n",
       "      <td>0.969856</td>\n",
       "      <td>0.971129</td>\n",
       "      <td>0.968586</td>\n",
       "    </tr>\n",
       "    <tr>\n",
       "      <th>8</th>\n",
       "      <td>0.215042</td>\n",
       "      <td>0.016558</td>\n",
       "      <td>0.971166</td>\n",
       "      <td>0.971204</td>\n",
       "      <td>0.971204</td>\n",
       "      <td>0.971204</td>\n",
       "    </tr>\n",
       "    <tr>\n",
       "      <th>9</th>\n",
       "      <td>0.213321</td>\n",
       "      <td>0.015398</td>\n",
       "      <td>0.982962</td>\n",
       "      <td>0.983007</td>\n",
       "      <td>0.981723</td>\n",
       "      <td>0.984293</td>\n",
       "    </tr>\n",
       "  </tbody>\n",
       "</table>\n",
       "</div>"
      ],
      "text/plain": [
       "   fit_time  score_time  test_accuracy   test_f1  test_precision  test_recall\n",
       "0  0.239348    0.015891       0.967235  0.967062        0.970899     0.963255\n",
       "1  0.238916    0.016546       0.973788  0.973958        0.966408     0.981627\n",
       "2  0.227260    0.015876       0.973788  0.973684        0.976253     0.971129\n",
       "3  0.214280    0.015808       0.959371  0.960205        0.939698     0.981627\n",
       "4  0.212008    0.015646       0.968545  0.968254        0.976000     0.960630\n",
       "5  0.209293    0.015539       0.969856  0.969777        0.973615     0.965969\n",
       "6  0.210652    0.015744       0.965924  0.966408        0.954082     0.979058\n",
       "7  0.211009    0.015825       0.969856  0.969856        0.971129     0.968586\n",
       "8  0.215042    0.016558       0.971166  0.971204        0.971204     0.971204\n",
       "9  0.213321    0.015398       0.982962  0.983007        0.981723     0.984293"
      ]
     },
     "execution_count": 19,
     "metadata": {},
     "output_type": "execute_result"
    }
   ],
   "source": [
    "from sklearn.model_selection import train_test_split\n",
    "from sklearn.model_selection import cross_validate\n",
    "from sklearn.pipeline import Pipeline\n",
    "from sklearn.preprocessing import StandardScaler\n",
    "from sklearn.feature_selection import SelectKBest\n",
    "from sklearn.ensemble import RandomForestClassifier\n",
    "\n",
    "# Build pipeline to transform and fit data\n",
    "stages = [\n",
    "    (\"scaler\", StandardScaler()), # Standardize the data such that mean = 0 and variance = 1\n",
    "    (\"selector\", SelectKBest(k=6)), # Select the k best parameters using ANOVA F-value \n",
    "    (\"classifier\", RandomForestClassifier())] # Init Random Forest classifier\n",
    "\n",
    "pipeline = Pipeline(stages)\n",
    "\n",
    "# Perform cross validation using the pipeline\n",
    "folds = 10\n",
    "metrics = [\"accuracy\", \"f1\", \"precision\", \"recall\"]\n",
    "scores = cross_validate(pipeline, X, y, scoring=metrics, cv=folds)\n",
    "\n",
    "# Determine cross validation scores\n",
    "scores = pd.DataFrame.from_dict(scores)\n",
    "scores"
   ]
  },
  {
   "cell_type": "code",
   "execution_count": 20,
   "metadata": {},
   "outputs": [
    {
     "data": {
      "text/plain": [
       "fit_time          0.219113\n",
       "score_time        0.015883\n",
       "test_accuracy     0.970249\n",
       "test_f1           0.970342\n",
       "test_precision    0.968101\n",
       "test_recall       0.972738\n",
       "dtype: float64"
      ]
     },
     "execution_count": 20,
     "metadata": {},
     "output_type": "execute_result"
    }
   ],
   "source": [
    "scores.mean()"
   ]
  },
  {
   "cell_type": "markdown",
   "metadata": {},
   "source": [
    "## Finalized Model"
   ]
  },
  {
   "cell_type": "code",
   "execution_count": 21,
   "metadata": {},
   "outputs": [
    {
     "name": "stdout",
     "output_type": "stream",
     "text": [
      "Model accuraccy: 0.967453\n",
      "Selected features: ['StrangeCharacters' 'NumericRatio' 'VowelRatio' 'ConsonantSequence'\n",
      " 'NumericSequence' 'DomainLength']\n"
     ]
    }
   ],
   "source": [
    "# Partition data into testing and training sets\n",
    "X_train, X_test, y_train, y_test = train_test_split(X, y, train_size=0.4, random_state=42)\n",
    "\n",
    "# Build pipeline to transform and fit data\n",
    "stages = [\n",
    "    (\"scaler\", StandardScaler()), # Standardize the data such that mean = 0 and variance = 1\n",
    "    (\"selector\", SelectKBest(k=6)), # Select the k best parameters using ANOVA F-value \n",
    "    (\"classifier\", RandomForestClassifier())] # Init Random Forest classifier\n",
    "\n",
    "pipeline = Pipeline(stages)\n",
    "\n",
    "pipeline.fit(X_train, y_train)\n",
    "\n",
    "# Score the resulting model and determine which features were selected\n",
    "score = pipeline.score(X_test, y_test)\n",
    "k_features = X.columns.values[pipeline['selector'].get_support()]\n",
    "\n",
    "print(\"Model accuraccy: %f\" % (score))\n",
    "print(\"Selected features: %s\" % (k_features))"
   ]
  },
  {
   "cell_type": "markdown",
   "metadata": {},
   "source": [
    "### Visualizations"
   ]
  },
  {
   "cell_type": "code",
   "execution_count": 22,
   "metadata": {},
   "outputs": [
    {
     "data": {
      "text/plain": [
       "<sklearn.metrics._plot.det_curve.DetCurveDisplay at 0x12baed360>"
      ]
     },
     "execution_count": 22,
     "metadata": {},
     "output_type": "execute_result"
    },
    {
     "data": {
      "image/png": "[encoded data removed]",
      "text/plain": [
       "<Figure size 432x288 with 2 Axes>"
      ]
     },
     "metadata": {
      "needs_background": "light"
     },
     "output_type": "display_data"
    },
    {
     "data": {
      "image/png": "[encoded data removed]",
      "text/plain": [
       "<Figure size 432x288 with 1 Axes>"
      ]
     },
     "metadata": {
      "needs_background": "light"
     },
     "output_type": "display_data"
    },
    {
     "data": {
      "image/png": "[encoded data removed]",
      "text/plain": [
       "<Figure size 432x288 with 1 Axes>"
      ]
     },
     "metadata": {
      "needs_background": "light"
     },
     "output_type": "display_data"
    }
   ],
   "source": [
    "from sklearn.metrics import ConfusionMatrixDisplay, RocCurveDisplay, DetCurveDisplay\n",
    "\n",
    "ConfusionMatrixDisplay.from_estimator(pipeline, X_test, y_test)\n",
    "\n",
    "RocCurveDisplay.from_estimator(pipeline, X_test, y_test)\n",
    "\n",
    "DetCurveDisplay.from_estimator(pipeline, X_test, y_test)"
   ]
  }
 ],
 "metadata": {
  "interpreter": {
   "hash": "aee8b7b246df8f9039afb4144a1f6fd8d2ca17a180786b69acc140d282b71a49"
  },
  "kernelspec": {
   "display_name": "Python 3.10.0 64-bit",
   "language": "python",
   "name": "python3"
  },
  "language_info": {
   "codemirror_mode": {
    "name": "ipython",
    "version": 3
   },
   "file_extension": ".py",
   "mimetype": "text/x-python",
   "name": "python",
   "nbconvert_exporter": "python",
   "pygments_lexer": "ipython3",
   "version": "3.10.0"
  },
  "orig_nbformat": 4
 },
 "nbformat": 4,
 "nbformat_minor": 2
}
