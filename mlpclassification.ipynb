{
 "cells": [
  {
   "cell_type": "markdown",
   "metadata": {},
   "source": [
    "# Malicious Domain Dataset - Multi-layer Perceptron Classifier"
   ]
  },
  {
   "cell_type": "code",
   "execution_count": 36,
   "metadata": {},
   "outputs": [
    {
     "data": {
      "text/plain": [
       "0    32613\n",
       "1     3815\n",
       "Name: Class, dtype: int64"
      ]
     },
     "execution_count": 36,
     "metadata": {},
     "output_type": "execute_result"
    }
   ],
   "source": [
    "import pandas as pd\n",
    "from sklearn.neural_network import MLPClassifier\n",
    "from sklearn.model_selection import train_test_split\n",
    "\n",
    "# Load preprocessed dataset\n",
    "datasource = \"preprocessed.csv\"\n",
    "data = pd.read_csv(datasource)\n",
    "data.Class.value_counts()"
   ]
  },
  {
   "cell_type": "markdown",
   "metadata": {},
   "source": [
    "## Resampling\n",
    "\n",
    "As the preprocessed dataset is unbalanced, we resample to create a balanced set for training and testing."
   ]
  },
  {
   "cell_type": "code",
   "execution_count": 44,
   "metadata": {},
   "outputs": [
    {
     "data": {
      "text/plain": [
       "0    3815\n",
       "1    3815\n",
       "Name: Class, dtype: int64"
      ]
     },
     "execution_count": 44,
     "metadata": {},
     "output_type": "execute_result"
    }
   ],
   "source": [
    "from sklearn.utils import resample\n",
    "\n",
    "sample_size = min(data.Class.value_counts())\n",
    "\n",
    "malicious = resample(data.loc[data[\"Class\"] == 0], replace=False, n_samples=sample_size, random_state=42)\n",
    "benign = resample(data.loc[data[\"Class\"] == 1], replace=False, n_samples=sample_size, random_state=42)\n",
    "\n",
    "balanced = pd.concat([malicious, benign])\n",
    "balanced.Class.value_counts()"
   ]
  },
  {
   "cell_type": "markdown",
   "metadata": {},
   "source": [
    "## Cross-validation"
   ]
  },
  {
   "cell_type": "markdown",
   "metadata": {},
   "source": [
    "Here we assess how well an MLP classifier will generalize the dataset by performing 10-fold cross-validation."
   ]
  },
  {
   "cell_type": "code",
   "execution_count": 40,
   "metadata": {},
   "outputs": [
    {
     "data": {
      "text/html": [
       "<div>\n",
       "<style scoped>\n",
       "    .dataframe tbody tr th:only-of-type {\n",
       "        vertical-align: middle;\n",
       "    }\n",
       "\n",
       "    .dataframe tbody tr th {\n",
       "        vertical-align: top;\n",
       "    }\n",
       "\n",
       "    .dataframe thead th {\n",
       "        text-align: right;\n",
       "    }\n",
       "</style>\n",
       "<table border=\"1\" class=\"dataframe\">\n",
       "  <thead>\n",
       "    <tr style=\"text-align: right;\">\n",
       "      <th></th>\n",
       "      <th>fit_time</th>\n",
       "      <th>score_time</th>\n",
       "      <th>test_accuracy</th>\n",
       "      <th>test_f1</th>\n",
       "      <th>test_precision</th>\n",
       "      <th>test_recall</th>\n",
       "    </tr>\n",
       "  </thead>\n",
       "  <tbody>\n",
       "    <tr>\n",
       "      <th>0</th>\n",
       "      <td>5.720392</td>\n",
       "      <td>0.008197</td>\n",
       "      <td>0.968158</td>\n",
       "      <td>0.823708</td>\n",
       "      <td>0.981884</td>\n",
       "      <td>0.709424</td>\n",
       "    </tr>\n",
       "    <tr>\n",
       "      <th>1</th>\n",
       "      <td>10.252855</td>\n",
       "      <td>0.009758</td>\n",
       "      <td>0.975295</td>\n",
       "      <td>0.873596</td>\n",
       "      <td>0.942424</td>\n",
       "      <td>0.814136</td>\n",
       "    </tr>\n",
       "    <tr>\n",
       "      <th>2</th>\n",
       "      <td>5.527157</td>\n",
       "      <td>0.006407</td>\n",
       "      <td>0.993138</td>\n",
       "      <td>0.967490</td>\n",
       "      <td>0.961240</td>\n",
       "      <td>0.973822</td>\n",
       "    </tr>\n",
       "    <tr>\n",
       "      <th>3</th>\n",
       "      <td>6.588592</td>\n",
       "      <td>0.006818</td>\n",
       "      <td>0.996432</td>\n",
       "      <td>0.983139</td>\n",
       "      <td>0.974293</td>\n",
       "      <td>0.992147</td>\n",
       "    </tr>\n",
       "    <tr>\n",
       "      <th>4</th>\n",
       "      <td>5.883871</td>\n",
       "      <td>0.010610</td>\n",
       "      <td>0.991216</td>\n",
       "      <td>0.959184</td>\n",
       "      <td>0.935323</td>\n",
       "      <td>0.984293</td>\n",
       "    </tr>\n",
       "    <tr>\n",
       "      <th>5</th>\n",
       "      <td>7.539819</td>\n",
       "      <td>0.006787</td>\n",
       "      <td>0.940708</td>\n",
       "      <td>0.615658</td>\n",
       "      <td>0.955801</td>\n",
       "      <td>0.454068</td>\n",
       "    </tr>\n",
       "    <tr>\n",
       "      <th>6</th>\n",
       "      <td>4.109619</td>\n",
       "      <td>0.007353</td>\n",
       "      <td>0.987922</td>\n",
       "      <td>0.941333</td>\n",
       "      <td>0.956640</td>\n",
       "      <td>0.926509</td>\n",
       "    </tr>\n",
       "    <tr>\n",
       "      <th>7</th>\n",
       "      <td>6.147995</td>\n",
       "      <td>0.006213</td>\n",
       "      <td>0.988197</td>\n",
       "      <td>0.940361</td>\n",
       "      <td>0.997059</td>\n",
       "      <td>0.889764</td>\n",
       "    </tr>\n",
       "    <tr>\n",
       "      <th>8</th>\n",
       "      <td>7.343403</td>\n",
       "      <td>0.006240</td>\n",
       "      <td>0.992312</td>\n",
       "      <td>0.962366</td>\n",
       "      <td>0.986226</td>\n",
       "      <td>0.939633</td>\n",
       "    </tr>\n",
       "    <tr>\n",
       "      <th>9</th>\n",
       "      <td>4.493744</td>\n",
       "      <td>0.006175</td>\n",
       "      <td>0.991488</td>\n",
       "      <td>0.958831</td>\n",
       "      <td>0.970430</td>\n",
       "      <td>0.947507</td>\n",
       "    </tr>\n",
       "  </tbody>\n",
       "</table>\n",
       "</div>"
      ],
      "text/plain": [
       "    fit_time  score_time  test_accuracy   test_f1  test_precision  test_recall\n",
       "0   5.720392    0.008197       0.968158  0.823708        0.981884     0.709424\n",
       "1  10.252855    0.009758       0.975295  0.873596        0.942424     0.814136\n",
       "2   5.527157    0.006407       0.993138  0.967490        0.961240     0.973822\n",
       "3   6.588592    0.006818       0.996432  0.983139        0.974293     0.992147\n",
       "4   5.883871    0.010610       0.991216  0.959184        0.935323     0.984293\n",
       "5   7.539819    0.006787       0.940708  0.615658        0.955801     0.454068\n",
       "6   4.109619    0.007353       0.987922  0.941333        0.956640     0.926509\n",
       "7   6.147995    0.006213       0.988197  0.940361        0.997059     0.889764\n",
       "8   7.343403    0.006240       0.992312  0.962366        0.986226     0.939633\n",
       "9   4.493744    0.006175       0.991488  0.958831        0.970430     0.947507"
      ]
     },
     "execution_count": 40,
     "metadata": {},
     "output_type": "execute_result"
    }
   ],
   "source": [
    "from sklearn.model_selection import cross_validate\n",
    "\n",
    "clf = MLPClassifier()\n",
    "\n",
    "folds = 10\n",
    "metrics = [\"accuracy\", \"f1\", \"precision\", \"recall\"]\n",
    "scores = cross_validate(clf, X, y, scoring=metrics, cv=folds)\n",
    "\n",
    "scores = pd.DataFrame.from_dict(scores)\n",
    "scores"
   ]
  },
  {
   "cell_type": "code",
   "execution_count": 41,
   "metadata": {},
   "outputs": [
    {
     "data": {
      "text/plain": [
       "fit_time          6.360745\n",
       "score_time        0.007456\n",
       "test_accuracy     0.982487\n",
       "test_f1           0.902567\n",
       "test_precision    0.966132\n",
       "test_recall       0.863130\n",
       "dtype: float64"
      ]
     },
     "execution_count": 41,
     "metadata": {},
     "output_type": "execute_result"
    }
   ],
   "source": [
    "scores.mean()"
   ]
  },
  {
   "cell_type": "markdown",
   "metadata": {},
   "source": [
    "## Finalized Model"
   ]
  },
  {
   "cell_type": "code",
   "execution_count": 42,
   "metadata": {},
   "outputs": [
    {
     "data": {
      "text/plain": [
       "0.9676714722586283"
      ]
     },
     "execution_count": 42,
     "metadata": {},
     "output_type": "execute_result"
    }
   ],
   "source": [
    "clf = MLPClassifier()\n",
    "\n",
    "X = balanced.drop(columns=[\"Class\"])\n",
    "y = balanced[\"Class\"]\n",
    "X_train, X_test, y_train, y_test = train_test_split(X, y, train_size=0.4, random_state=42)\n",
    "\n",
    "clf.fit(X_train, y_train)\n",
    "clf.score(X_test, y_test)"
   ]
  },
  {
   "cell_type": "markdown",
   "metadata": {},
   "source": [
    "Note: For the above estimator the MLP hyperparameters were left as their default values. Using hyperparameter search methods the model could potentially be further improved."
   ]
  }
 ],
 "metadata": {
  "interpreter": {
   "hash": "aee8b7b246df8f9039afb4144a1f6fd8d2ca17a180786b69acc140d282b71a49"
  },
  "kernelspec": {
   "display_name": "Python 3.10.0 64-bit",
   "language": "python",
   "name": "python3"
  },
  "language_info": {
   "codemirror_mode": {
    "name": "ipython",
    "version": 3
   },
   "file_extension": ".py",
   "mimetype": "text/x-python",
   "name": "python",
   "nbconvert_exporter": "python",
   "pygments_lexer": "ipython3",
   "version": "3.10.0"
  },
  "orig_nbformat": 4
 },
 "nbformat": 4,
 "nbformat_minor": 2
}
