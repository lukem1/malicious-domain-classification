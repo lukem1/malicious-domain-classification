{
 "cells": [
  {
   "cell_type": "markdown",
   "metadata": {},
   "source": [
    "# Malicious Domain Dataset - Multi-layer Perceptron Classifier"
   ]
  },
  {
   "cell_type": "code",
   "execution_count": 21,
   "metadata": {},
   "outputs": [
    {
     "data": {
      "text/plain": [
       "0    32613\n",
       "1     3815\n",
       "Name: Class, dtype: int64"
      ]
     },
     "execution_count": 21,
     "metadata": {},
     "output_type": "execute_result"
    }
   ],
   "source": [
    "# Load preprocessed dataset\n",
    "\n",
    "import pandas as pd\n",
    "from sklearn.neural_network import MLPClassifier\n",
    "from sklearn.model_selection import train_test_split, StratifiedKFold\n",
    "\n",
    "datasource = \"preprocessed.csv\"\n",
    "data = pd.read_csv(datasource)\n",
    "data.Class.value_counts()"
   ]
  },
  {
   "cell_type": "code",
   "execution_count": 18,
   "metadata": {},
   "outputs": [
    {
     "data": {
      "text/plain": [
       "0.9862459546925566"
      ]
     },
     "execution_count": 18,
     "metadata": {},
     "output_type": "execute_result"
    }
   ],
   "source": [
    "# Simple model - no cross validation\n",
    "\n",
    "clf = MLPClassifier()\n",
    "\n",
    "X = data.drop(columns=[\"Class\"])\n",
    "y = data[\"Class\"]\n",
    "X_train, X_test, y_train, y_test = train_test_split(X, y, train_size=8000, random_state=42)\n",
    "\n",
    "y_train.value_counts()\n",
    "\n",
    "clf.fit(X_train, y_train)\n",
    "clf.score(X_test, y_test)"
   ]
  },
  {
   "cell_type": "markdown",
   "metadata": {},
   "source": [
    "## Resampling\n",
    "\n",
    "As the preprocessed dataset is unbalanced, we resample to create a balanced set for training and testing."
   ]
  },
  {
   "cell_type": "code",
   "execution_count": 20,
   "metadata": {},
   "outputs": [
    {
     "data": {
      "text/plain": [
       "0    3815\n",
       "1    3815\n",
       "Name: Class, dtype: int64"
      ]
     },
     "execution_count": 20,
     "metadata": {},
     "output_type": "execute_result"
    }
   ],
   "source": [
    "from sklearn.utils import resample\n",
    "\n",
    "sample_size = min(data.Class.value_counts())\n",
    "\n",
    "malicious = resample(data.loc[data[\"Class\"] == 0], replace=False, n_samples=sample_size, random_state=42)\n",
    "benign = resample(data.loc[data[\"Class\"] == 1], replace=False, n_samples=sample_size, random_state=42)\n",
    "\n",
    "balanced = pd.concat([malicious, benign])\n",
    "balanced.Class.value_counts()"
   ]
  },
  {
   "cell_type": "markdown",
   "metadata": {},
   "source": [
    "## Cross-validation"
   ]
  },
  {
   "cell_type": "code",
   "execution_count": 4,
   "metadata": {},
   "outputs": [
    {
     "data": {
      "text/html": [
       "<div>\n",
       "<style scoped>\n",
       "    .dataframe tbody tr th:only-of-type {\n",
       "        vertical-align: middle;\n",
       "    }\n",
       "\n",
       "    .dataframe tbody tr th {\n",
       "        vertical-align: top;\n",
       "    }\n",
       "\n",
       "    .dataframe thead th {\n",
       "        text-align: right;\n",
       "    }\n",
       "</style>\n",
       "<table border=\"1\" class=\"dataframe\">\n",
       "  <thead>\n",
       "    <tr style=\"text-align: right;\">\n",
       "      <th></th>\n",
       "      <th>fit_time</th>\n",
       "      <th>score_time</th>\n",
       "      <th>test_accuracy</th>\n",
       "      <th>test_f1</th>\n",
       "      <th>test_precision</th>\n",
       "      <th>test_recall</th>\n",
       "    </tr>\n",
       "  </thead>\n",
       "  <tbody>\n",
       "    <tr>\n",
       "      <th>0</th>\n",
       "      <td>2.123700</td>\n",
       "      <td>0.003812</td>\n",
       "      <td>0.979030</td>\n",
       "      <td>0.979275</td>\n",
       "      <td>0.966752</td>\n",
       "      <td>0.992126</td>\n",
       "    </tr>\n",
       "    <tr>\n",
       "      <th>1</th>\n",
       "      <td>1.992488</td>\n",
       "      <td>0.003989</td>\n",
       "      <td>0.975098</td>\n",
       "      <td>0.975033</td>\n",
       "      <td>0.976316</td>\n",
       "      <td>0.973753</td>\n",
       "    </tr>\n",
       "    <tr>\n",
       "      <th>2</th>\n",
       "      <td>3.229548</td>\n",
       "      <td>0.003792</td>\n",
       "      <td>0.975098</td>\n",
       "      <td>0.974768</td>\n",
       "      <td>0.986559</td>\n",
       "      <td>0.963255</td>\n",
       "    </tr>\n",
       "    <tr>\n",
       "      <th>3</th>\n",
       "      <td>2.404450</td>\n",
       "      <td>0.003647</td>\n",
       "      <td>0.980341</td>\n",
       "      <td>0.980443</td>\n",
       "      <td>0.974093</td>\n",
       "      <td>0.986877</td>\n",
       "    </tr>\n",
       "    <tr>\n",
       "      <th>4</th>\n",
       "      <td>2.417074</td>\n",
       "      <td>0.006196</td>\n",
       "      <td>0.967235</td>\n",
       "      <td>0.967148</td>\n",
       "      <td>0.968421</td>\n",
       "      <td>0.965879</td>\n",
       "    </tr>\n",
       "    <tr>\n",
       "      <th>5</th>\n",
       "      <td>2.307723</td>\n",
       "      <td>0.003796</td>\n",
       "      <td>0.980341</td>\n",
       "      <td>0.980289</td>\n",
       "      <td>0.984169</td>\n",
       "      <td>0.976440</td>\n",
       "    </tr>\n",
       "    <tr>\n",
       "      <th>6</th>\n",
       "      <td>2.664626</td>\n",
       "      <td>0.004671</td>\n",
       "      <td>0.979030</td>\n",
       "      <td>0.979058</td>\n",
       "      <td>0.979058</td>\n",
       "      <td>0.979058</td>\n",
       "    </tr>\n",
       "    <tr>\n",
       "      <th>7</th>\n",
       "      <td>2.698351</td>\n",
       "      <td>0.004075</td>\n",
       "      <td>0.976409</td>\n",
       "      <td>0.976316</td>\n",
       "      <td>0.981481</td>\n",
       "      <td>0.971204</td>\n",
       "    </tr>\n",
       "    <tr>\n",
       "      <th>8</th>\n",
       "      <td>3.121962</td>\n",
       "      <td>0.004215</td>\n",
       "      <td>0.976409</td>\n",
       "      <td>0.976000</td>\n",
       "      <td>0.994565</td>\n",
       "      <td>0.958115</td>\n",
       "    </tr>\n",
       "    <tr>\n",
       "      <th>9</th>\n",
       "      <td>2.673412</td>\n",
       "      <td>0.004063</td>\n",
       "      <td>0.984273</td>\n",
       "      <td>0.984456</td>\n",
       "      <td>0.974359</td>\n",
       "      <td>0.994764</td>\n",
       "    </tr>\n",
       "  </tbody>\n",
       "</table>\n",
       "</div>"
      ],
      "text/plain": [
       "   fit_time  score_time  test_accuracy   test_f1  test_precision  test_recall\n",
       "0  2.123700    0.003812       0.979030  0.979275        0.966752     0.992126\n",
       "1  1.992488    0.003989       0.975098  0.975033        0.976316     0.973753\n",
       "2  3.229548    0.003792       0.975098  0.974768        0.986559     0.963255\n",
       "3  2.404450    0.003647       0.980341  0.980443        0.974093     0.986877\n",
       "4  2.417074    0.006196       0.967235  0.967148        0.968421     0.965879\n",
       "5  2.307723    0.003796       0.980341  0.980289        0.984169     0.976440\n",
       "6  2.664626    0.004671       0.979030  0.979058        0.979058     0.979058\n",
       "7  2.698351    0.004075       0.976409  0.976316        0.981481     0.971204\n",
       "8  3.121962    0.004215       0.976409  0.976000        0.994565     0.958115\n",
       "9  2.673412    0.004063       0.984273  0.984456        0.974359     0.994764"
      ]
     },
     "execution_count": 4,
     "metadata": {},
     "output_type": "execute_result"
    }
   ],
   "source": [
    "from sklearn.model_selection import cross_validate\n",
    "\n",
    "folds = 10\n",
    "\n",
    "metrics = [\"accuracy\", \"f1\", \"precision\", \"recall\"]\n",
    "\n",
    "scores = cross_validate(clf, X, y, scoring=metrics, cv=folds)\n",
    "\n",
    "scores = pd.DataFrame.from_dict(scores)\n",
    "scores"
   ]
  },
  {
   "cell_type": "code",
   "execution_count": 27,
   "metadata": {},
   "outputs": [
    {
     "data": {
      "text/plain": [
       "Class  Prediction\n",
       "1      0             469\n",
       "0      1              24\n",
       "dtype: int64"
      ]
     },
     "execution_count": 27,
     "metadata": {},
     "output_type": "execute_result"
    }
   ],
   "source": [
    "# Manual testing\n",
    "all_X = data.drop(columns=\"Class\")\n",
    "all_y = data[\"Class\"]\n",
    "p = clf.predict(all_X)\n",
    "\n",
    "results = pd.DataFrame.from_dict({\"Class\": all_y, \"Prediction\": p})\n",
    "results.loc[results[\"Class\"] != results[\"Prediction\"]].value_counts()\n",
    "\n",
    "#Class  Prediction\n",
    "# 0      1             769\n",
    "# 1      0              74"
   ]
  }
 ],
 "metadata": {
  "interpreter": {
   "hash": "aee8b7b246df8f9039afb4144a1f6fd8d2ca17a180786b69acc140d282b71a49"
  },
  "kernelspec": {
   "display_name": "Python 3.10.0 64-bit",
   "language": "python",
   "name": "python3"
  },
  "language_info": {
   "codemirror_mode": {
    "name": "ipython",
    "version": 3
   },
   "file_extension": ".py",
   "mimetype": "text/x-python",
   "name": "python",
   "nbconvert_exporter": "python",
   "pygments_lexer": "ipython3",
   "version": "3.10.0"
  },
  "orig_nbformat": 4
 },
 "nbformat": 4,
 "nbformat_minor": 2
}
