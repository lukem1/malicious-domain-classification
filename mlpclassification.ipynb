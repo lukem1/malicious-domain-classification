{
 "cells": [
  {
   "cell_type": "markdown",
   "metadata": {},
   "source": [
    "# Malicious Domain Dataset - Multi-layer Perceptron Classifier"
   ]
  },
  {
   "cell_type": "code",
   "execution_count": 4,
   "metadata": {},
   "outputs": [
    {
     "data": {
      "text/plain": [
       "0    32613\n",
       "1     3815\n",
       "Name: Class, dtype: int64"
      ]
     },
     "execution_count": 4,
     "metadata": {},
     "output_type": "execute_result"
    }
   ],
   "source": [
    "import pandas as pd\n",
    "from sklearn.neural_network import MLPClassifier\n",
    "from sklearn.model_selection import train_test_split\n",
    "\n",
    "# Load preprocessed dataset\n",
    "datasource = \"preprocessed.csv\"\n",
    "data = pd.read_csv(datasource)\n",
    "data.Class.value_counts()"
   ]
  },
  {
   "cell_type": "markdown",
   "metadata": {},
   "source": [
    "## Resampling\n",
    "\n",
    "As the preprocessed dataset is unbalanced, we resample to create a balanced set for training and testing."
   ]
  },
  {
   "cell_type": "code",
   "execution_count": 5,
   "metadata": {},
   "outputs": [],
   "source": [
    "from sklearn.utils import resample\n",
    "\n",
    "sample_size = min(data.Class.value_counts())\n",
    "\n",
    "malicious = resample(data.loc[data[\"Class\"] == 0], replace=False, n_samples=sample_size, random_state=42)\n",
    "benign = resample(data.loc[data[\"Class\"] == 1], replace=False, n_samples=sample_size, random_state=42)\n",
    "\n",
    "balanced = pd.concat([malicious, benign])\n",
    "balanced.Class.value_counts()\n",
    "\n",
    "X = balanced.drop(columns=[\"Class\"])\n",
    "y = balanced[\"Class\"]"
   ]
  },
  {
   "cell_type": "markdown",
   "metadata": {},
   "source": [
    "## Cross-validation"
   ]
  },
  {
   "cell_type": "markdown",
   "metadata": {},
   "source": [
    "Here we assess how well an MLP classifier will generalize the dataset by performing 10-fold cross-validation."
   ]
  },
  {
   "cell_type": "code",
   "execution_count": 6,
   "metadata": {},
   "outputs": [
    {
     "data": {
      "text/html": [
       "<div>\n",
       "<style scoped>\n",
       "    .dataframe tbody tr th:only-of-type {\n",
       "        vertical-align: middle;\n",
       "    }\n",
       "\n",
       "    .dataframe tbody tr th {\n",
       "        vertical-align: top;\n",
       "    }\n",
       "\n",
       "    .dataframe thead th {\n",
       "        text-align: right;\n",
       "    }\n",
       "</style>\n",
       "<table border=\"1\" class=\"dataframe\">\n",
       "  <thead>\n",
       "    <tr style=\"text-align: right;\">\n",
       "      <th></th>\n",
       "      <th>fit_time</th>\n",
       "      <th>score_time</th>\n",
       "      <th>test_accuracy</th>\n",
       "      <th>test_f1</th>\n",
       "      <th>test_precision</th>\n",
       "      <th>test_recall</th>\n",
       "    </tr>\n",
       "  </thead>\n",
       "  <tbody>\n",
       "    <tr>\n",
       "      <th>0</th>\n",
       "      <td>3.100808</td>\n",
       "      <td>0.004038</td>\n",
       "      <td>0.975098</td>\n",
       "      <td>0.975484</td>\n",
       "      <td>0.959391</td>\n",
       "      <td>0.992126</td>\n",
       "    </tr>\n",
       "    <tr>\n",
       "      <th>1</th>\n",
       "      <td>2.397105</td>\n",
       "      <td>0.003668</td>\n",
       "      <td>0.975098</td>\n",
       "      <td>0.975033</td>\n",
       "      <td>0.976316</td>\n",
       "      <td>0.973753</td>\n",
       "    </tr>\n",
       "    <tr>\n",
       "      <th>2</th>\n",
       "      <td>2.127884</td>\n",
       "      <td>0.003649</td>\n",
       "      <td>0.981651</td>\n",
       "      <td>0.981771</td>\n",
       "      <td>0.974160</td>\n",
       "      <td>0.989501</td>\n",
       "    </tr>\n",
       "    <tr>\n",
       "      <th>3</th>\n",
       "      <td>2.928346</td>\n",
       "      <td>0.003677</td>\n",
       "      <td>0.973788</td>\n",
       "      <td>0.974026</td>\n",
       "      <td>0.964010</td>\n",
       "      <td>0.984252</td>\n",
       "    </tr>\n",
       "    <tr>\n",
       "      <th>4</th>\n",
       "      <td>2.182321</td>\n",
       "      <td>0.003765</td>\n",
       "      <td>0.961992</td>\n",
       "      <td>0.960864</td>\n",
       "      <td>0.988889</td>\n",
       "      <td>0.934383</td>\n",
       "    </tr>\n",
       "    <tr>\n",
       "      <th>5</th>\n",
       "      <td>2.046045</td>\n",
       "      <td>0.003850</td>\n",
       "      <td>0.980341</td>\n",
       "      <td>0.980595</td>\n",
       "      <td>0.969309</td>\n",
       "      <td>0.992147</td>\n",
       "    </tr>\n",
       "    <tr>\n",
       "      <th>6</th>\n",
       "      <td>2.156228</td>\n",
       "      <td>0.003633</td>\n",
       "      <td>0.980341</td>\n",
       "      <td>0.980443</td>\n",
       "      <td>0.976623</td>\n",
       "      <td>0.984293</td>\n",
       "    </tr>\n",
       "    <tr>\n",
       "      <th>7</th>\n",
       "      <td>2.299502</td>\n",
       "      <td>0.003744</td>\n",
       "      <td>0.963303</td>\n",
       "      <td>0.964286</td>\n",
       "      <td>0.940299</td>\n",
       "      <td>0.989529</td>\n",
       "    </tr>\n",
       "    <tr>\n",
       "      <th>8</th>\n",
       "      <td>1.924057</td>\n",
       "      <td>0.004065</td>\n",
       "      <td>0.985583</td>\n",
       "      <td>0.985545</td>\n",
       "      <td>0.989446</td>\n",
       "      <td>0.981675</td>\n",
       "    </tr>\n",
       "    <tr>\n",
       "      <th>9</th>\n",
       "      <td>1.922176</td>\n",
       "      <td>0.004221</td>\n",
       "      <td>0.980341</td>\n",
       "      <td>0.980080</td>\n",
       "      <td>0.994609</td>\n",
       "      <td>0.965969</td>\n",
       "    </tr>\n",
       "  </tbody>\n",
       "</table>\n",
       "</div>"
      ],
      "text/plain": [
       "   fit_time  score_time  test_accuracy   test_f1  test_precision  test_recall\n",
       "0  3.100808    0.004038       0.975098  0.975484        0.959391     0.992126\n",
       "1  2.397105    0.003668       0.975098  0.975033        0.976316     0.973753\n",
       "2  2.127884    0.003649       0.981651  0.981771        0.974160     0.989501\n",
       "3  2.928346    0.003677       0.973788  0.974026        0.964010     0.984252\n",
       "4  2.182321    0.003765       0.961992  0.960864        0.988889     0.934383\n",
       "5  2.046045    0.003850       0.980341  0.980595        0.969309     0.992147\n",
       "6  2.156228    0.003633       0.980341  0.980443        0.976623     0.984293\n",
       "7  2.299502    0.003744       0.963303  0.964286        0.940299     0.989529\n",
       "8  1.924057    0.004065       0.985583  0.985545        0.989446     0.981675\n",
       "9  1.922176    0.004221       0.980341  0.980080        0.994609     0.965969"
      ]
     },
     "execution_count": 6,
     "metadata": {},
     "output_type": "execute_result"
    }
   ],
   "source": [
    "from sklearn.model_selection import cross_validate\n",
    "\n",
    "clf = MLPClassifier()\n",
    "\n",
    "folds = 10\n",
    "metrics = [\"accuracy\", \"f1\", \"precision\", \"recall\"]\n",
    "scores = cross_validate(clf, X, y, scoring=metrics, cv=folds)\n",
    "\n",
    "scores = pd.DataFrame.from_dict(scores)\n",
    "scores"
   ]
  },
  {
   "cell_type": "code",
   "execution_count": 7,
   "metadata": {},
   "outputs": [
    {
     "data": {
      "text/plain": [
       "fit_time          2.308447\n",
       "score_time        0.003831\n",
       "test_accuracy     0.975754\n",
       "test_f1           0.975813\n",
       "test_precision    0.973305\n",
       "test_recall       0.978763\n",
       "dtype: float64"
      ]
     },
     "execution_count": 7,
     "metadata": {},
     "output_type": "execute_result"
    }
   ],
   "source": [
    "scores.mean()"
   ]
  },
  {
   "cell_type": "markdown",
   "metadata": {},
   "source": [
    "## Finalized Model"
   ]
  },
  {
   "cell_type": "code",
   "execution_count": 8,
   "metadata": {},
   "outputs": [
    {
     "data": {
      "text/plain": [
       "0.9709480122324159"
      ]
     },
     "execution_count": 8,
     "metadata": {},
     "output_type": "execute_result"
    }
   ],
   "source": [
    "clf = MLPClassifier()\n",
    "\n",
    "X_train, X_test, y_train, y_test = train_test_split(X, y, train_size=0.4, random_state=42)\n",
    "\n",
    "clf.fit(X_train, y_train)\n",
    "clf.score(X_test, y_test)"
   ]
  },
  {
   "cell_type": "markdown",
   "metadata": {},
   "source": [
    "Note: For the above estimator the MLP hyperparameters were left as their default values. Using hyperparameter search methods the model could potentially be further improved."
   ]
  }
 ],
 "metadata": {
  "interpreter": {
   "hash": "aee8b7b246df8f9039afb4144a1f6fd8d2ca17a180786b69acc140d282b71a49"
  },
  "kernelspec": {
   "display_name": "Python 3.10.0 64-bit",
   "language": "python",
   "name": "python3"
  },
  "language_info": {
   "codemirror_mode": {
    "name": "ipython",
    "version": 3
   },
   "file_extension": ".py",
   "mimetype": "text/x-python",
   "name": "python",
   "nbconvert_exporter": "python",
   "pygments_lexer": "ipython3",
   "version": "3.10.0"
  },
  "orig_nbformat": 4
 },
 "nbformat": 4,
 "nbformat_minor": 2
}
