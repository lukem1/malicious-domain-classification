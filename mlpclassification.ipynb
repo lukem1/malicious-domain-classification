{
 "cells": [
  {
   "cell_type": "markdown",
   "metadata": {},
   "source": [
    "# Malicious Domain Dataset - Multi-layer Perceptron Classifier"
   ]
  },
  {
   "cell_type": "code",
   "execution_count": 85,
   "metadata": {},
   "outputs": [
    {
     "data": {
      "text/plain": [
       "0    32613\n",
       "1     3815\n",
       "Name: Class, dtype: int64"
      ]
     },
     "execution_count": 85,
     "metadata": {},
     "output_type": "execute_result"
    }
   ],
   "source": [
    "import pandas as pd\n",
    "from sklearn.neural_network import MLPClassifier\n",
    "from sklearn.model_selection import train_test_split\n",
    "\n",
    "# Load preprocessed dataset\n",
    "datasource = \"preprocessed.csv\"\n",
    "data = pd.read_csv(datasource)\n",
    "data.Class.value_counts()"
   ]
  },
  {
   "cell_type": "markdown",
   "metadata": {},
   "source": [
    "## Resampling\n",
    "\n",
    "As the preprocessed dataset is unbalanced, we resample to create a balanced set for training and testing."
   ]
  },
  {
   "cell_type": "code",
   "execution_count": 86,
   "metadata": {},
   "outputs": [],
   "source": [
    "from sklearn.utils import resample\n",
    "\n",
    "sample_size = min(data.Class.value_counts())\n",
    "\n",
    "malicious = resample(data.loc[data[\"Class\"] == 0], replace=False, n_samples=sample_size, random_state=42)\n",
    "benign = resample(data.loc[data[\"Class\"] == 1], replace=False, n_samples=sample_size, random_state=42)\n",
    "\n",
    "balanced = pd.concat([malicious, benign])\n",
    "balanced.Class.value_counts()\n",
    "\n",
    "X = balanced.drop(columns=[\"Class\"])\n",
    "y = balanced[\"Class\"]"
   ]
  },
  {
   "cell_type": "markdown",
   "metadata": {},
   "source": [
    "## Cross-validation"
   ]
  },
  {
   "cell_type": "markdown",
   "metadata": {},
   "source": [
    "Here we assess how well an MLP classifier will generalize the dataset by performing 10-fold cross-validation."
   ]
  },
  {
   "cell_type": "code",
   "execution_count": 87,
   "metadata": {},
   "outputs": [
    {
     "data": {
      "text/html": [
       "<div>\n",
       "<style scoped>\n",
       "    .dataframe tbody tr th:only-of-type {\n",
       "        vertical-align: middle;\n",
       "    }\n",
       "\n",
       "    .dataframe tbody tr th {\n",
       "        vertical-align: top;\n",
       "    }\n",
       "\n",
       "    .dataframe thead th {\n",
       "        text-align: right;\n",
       "    }\n",
       "</style>\n",
       "<table border=\"1\" class=\"dataframe\">\n",
       "  <thead>\n",
       "    <tr style=\"text-align: right;\">\n",
       "      <th></th>\n",
       "      <th>fit_time</th>\n",
       "      <th>score_time</th>\n",
       "      <th>test_accuracy</th>\n",
       "      <th>test_f1</th>\n",
       "      <th>test_precision</th>\n",
       "      <th>test_recall</th>\n",
       "    </tr>\n",
       "  </thead>\n",
       "  <tbody>\n",
       "    <tr>\n",
       "      <th>0</th>\n",
       "      <td>5.063642</td>\n",
       "      <td>0.004027</td>\n",
       "      <td>0.982962</td>\n",
       "      <td>0.983007</td>\n",
       "      <td>0.979167</td>\n",
       "      <td>0.986877</td>\n",
       "    </tr>\n",
       "    <tr>\n",
       "      <th>1</th>\n",
       "      <td>4.652098</td>\n",
       "      <td>0.004683</td>\n",
       "      <td>0.981651</td>\n",
       "      <td>0.981675</td>\n",
       "      <td>0.979112</td>\n",
       "      <td>0.984252</td>\n",
       "    </tr>\n",
       "    <tr>\n",
       "      <th>2</th>\n",
       "      <td>5.557061</td>\n",
       "      <td>0.004042</td>\n",
       "      <td>0.982962</td>\n",
       "      <td>0.983051</td>\n",
       "      <td>0.976684</td>\n",
       "      <td>0.989501</td>\n",
       "    </tr>\n",
       "    <tr>\n",
       "      <th>3</th>\n",
       "      <td>5.858310</td>\n",
       "      <td>0.003872</td>\n",
       "      <td>0.972477</td>\n",
       "      <td>0.972332</td>\n",
       "      <td>0.976190</td>\n",
       "      <td>0.968504</td>\n",
       "    </tr>\n",
       "    <tr>\n",
       "      <th>4</th>\n",
       "      <td>4.959116</td>\n",
       "      <td>0.003890</td>\n",
       "      <td>0.975098</td>\n",
       "      <td>0.975163</td>\n",
       "      <td>0.971354</td>\n",
       "      <td>0.979003</td>\n",
       "    </tr>\n",
       "    <tr>\n",
       "      <th>5</th>\n",
       "      <td>4.905289</td>\n",
       "      <td>0.004212</td>\n",
       "      <td>0.986894</td>\n",
       "      <td>0.986911</td>\n",
       "      <td>0.986911</td>\n",
       "      <td>0.986911</td>\n",
       "    </tr>\n",
       "    <tr>\n",
       "      <th>6</th>\n",
       "      <td>5.364337</td>\n",
       "      <td>0.003881</td>\n",
       "      <td>0.982962</td>\n",
       "      <td>0.983051</td>\n",
       "      <td>0.979221</td>\n",
       "      <td>0.986911</td>\n",
       "    </tr>\n",
       "    <tr>\n",
       "      <th>7</th>\n",
       "      <td>4.785631</td>\n",
       "      <td>0.003949</td>\n",
       "      <td>0.981651</td>\n",
       "      <td>0.981818</td>\n",
       "      <td>0.974227</td>\n",
       "      <td>0.989529</td>\n",
       "    </tr>\n",
       "    <tr>\n",
       "      <th>8</th>\n",
       "      <td>5.991479</td>\n",
       "      <td>0.004580</td>\n",
       "      <td>0.993447</td>\n",
       "      <td>0.993447</td>\n",
       "      <td>0.994751</td>\n",
       "      <td>0.992147</td>\n",
       "    </tr>\n",
       "    <tr>\n",
       "      <th>9</th>\n",
       "      <td>5.672817</td>\n",
       "      <td>0.004495</td>\n",
       "      <td>0.977720</td>\n",
       "      <td>0.977424</td>\n",
       "      <td>0.991914</td>\n",
       "      <td>0.963351</td>\n",
       "    </tr>\n",
       "  </tbody>\n",
       "</table>\n",
       "</div>"
      ],
      "text/plain": [
       "   fit_time  score_time  test_accuracy   test_f1  test_precision  test_recall\n",
       "0  5.063642    0.004027       0.982962  0.983007        0.979167     0.986877\n",
       "1  4.652098    0.004683       0.981651  0.981675        0.979112     0.984252\n",
       "2  5.557061    0.004042       0.982962  0.983051        0.976684     0.989501\n",
       "3  5.858310    0.003872       0.972477  0.972332        0.976190     0.968504\n",
       "4  4.959116    0.003890       0.975098  0.975163        0.971354     0.979003\n",
       "5  4.905289    0.004212       0.986894  0.986911        0.986911     0.986911\n",
       "6  5.364337    0.003881       0.982962  0.983051        0.979221     0.986911\n",
       "7  4.785631    0.003949       0.981651  0.981818        0.974227     0.989529\n",
       "8  5.991479    0.004580       0.993447  0.993447        0.994751     0.992147\n",
       "9  5.672817    0.004495       0.977720  0.977424        0.991914     0.963351"
      ]
     },
     "execution_count": 87,
     "metadata": {},
     "output_type": "execute_result"
    }
   ],
   "source": [
    "from sklearn.model_selection import cross_validate\n",
    "from sklearn.pipeline import Pipeline\n",
    "from sklearn.preprocessing import StandardScaler\n",
    "\n",
    "clf = MLPClassifier(max_iter=500)\n",
    "\n",
    "stages = [(\"scaler\", StandardScaler()), (\"classifier\", clf)]\n",
    "pipeline = Pipeline(stages)\n",
    "\n",
    "folds = 10\n",
    "metrics = [\"accuracy\", \"f1\", \"precision\", \"recall\"]\n",
    "scores = cross_validate(pipeline, X, y, scoring=metrics, cv=folds)\n",
    "\n",
    "scores = pd.DataFrame.from_dict(scores)\n",
    "scores"
   ]
  },
  {
   "cell_type": "code",
   "execution_count": 88,
   "metadata": {},
   "outputs": [
    {
     "data": {
      "text/plain": [
       "fit_time          5.280978\n",
       "score_time        0.004163\n",
       "test_accuracy     0.981782\n",
       "test_f1           0.981788\n",
       "test_precision    0.980953\n",
       "test_recall       0.982698\n",
       "dtype: float64"
      ]
     },
     "execution_count": 88,
     "metadata": {},
     "output_type": "execute_result"
    }
   ],
   "source": [
    "scores.mean()"
   ]
  },
  {
   "cell_type": "markdown",
   "metadata": {},
   "source": [
    "## Finalized Model"
   ]
  },
  {
   "cell_type": "code",
   "execution_count": 89,
   "metadata": {},
   "outputs": [
    {
     "data": {
      "text/plain": [
       "0.9792485801660114"
      ]
     },
     "execution_count": 89,
     "metadata": {},
     "output_type": "execute_result"
    }
   ],
   "source": [
    "clf = MLPClassifier(max_iter=500)\n",
    "\n",
    "X_train, X_test, y_train, y_test = train_test_split(X, y, train_size=0.4, random_state=42)\n",
    "\n",
    "stages = [(\"scaler\", StandardScaler()), (\"classifier\", clf)]\n",
    "pipeline = Pipeline(stages)\n",
    "\n",
    "pipeline.fit(X_train, y_train)\n",
    "pipeline.score(X_test, y_test)"
   ]
  },
  {
   "cell_type": "markdown",
   "metadata": {},
   "source": [
    "Note: For the above estimator the MLP hyperparameters were left as their default values. Using hyperparameter search methods the model could potentially be further improved."
   ]
  },
  {
   "cell_type": "markdown",
   "metadata": {},
   "source": [
    "### Visualizations"
   ]
  },
  {
   "cell_type": "code",
   "execution_count": 90,
   "metadata": {},
   "outputs": [
    {
     "data": {
      "text/plain": [
       "<sklearn.metrics._plot.det_curve.DetCurveDisplay at 0x136422470>"
      ]
     },
     "execution_count": 90,
     "metadata": {},
     "output_type": "execute_result"
    },
    {
     "data": {
      "image/png": "[encoded data removed]",
      "text/plain": [
       "<Figure size 432x288 with 2 Axes>"
      ]
     },
     "metadata": {
      "needs_background": "light"
     },
     "output_type": "display_data"
    },
    {
     "data": {
      "image/png": "[encoded data removed]",
      "text/plain": [
       "<Figure size 432x288 with 1 Axes>"
      ]
     },
     "metadata": {
      "needs_background": "light"
     },
     "output_type": "display_data"
    },
    {
     "data": {
      "image/png": "[encoded data removed]",
      "text/plain": [
       "<Figure size 432x288 with 1 Axes>"
      ]
     },
     "metadata": {
      "needs_background": "light"
     },
     "output_type": "display_data"
    }
   ],
   "source": [
    "from sklearn.metrics import ConfusionMatrixDisplay, RocCurveDisplay, DetCurveDisplay\n",
    "\n",
    "ConfusionMatrixDisplay.from_estimator(pipeline, X_test, y_test)\n",
    "\n",
    "RocCurveDisplay.from_estimator(pipeline, X_test, y_test)\n",
    "\n",
    "DetCurveDisplay.from_estimator(pipeline, X_test, y_test)"
   ]
  }
 ],
 "metadata": {
  "interpreter": {
   "hash": "aee8b7b246df8f9039afb4144a1f6fd8d2ca17a180786b69acc140d282b71a49"
  },
  "kernelspec": {
   "display_name": "Python 3.10.0 64-bit",
   "language": "python",
   "name": "python3"
  },
  "language_info": {
   "codemirror_mode": {
    "name": "ipython",
    "version": 3
   },
   "file_extension": ".py",
   "mimetype": "text/x-python",
   "name": "python",
   "nbconvert_exporter": "python",
   "pygments_lexer": "ipython3",
   "version": "3.10.0"
  },
  "orig_nbformat": 4
 },
 "nbformat": 4,
 "nbformat_minor": 2
}
