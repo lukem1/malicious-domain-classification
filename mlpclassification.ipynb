{
 "cells": [
  {
   "cell_type": "markdown",
   "metadata": {},
   "source": [
    "# Malicious Domain Dataset - Multi-layer Perceptron Classifier"
   ]
  },
  {
   "cell_type": "code",
   "execution_count": 6,
   "metadata": {},
   "outputs": [
    {
     "data": {
      "text/plain": [
       "0    32613\n",
       "1     3815\n",
       "Name: Class, dtype: int64"
      ]
     },
     "execution_count": 6,
     "metadata": {},
     "output_type": "execute_result"
    }
   ],
   "source": [
    "import pandas as pd\n",
    "from sklearn.neural_network import MLPClassifier\n",
    "from sklearn.model_selection import train_test_split\n",
    "\n",
    "# Load preprocessed dataset\n",
    "datasource = \"preprocessed.csv\"\n",
    "data = pd.read_csv(datasource)\n",
    "data.Class.value_counts()"
   ]
  },
  {
   "cell_type": "markdown",
   "metadata": {},
   "source": [
    "## Resampling\n",
    "\n",
    "As the preprocessed dataset is unbalanced, we resample to create a balanced set for training and testing."
   ]
  },
  {
   "cell_type": "code",
   "execution_count": 7,
   "metadata": {},
   "outputs": [],
   "source": [
    "from sklearn.utils import resample\n",
    "\n",
    "sample_size = min(data.Class.value_counts())\n",
    "\n",
    "malicious = resample(data.loc[data[\"Class\"] == 0], replace=False, n_samples=sample_size, random_state=42)\n",
    "benign = resample(data.loc[data[\"Class\"] == 1], replace=False, n_samples=sample_size, random_state=42)\n",
    "\n",
    "balanced = pd.concat([malicious, benign])\n",
    "balanced.Class.value_counts()\n",
    "\n",
    "X = balanced.drop(columns=[\"Class\"])\n",
    "y = balanced[\"Class\"]"
   ]
  },
  {
   "cell_type": "markdown",
   "metadata": {},
   "source": [
    "## Cross-validation"
   ]
  },
  {
   "cell_type": "markdown",
   "metadata": {},
   "source": [
    "Here we assess how well an MLP classifier will generalize the dataset by performing 10-fold cross-validation."
   ]
  },
  {
   "cell_type": "code",
   "execution_count": 25,
   "metadata": {},
   "outputs": [
    {
     "data": {
      "text/html": [
       "<div>\n",
       "<style scoped>\n",
       "    .dataframe tbody tr th:only-of-type {\n",
       "        vertical-align: middle;\n",
       "    }\n",
       "\n",
       "    .dataframe tbody tr th {\n",
       "        vertical-align: top;\n",
       "    }\n",
       "\n",
       "    .dataframe thead th {\n",
       "        text-align: right;\n",
       "    }\n",
       "</style>\n",
       "<table border=\"1\" class=\"dataframe\">\n",
       "  <thead>\n",
       "    <tr style=\"text-align: right;\">\n",
       "      <th></th>\n",
       "      <th>fit_time</th>\n",
       "      <th>score_time</th>\n",
       "      <th>test_accuracy</th>\n",
       "      <th>test_f1</th>\n",
       "      <th>test_precision</th>\n",
       "      <th>test_recall</th>\n",
       "    </tr>\n",
       "  </thead>\n",
       "  <tbody>\n",
       "    <tr>\n",
       "      <th>0</th>\n",
       "      <td>4.831520</td>\n",
       "      <td>0.004489</td>\n",
       "      <td>0.984273</td>\n",
       "      <td>0.984293</td>\n",
       "      <td>0.981723</td>\n",
       "      <td>0.986877</td>\n",
       "    </tr>\n",
       "    <tr>\n",
       "      <th>1</th>\n",
       "      <td>5.144829</td>\n",
       "      <td>0.003754</td>\n",
       "      <td>0.977720</td>\n",
       "      <td>0.977836</td>\n",
       "      <td>0.971503</td>\n",
       "      <td>0.984252</td>\n",
       "    </tr>\n",
       "    <tr>\n",
       "      <th>2</th>\n",
       "      <td>6.130333</td>\n",
       "      <td>0.003791</td>\n",
       "      <td>0.986894</td>\n",
       "      <td>0.986911</td>\n",
       "      <td>0.984334</td>\n",
       "      <td>0.989501</td>\n",
       "    </tr>\n",
       "    <tr>\n",
       "      <th>3</th>\n",
       "      <td>5.550243</td>\n",
       "      <td>0.004805</td>\n",
       "      <td>0.979030</td>\n",
       "      <td>0.978947</td>\n",
       "      <td>0.981530</td>\n",
       "      <td>0.976378</td>\n",
       "    </tr>\n",
       "    <tr>\n",
       "      <th>4</th>\n",
       "      <td>5.275499</td>\n",
       "      <td>0.004753</td>\n",
       "      <td>0.973788</td>\n",
       "      <td>0.973822</td>\n",
       "      <td>0.971279</td>\n",
       "      <td>0.976378</td>\n",
       "    </tr>\n",
       "    <tr>\n",
       "      <th>5</th>\n",
       "      <td>5.744339</td>\n",
       "      <td>0.004631</td>\n",
       "      <td>0.986894</td>\n",
       "      <td>0.986877</td>\n",
       "      <td>0.989474</td>\n",
       "      <td>0.984293</td>\n",
       "    </tr>\n",
       "    <tr>\n",
       "      <th>6</th>\n",
       "      <td>4.853648</td>\n",
       "      <td>0.004337</td>\n",
       "      <td>0.984273</td>\n",
       "      <td>0.984416</td>\n",
       "      <td>0.976804</td>\n",
       "      <td>0.992147</td>\n",
       "    </tr>\n",
       "    <tr>\n",
       "      <th>7</th>\n",
       "      <td>4.968927</td>\n",
       "      <td>0.004915</td>\n",
       "      <td>0.989515</td>\n",
       "      <td>0.989529</td>\n",
       "      <td>0.989529</td>\n",
       "      <td>0.989529</td>\n",
       "    </tr>\n",
       "    <tr>\n",
       "      <th>8</th>\n",
       "      <td>5.127678</td>\n",
       "      <td>0.004621</td>\n",
       "      <td>0.990826</td>\n",
       "      <td>0.990850</td>\n",
       "      <td>0.989556</td>\n",
       "      <td>0.992147</td>\n",
       "    </tr>\n",
       "    <tr>\n",
       "      <th>9</th>\n",
       "      <td>4.783918</td>\n",
       "      <td>0.004408</td>\n",
       "      <td>0.977720</td>\n",
       "      <td>0.977483</td>\n",
       "      <td>0.989276</td>\n",
       "      <td>0.965969</td>\n",
       "    </tr>\n",
       "  </tbody>\n",
       "</table>\n",
       "</div>"
      ],
      "text/plain": [
       "   fit_time  score_time  test_accuracy   test_f1  test_precision  test_recall\n",
       "0  4.831520    0.004489       0.984273  0.984293        0.981723     0.986877\n",
       "1  5.144829    0.003754       0.977720  0.977836        0.971503     0.984252\n",
       "2  6.130333    0.003791       0.986894  0.986911        0.984334     0.989501\n",
       "3  5.550243    0.004805       0.979030  0.978947        0.981530     0.976378\n",
       "4  5.275499    0.004753       0.973788  0.973822        0.971279     0.976378\n",
       "5  5.744339    0.004631       0.986894  0.986877        0.989474     0.984293\n",
       "6  4.853648    0.004337       0.984273  0.984416        0.976804     0.992147\n",
       "7  4.968927    0.004915       0.989515  0.989529        0.989529     0.989529\n",
       "8  5.127678    0.004621       0.990826  0.990850        0.989556     0.992147\n",
       "9  4.783918    0.004408       0.977720  0.977483        0.989276     0.965969"
      ]
     },
     "execution_count": 25,
     "metadata": {},
     "output_type": "execute_result"
    }
   ],
   "source": [
    "from sklearn.model_selection import cross_validate\n",
    "from sklearn.pipeline import Pipeline\n",
    "from sklearn.preprocessing import StandardScaler\n",
    "\n",
    "clf = MLPClassifier(max_iter=500)\n",
    "\n",
    "stages = [(\"scaler\", StandardScaler()), (\"classifier\", clf)]\n",
    "pipeline = Pipeline(stages)\n",
    "\n",
    "folds = 10\n",
    "metrics = [\"accuracy\", \"f1\", \"precision\", \"recall\"]\n",
    "scores = cross_validate(pipeline, X, y, scoring=metrics, cv=folds)\n",
    "\n",
    "scores = pd.DataFrame.from_dict(scores)\n",
    "scores"
   ]
  },
  {
   "cell_type": "code",
   "execution_count": 9,
   "metadata": {},
   "outputs": [
    {
     "data": {
      "text/plain": [
       "fit_time          4.392021\n",
       "score_time        0.004833\n",
       "test_accuracy     0.983224\n",
       "test_f1           0.983218\n",
       "test_precision    0.983003\n",
       "test_recall       0.983489\n",
       "dtype: float64"
      ]
     },
     "execution_count": 9,
     "metadata": {},
     "output_type": "execute_result"
    }
   ],
   "source": [
    "scores.mean()"
   ]
  },
  {
   "cell_type": "markdown",
   "metadata": {},
   "source": [
    "## Finalized Model"
   ]
  },
  {
   "cell_type": "code",
   "execution_count": 30,
   "metadata": {},
   "outputs": [
    {
     "data": {
      "text/plain": [
       "0.9803407601572739"
      ]
     },
     "execution_count": 30,
     "metadata": {},
     "output_type": "execute_result"
    }
   ],
   "source": [
    "clf = MLPClassifier(max_iter=500)\n",
    "\n",
    "X_train, X_test, y_train, y_test = train_test_split(X, y, train_size=0.4, random_state=42)\n",
    "\n",
    "stages = [(\"scaler\", StandardScaler()), (\"classifier\", clf)]\n",
    "pipeline = Pipeline(stages)\n",
    "\n",
    "pipeline.fit(X_train, y_train)\n",
    "pipeline.score(X_test, y_test)"
   ]
  },
  {
   "cell_type": "markdown",
   "metadata": {},
   "source": [
    "Note: For the above estimator the MLP hyperparameters were left as their default values. Using hyperparameter search methods the model could potentially be further improved."
   ]
  }
 ],
 "metadata": {
  "interpreter": {
   "hash": "aee8b7b246df8f9039afb4144a1f6fd8d2ca17a180786b69acc140d282b71a49"
  },
  "kernelspec": {
   "display_name": "Python 3.10.0 64-bit",
   "language": "python",
   "name": "python3"
  },
  "language_info": {
   "codemirror_mode": {
    "name": "ipython",
    "version": 3
   },
   "file_extension": ".py",
   "mimetype": "text/x-python",
   "name": "python",
   "nbconvert_exporter": "python",
   "pygments_lexer": "ipython3",
   "version": "3.10.0"
  },
  "orig_nbformat": 4
 },
 "nbformat": 4,
 "nbformat_minor": 2
}
