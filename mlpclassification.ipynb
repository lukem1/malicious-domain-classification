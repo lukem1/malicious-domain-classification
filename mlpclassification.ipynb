{
 "cells": [
  {
   "cell_type": "markdown",
   "metadata": {},
   "source": [
    "# Malicious Domain Dataset - Multi-layer Perceptron Classifier"
   ]
  },
  {
   "cell_type": "code",
   "execution_count": 16,
   "metadata": {},
   "outputs": [],
   "source": [
    "# Load preprocessed dataset\n",
    "\n",
    "import pandas as pd\n",
    "from sklearn.neural_network import MLPClassifier\n",
    "from sklearn.model_selection import train_test_split, StratifiedKFold\n",
    "\n",
    "datasource = \"preprocessed.csv\"\n",
    "data = pd.read_csv(datasource)"
   ]
  },
  {
   "cell_type": "code",
   "execution_count": 28,
   "metadata": {},
   "outputs": [
    {
     "data": {
      "text/plain": [
       "0.9895525538201773"
      ]
     },
     "execution_count": 28,
     "metadata": {},
     "output_type": "execute_result"
    }
   ],
   "source": [
    "# Simple model - no cross validation\n",
    "\n",
    "clf = MLPClassifier()\n",
    "\n",
    "X = data.drop(columns=[\"Class\"])\n",
    "y = data[\"Class\"]\n",
    "X_train, X_test, y_train, y_test = train_test_split(X, y, train_size=8000, random_state=42)\n",
    "\n",
    "y_train.value_counts()\n",
    "\n",
    "clf.fit(X_train, y_train)\n",
    "clf.score(X_test, y_test)"
   ]
  },
  {
   "cell_type": "markdown",
   "metadata": {},
   "source": [
    "## Resampling\n",
    "\n",
    "As the preprocessed dataset is unbalanced, we resample to create a balanced set for training and testing."
   ]
  },
  {
   "cell_type": "code",
   "execution_count": 27,
   "metadata": {},
   "outputs": [
    {
     "data": {
      "text/plain": [
       "0.9764089121887287"
      ]
     },
     "execution_count": 27,
     "metadata": {},
     "output_type": "execute_result"
    }
   ],
   "source": [
    "from sklearn.utils import resample\n",
    "\n",
    "sample_size = min(data.Class.value_counts())\n",
    "\n",
    "malicious = resample(data.loc[data[\"Class\"] == 0], replace=False, n_samples=sample_size, random_state=42)\n",
    "benign = resample(data.loc[data[\"Class\"] == 1], replace=False, n_samples=sample_size, random_state=42)\n",
    "\n",
    "balanced = pd.concat([malicious, benign])\n",
    "\n",
    "# Test model\n",
    "\n",
    "clf = MLPClassifier()\n",
    "\n",
    "X = balanced.drop(columns=[\"Class\"])\n",
    "y = balanced[\"Class\"]\n",
    "X_train, X_test, y_train, y_test = train_test_split(X, y, test_size=0.4, random_state=42)\n",
    "\n",
    "clf.fit(X_train, y_train)\n",
    "clf.score(X_test, y_test)"
   ]
  },
  {
   "cell_type": "markdown",
   "metadata": {},
   "source": [
    "## Cross-validation"
   ]
  },
  {
   "cell_type": "code",
   "execution_count": null,
   "metadata": {},
   "outputs": [],
   "source": []
  }
 ],
 "metadata": {
  "interpreter": {
   "hash": "aee8b7b246df8f9039afb4144a1f6fd8d2ca17a180786b69acc140d282b71a49"
  },
  "kernelspec": {
   "display_name": "Python 3.10.0 64-bit",
   "language": "python",
   "name": "python3"
  },
  "language_info": {
   "codemirror_mode": {
    "name": "ipython",
    "version": 3
   },
   "file_extension": ".py",
   "mimetype": "text/x-python",
   "name": "python",
   "nbconvert_exporter": "python",
   "pygments_lexer": "ipython3",
   "version": "3.10.0"
  },
  "orig_nbformat": 4
 },
 "nbformat": 4,
 "nbformat_minor": 2
}
