{
 "cells": [
  {
   "cell_type": "markdown",
   "metadata": {},
   "source": [
    "# Malicious Domain Dataset - Multi-layer Perceptron Classifier"
   ]
  },
  {
   "cell_type": "code",
   "execution_count": 41,
   "metadata": {},
   "outputs": [
    {
     "data": {
      "text/plain": [
       "0    32613\n",
       "1     3815\n",
       "Name: Class, dtype: int64"
      ]
     },
     "execution_count": 41,
     "metadata": {},
     "output_type": "execute_result"
    }
   ],
   "source": [
    "import pandas as pd\n",
    "\n",
    "# Load preprocessed dataset\n",
    "datasource = \"preprocessed.csv\"\n",
    "data = pd.read_csv(datasource)\n",
    "data.Class.value_counts()"
   ]
  },
  {
   "cell_type": "markdown",
   "metadata": {},
   "source": [
    "## Resampling\n",
    "\n",
    "As the preprocessed dataset is unbalanced, we resample to create a balanced set for training and testing."
   ]
  },
  {
   "cell_type": "code",
   "execution_count": 42,
   "metadata": {},
   "outputs": [],
   "source": [
    "from sklearn.utils import resample\n",
    "\n",
    "sample_size = min(data.Class.value_counts())\n",
    "\n",
    "malicious = resample(data.loc[data[\"Class\"] == 0], replace=False, n_samples=sample_size, random_state=42)\n",
    "benign = resample(data.loc[data[\"Class\"] == 1], replace=False, n_samples=sample_size, random_state=42)\n",
    "\n",
    "balanced = pd.concat([malicious, benign])\n",
    "balanced.Class.value_counts()\n",
    "\n",
    "X = balanced.drop(columns=[\"Class\"])\n",
    "y = balanced[\"Class\"]"
   ]
  },
  {
   "cell_type": "markdown",
   "metadata": {},
   "source": [
    "## Cross-validation"
   ]
  },
  {
   "cell_type": "markdown",
   "metadata": {},
   "source": [
    "Here we assess how well an MLP classifier will generalize the dataset by performing 10-fold cross-validation."
   ]
  },
  {
   "cell_type": "code",
   "execution_count": 43,
   "metadata": {},
   "outputs": [
    {
     "data": {
      "text/html": [
       "<div>\n",
       "<style scoped>\n",
       "    .dataframe tbody tr th:only-of-type {\n",
       "        vertical-align: middle;\n",
       "    }\n",
       "\n",
       "    .dataframe tbody tr th {\n",
       "        vertical-align: top;\n",
       "    }\n",
       "\n",
       "    .dataframe thead th {\n",
       "        text-align: right;\n",
       "    }\n",
       "</style>\n",
       "<table border=\"1\" class=\"dataframe\">\n",
       "  <thead>\n",
       "    <tr style=\"text-align: right;\">\n",
       "      <th></th>\n",
       "      <th>fit_time</th>\n",
       "      <th>score_time</th>\n",
       "      <th>test_accuracy</th>\n",
       "      <th>test_f1</th>\n",
       "      <th>test_precision</th>\n",
       "      <th>test_recall</th>\n",
       "    </tr>\n",
       "  </thead>\n",
       "  <tbody>\n",
       "    <tr>\n",
       "      <th>0</th>\n",
       "      <td>5.569755</td>\n",
       "      <td>0.004144</td>\n",
       "      <td>0.963303</td>\n",
       "      <td>0.963824</td>\n",
       "      <td>0.949109</td>\n",
       "      <td>0.979003</td>\n",
       "    </tr>\n",
       "    <tr>\n",
       "      <th>1</th>\n",
       "      <td>5.262195</td>\n",
       "      <td>0.004651</td>\n",
       "      <td>0.965924</td>\n",
       "      <td>0.966321</td>\n",
       "      <td>0.953964</td>\n",
       "      <td>0.979003</td>\n",
       "    </tr>\n",
       "    <tr>\n",
       "      <th>2</th>\n",
       "      <td>5.624675</td>\n",
       "      <td>0.004327</td>\n",
       "      <td>0.975098</td>\n",
       "      <td>0.975357</td>\n",
       "      <td>0.964103</td>\n",
       "      <td>0.986877</td>\n",
       "    </tr>\n",
       "    <tr>\n",
       "      <th>3</th>\n",
       "      <td>5.996362</td>\n",
       "      <td>0.004537</td>\n",
       "      <td>0.960682</td>\n",
       "      <td>0.961832</td>\n",
       "      <td>0.933333</td>\n",
       "      <td>0.992126</td>\n",
       "    </tr>\n",
       "    <tr>\n",
       "      <th>4</th>\n",
       "      <td>4.260468</td>\n",
       "      <td>0.004381</td>\n",
       "      <td>0.956750</td>\n",
       "      <td>0.957529</td>\n",
       "      <td>0.939394</td>\n",
       "      <td>0.976378</td>\n",
       "    </tr>\n",
       "    <tr>\n",
       "      <th>5</th>\n",
       "      <td>6.334947</td>\n",
       "      <td>0.004734</td>\n",
       "      <td>0.965924</td>\n",
       "      <td>0.966057</td>\n",
       "      <td>0.963542</td>\n",
       "      <td>0.968586</td>\n",
       "    </tr>\n",
       "    <tr>\n",
       "      <th>6</th>\n",
       "      <td>6.613716</td>\n",
       "      <td>0.004871</td>\n",
       "      <td>0.968545</td>\n",
       "      <td>0.969072</td>\n",
       "      <td>0.954315</td>\n",
       "      <td>0.984293</td>\n",
       "    </tr>\n",
       "    <tr>\n",
       "      <th>7</th>\n",
       "      <td>6.406361</td>\n",
       "      <td>0.004621</td>\n",
       "      <td>0.961992</td>\n",
       "      <td>0.962484</td>\n",
       "      <td>0.951407</td>\n",
       "      <td>0.973822</td>\n",
       "    </tr>\n",
       "    <tr>\n",
       "      <th>8</th>\n",
       "      <td>6.371844</td>\n",
       "      <td>0.004685</td>\n",
       "      <td>0.975098</td>\n",
       "      <td>0.975357</td>\n",
       "      <td>0.966581</td>\n",
       "      <td>0.984293</td>\n",
       "    </tr>\n",
       "    <tr>\n",
       "      <th>9</th>\n",
       "      <td>7.107404</td>\n",
       "      <td>0.004592</td>\n",
       "      <td>0.981651</td>\n",
       "      <td>0.981723</td>\n",
       "      <td>0.979167</td>\n",
       "      <td>0.984293</td>\n",
       "    </tr>\n",
       "  </tbody>\n",
       "</table>\n",
       "</div>"
      ],
      "text/plain": [
       "   fit_time  score_time  test_accuracy   test_f1  test_precision  test_recall\n",
       "0  5.569755    0.004144       0.963303  0.963824        0.949109     0.979003\n",
       "1  5.262195    0.004651       0.965924  0.966321        0.953964     0.979003\n",
       "2  5.624675    0.004327       0.975098  0.975357        0.964103     0.986877\n",
       "3  5.996362    0.004537       0.960682  0.961832        0.933333     0.992126\n",
       "4  4.260468    0.004381       0.956750  0.957529        0.939394     0.976378\n",
       "5  6.334947    0.004734       0.965924  0.966057        0.963542     0.968586\n",
       "6  6.613716    0.004871       0.968545  0.969072        0.954315     0.984293\n",
       "7  6.406361    0.004621       0.961992  0.962484        0.951407     0.973822\n",
       "8  6.371844    0.004685       0.975098  0.975357        0.966581     0.984293\n",
       "9  7.107404    0.004592       0.981651  0.981723        0.979167     0.984293"
      ]
     },
     "execution_count": 43,
     "metadata": {},
     "output_type": "execute_result"
    }
   ],
   "source": [
    "from sklearn.neural_network import MLPClassifier\n",
    "from sklearn.model_selection import train_test_split\n",
    "from sklearn.model_selection import cross_validate\n",
    "from sklearn.pipeline import Pipeline\n",
    "from sklearn.preprocessing import StandardScaler\n",
    "from sklearn.feature_selection import SelectKBest\n",
    "\n",
    "# Build pipeline to transform and fit data\n",
    "stages = [\n",
    "    (\"scaler\", StandardScaler()), # Standardize the data such that mean = 0 and variance = 1\n",
    "    (\"selector\", SelectKBest(k=6)), # Select the k best parameters using ANOVA F-value \n",
    "    (\"classifier\", MLPClassifier(max_iter=500))] # Init MLP classifier\n",
    "\n",
    "pipeline = Pipeline(stages)\n",
    "\n",
    "# Perform cross validation using the pipeline\n",
    "folds = 10\n",
    "metrics = [\"accuracy\", \"f1\", \"precision\", \"recall\"]\n",
    "scores = cross_validate(pipeline, X, y, scoring=metrics, cv=folds)\n",
    "\n",
    "# Determine cross validation scores\n",
    "scores = pd.DataFrame.from_dict(scores)\n",
    "scores"
   ]
  },
  {
   "cell_type": "code",
   "execution_count": 44,
   "metadata": {},
   "outputs": [
    {
     "data": {
      "text/plain": [
       "fit_time          5.954773\n",
       "score_time        0.004554\n",
       "test_accuracy     0.967497\n",
       "test_f1           0.967956\n",
       "test_precision    0.955491\n",
       "test_recall       0.980867\n",
       "dtype: float64"
      ]
     },
     "execution_count": 44,
     "metadata": {},
     "output_type": "execute_result"
    }
   ],
   "source": [
    "scores.mean()"
   ]
  },
  {
   "cell_type": "markdown",
   "metadata": {},
   "source": [
    "## Finalized Model"
   ]
  },
  {
   "cell_type": "code",
   "execution_count": 49,
   "metadata": {},
   "outputs": [
    {
     "name": "stdout",
     "output_type": "stream",
     "text": [
      "Model accuraccy: 0.968545\n",
      "Selected features: ['StrangeCharacters' 'NumericRatio' 'VowelRatio' 'ConsonantSequence'\n",
      " 'NumericSequence' 'DomainLength']\n"
     ]
    }
   ],
   "source": [
    "# Partition data into testing and training sets\n",
    "X_train, X_test, y_train, y_test = train_test_split(X, y, train_size=0.4, random_state=42)\n",
    "\n",
    "# Build pipeline to transform and fit data\n",
    "stages = [\n",
    "    (\"scaler\", StandardScaler()), # Standardize the data such that mean = 0 and variance = 1\n",
    "    (\"selector\", SelectKBest(k=6)), # Select the k best parameters using ANOVA F-value \n",
    "    (\"classifier\", MLPClassifier(max_iter=500))] # Init MLP classifier\n",
    "\n",
    "pipeline = Pipeline(stages)\n",
    "\n",
    "pipeline.fit(X_train, y_train)\n",
    "\n",
    "# Score the resulting model and determine which features were selected\n",
    "score = pipeline.score(X_test, y_test)\n",
    "k_features = X.columns.values[pipeline['selector'].get_support()]\n",
    "\n",
    "print(\"Model accuraccy: %f\" % (score))\n",
    "print(\"Selected features: %s\" % (k_features))"
   ]
  },
  {
   "cell_type": "markdown",
   "metadata": {},
   "source": [
    "Note: For the above estimator the MLP hyperparameters were left as their default values. Using hyperparameter search methods the model could potentially be further improved."
   ]
  },
  {
   "cell_type": "markdown",
   "metadata": {},
   "source": [
    "### Visualizations"
   ]
  },
  {
   "cell_type": "code",
   "execution_count": 50,
   "metadata": {},
   "outputs": [
    {
     "data": {
      "text/plain": [
       "<sklearn.metrics._plot.det_curve.DetCurveDisplay at 0x12e412680>"
      ]
     },
     "execution_count": 50,
     "metadata": {},
     "output_type": "execute_result"
    },
    {
     "data": {
      "image/png": "[encoded data removed]",
      "text/plain": [
       "<Figure size 432x288 with 2 Axes>"
      ]
     },
     "metadata": {
      "needs_background": "light"
     },
     "output_type": "display_data"
    },
    {
     "data": {
      "image/png": "[encoded data removed]",
      "text/plain": [
       "<Figure size 432x288 with 1 Axes>"
      ]
     },
     "metadata": {
      "needs_background": "light"
     },
     "output_type": "display_data"
    },
    {
     "data": {
      "image/png": "[encoded data removed]",
      "text/plain": [
       "<Figure size 432x288 with 1 Axes>"
      ]
     },
     "metadata": {
      "needs_background": "light"
     },
     "output_type": "display_data"
    }
   ],
   "source": [
    "from sklearn.metrics import ConfusionMatrixDisplay, RocCurveDisplay, DetCurveDisplay\n",
    "\n",
    "ConfusionMatrixDisplay.from_estimator(pipeline, X_test, y_test)\n",
    "\n",
    "RocCurveDisplay.from_estimator(pipeline, X_test, y_test)\n",
    "\n",
    "DetCurveDisplay.from_estimator(pipeline, X_test, y_test)"
   ]
  }
 ],
 "metadata": {
  "interpreter": {
   "hash": "aee8b7b246df8f9039afb4144a1f6fd8d2ca17a180786b69acc140d282b71a49"
  },
  "kernelspec": {
   "display_name": "Python 3.10.0 64-bit",
   "language": "python",
   "name": "python3"
  },
  "language_info": {
   "codemirror_mode": {
    "name": "ipython",
    "version": 3
   },
   "file_extension": ".py",
   "mimetype": "text/x-python",
   "name": "python",
   "nbconvert_exporter": "python",
   "pygments_lexer": "ipython3",
   "version": "3.10.0"
  },
  "orig_nbformat": 4
 },
 "nbformat": 4,
 "nbformat_minor": 2
}
