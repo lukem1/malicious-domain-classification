{
 "cells": [
  {
   "cell_type": "markdown",
   "metadata": {},
   "source": [
    "# Malicious Domain Dataset - Multi-layer Perceptron Classifier"
   ]
  },
  {
   "cell_type": "code",
   "execution_count": 35,
   "metadata": {},
   "outputs": [
    {
     "data": {
      "text/plain": [
       "0    32613\n",
       "1     3815\n",
       "Name: Class, dtype: int64"
      ]
     },
     "execution_count": 35,
     "metadata": {},
     "output_type": "execute_result"
    }
   ],
   "source": [
    "import pandas as pd\n",
    "from sklearn.neural_network import MLPClassifier\n",
    "from sklearn.model_selection import train_test_split\n",
    "\n",
    "# Load preprocessed dataset\n",
    "datasource = \"preprocessed.csv\"\n",
    "data = pd.read_csv(datasource)\n",
    "data.Class.value_counts()"
   ]
  },
  {
   "cell_type": "markdown",
   "metadata": {},
   "source": [
    "## Resampling\n",
    "\n",
    "As the preprocessed dataset is unbalanced, we resample to create a balanced set for training and testing."
   ]
  },
  {
   "cell_type": "code",
   "execution_count": 36,
   "metadata": {},
   "outputs": [],
   "source": [
    "from sklearn.utils import resample\n",
    "\n",
    "sample_size = min(data.Class.value_counts())\n",
    "\n",
    "malicious = resample(data.loc[data[\"Class\"] == 0], replace=False, n_samples=sample_size, random_state=42)\n",
    "benign = resample(data.loc[data[\"Class\"] == 1], replace=False, n_samples=sample_size, random_state=42)\n",
    "\n",
    "balanced = pd.concat([malicious, benign])\n",
    "balanced.Class.value_counts()\n",
    "\n",
    "X = balanced.drop(columns=[\"Class\"])\n",
    "y = balanced[\"Class\"]"
   ]
  },
  {
   "cell_type": "markdown",
   "metadata": {},
   "source": [
    "## Cross-validation"
   ]
  },
  {
   "cell_type": "markdown",
   "metadata": {},
   "source": [
    "Here we assess how well an MLP classifier will generalize the dataset by performing 10-fold cross-validation."
   ]
  },
  {
   "cell_type": "code",
   "execution_count": 37,
   "metadata": {},
   "outputs": [
    {
     "data": {
      "text/html": [
       "<div>\n",
       "<style scoped>\n",
       "    .dataframe tbody tr th:only-of-type {\n",
       "        vertical-align: middle;\n",
       "    }\n",
       "\n",
       "    .dataframe tbody tr th {\n",
       "        vertical-align: top;\n",
       "    }\n",
       "\n",
       "    .dataframe thead th {\n",
       "        text-align: right;\n",
       "    }\n",
       "</style>\n",
       "<table border=\"1\" class=\"dataframe\">\n",
       "  <thead>\n",
       "    <tr style=\"text-align: right;\">\n",
       "      <th></th>\n",
       "      <th>fit_time</th>\n",
       "      <th>score_time</th>\n",
       "      <th>test_accuracy</th>\n",
       "      <th>test_f1</th>\n",
       "      <th>test_precision</th>\n",
       "      <th>test_recall</th>\n",
       "    </tr>\n",
       "  </thead>\n",
       "  <tbody>\n",
       "    <tr>\n",
       "      <th>0</th>\n",
       "      <td>4.442757</td>\n",
       "      <td>0.004187</td>\n",
       "      <td>0.986894</td>\n",
       "      <td>0.986911</td>\n",
       "      <td>0.984334</td>\n",
       "      <td>0.989501</td>\n",
       "    </tr>\n",
       "    <tr>\n",
       "      <th>1</th>\n",
       "      <td>5.408572</td>\n",
       "      <td>0.003913</td>\n",
       "      <td>0.979030</td>\n",
       "      <td>0.979058</td>\n",
       "      <td>0.976501</td>\n",
       "      <td>0.981627</td>\n",
       "    </tr>\n",
       "    <tr>\n",
       "      <th>2</th>\n",
       "      <td>5.371475</td>\n",
       "      <td>0.003916</td>\n",
       "      <td>0.985583</td>\n",
       "      <td>0.985621</td>\n",
       "      <td>0.981771</td>\n",
       "      <td>0.989501</td>\n",
       "    </tr>\n",
       "    <tr>\n",
       "      <th>3</th>\n",
       "      <td>4.593975</td>\n",
       "      <td>0.006249</td>\n",
       "      <td>0.980341</td>\n",
       "      <td>0.980289</td>\n",
       "      <td>0.981579</td>\n",
       "      <td>0.979003</td>\n",
       "    </tr>\n",
       "    <tr>\n",
       "      <th>4</th>\n",
       "      <td>5.765515</td>\n",
       "      <td>0.004402</td>\n",
       "      <td>0.977720</td>\n",
       "      <td>0.977720</td>\n",
       "      <td>0.976440</td>\n",
       "      <td>0.979003</td>\n",
       "    </tr>\n",
       "    <tr>\n",
       "      <th>5</th>\n",
       "      <td>5.691303</td>\n",
       "      <td>0.004300</td>\n",
       "      <td>0.986894</td>\n",
       "      <td>0.986911</td>\n",
       "      <td>0.986911</td>\n",
       "      <td>0.986911</td>\n",
       "    </tr>\n",
       "    <tr>\n",
       "      <th>6</th>\n",
       "      <td>4.815412</td>\n",
       "      <td>0.004292</td>\n",
       "      <td>0.984273</td>\n",
       "      <td>0.984334</td>\n",
       "      <td>0.981771</td>\n",
       "      <td>0.986911</td>\n",
       "    </tr>\n",
       "    <tr>\n",
       "      <th>7</th>\n",
       "      <td>5.409888</td>\n",
       "      <td>0.004322</td>\n",
       "      <td>0.981651</td>\n",
       "      <td>0.981771</td>\n",
       "      <td>0.976684</td>\n",
       "      <td>0.986911</td>\n",
       "    </tr>\n",
       "    <tr>\n",
       "      <th>8</th>\n",
       "      <td>5.067124</td>\n",
       "      <td>0.004622</td>\n",
       "      <td>0.992136</td>\n",
       "      <td>0.992147</td>\n",
       "      <td>0.992147</td>\n",
       "      <td>0.992147</td>\n",
       "    </tr>\n",
       "    <tr>\n",
       "      <th>9</th>\n",
       "      <td>6.070623</td>\n",
       "      <td>0.004222</td>\n",
       "      <td>0.980341</td>\n",
       "      <td>0.980132</td>\n",
       "      <td>0.991957</td>\n",
       "      <td>0.968586</td>\n",
       "    </tr>\n",
       "  </tbody>\n",
       "</table>\n",
       "</div>"
      ],
      "text/plain": [
       "   fit_time  score_time  test_accuracy   test_f1  test_precision  test_recall\n",
       "0  4.442757    0.004187       0.986894  0.986911        0.984334     0.989501\n",
       "1  5.408572    0.003913       0.979030  0.979058        0.976501     0.981627\n",
       "2  5.371475    0.003916       0.985583  0.985621        0.981771     0.989501\n",
       "3  4.593975    0.006249       0.980341  0.980289        0.981579     0.979003\n",
       "4  5.765515    0.004402       0.977720  0.977720        0.976440     0.979003\n",
       "5  5.691303    0.004300       0.986894  0.986911        0.986911     0.986911\n",
       "6  4.815412    0.004292       0.984273  0.984334        0.981771     0.986911\n",
       "7  5.409888    0.004322       0.981651  0.981771        0.976684     0.986911\n",
       "8  5.067124    0.004622       0.992136  0.992147        0.992147     0.992147\n",
       "9  6.070623    0.004222       0.980341  0.980132        0.991957     0.968586"
      ]
     },
     "execution_count": 37,
     "metadata": {},
     "output_type": "execute_result"
    }
   ],
   "source": [
    "from sklearn.model_selection import cross_validate\n",
    "from sklearn.pipeline import Pipeline\n",
    "from sklearn.preprocessing import StandardScaler\n",
    "\n",
    "clf = MLPClassifier(max_iter=500)\n",
    "\n",
    "stages = [(\"scaler\", StandardScaler()), (\"classifier\", clf)]\n",
    "pipeline = Pipeline(stages)\n",
    "\n",
    "folds = 10\n",
    "metrics = [\"accuracy\", \"f1\", \"precision\", \"recall\"]\n",
    "scores = cross_validate(pipeline, X, y, scoring=metrics, cv=folds)\n",
    "\n",
    "scores = pd.DataFrame.from_dict(scores)\n",
    "scores"
   ]
  },
  {
   "cell_type": "code",
   "execution_count": 38,
   "metadata": {},
   "outputs": [
    {
     "data": {
      "text/plain": [
       "fit_time          5.263664\n",
       "score_time        0.004443\n",
       "test_accuracy     0.983486\n",
       "test_f1           0.983489\n",
       "test_precision    0.983009\n",
       "test_recall       0.984010\n",
       "dtype: float64"
      ]
     },
     "execution_count": 38,
     "metadata": {},
     "output_type": "execute_result"
    }
   ],
   "source": [
    "scores.mean()"
   ]
  },
  {
   "cell_type": "markdown",
   "metadata": {},
   "source": [
    "## Finalized Model"
   ]
  },
  {
   "cell_type": "code",
   "execution_count": 48,
   "metadata": {},
   "outputs": [
    {
     "name": "stdout",
     "output_type": "stream",
     "text": [
      "<class 'pandas.core.frame.DataFrame'>\n",
      "Int64Index: 3052 entries, 35222 to 16609\n",
      "Data columns (total 25 columns):\n",
      " #   Column               Non-Null Count  Dtype  \n",
      "---  ------               --------------  -----  \n",
      " 0   MXDnsResponse        3052 non-null   int64  \n",
      " 1   TXTDnsResponse       3052 non-null   int64  \n",
      " 2   HasSPFInfo           3052 non-null   int64  \n",
      " 3   HasDmarcInfo         3052 non-null   int64  \n",
      " 4   DomainInAlexaDB      3052 non-null   int64  \n",
      " 5   CommonPorts          3052 non-null   int64  \n",
      " 6   CreationDate         3052 non-null   int64  \n",
      " 7   LastUpdateDate       3052 non-null   int64  \n",
      " 8   HttpResponseCode     3052 non-null   int64  \n",
      " 9   RegisteredOrg        3052 non-null   int64  \n",
      " 10  SubdomainNumber      3052 non-null   int64  \n",
      " 11  Entropy              3052 non-null   int64  \n",
      " 12  EntropyOfSubDomains  3052 non-null   int64  \n",
      " 13  StrangeCharacters    3052 non-null   int64  \n",
      " 14  TLD                  3052 non-null   int64  \n",
      " 15  IpReputation         3052 non-null   int64  \n",
      " 16  ConsonantRatio       3052 non-null   float64\n",
      " 17  NumericRatio         3052 non-null   float64\n",
      " 18  SpecialCharRatio     3052 non-null   float64\n",
      " 19  VowelRatio           3052 non-null   float64\n",
      " 20  ConsonantSequence    3052 non-null   int64  \n",
      " 21  VowelSequence        3052 non-null   int64  \n",
      " 22  NumericSequence      3052 non-null   int64  \n",
      " 23  SpecialCharSequence  3052 non-null   int64  \n",
      " 24  DomainLength         3052 non-null   int64  \n",
      "dtypes: float64(4), int64(21)\n",
      "memory usage: 619.9 KB\n"
     ]
    }
   ],
   "source": [
    "clf = MLPClassifier(max_iter=500)\n",
    "\n",
    "X_train, X_test, y_train, y_test = train_test_split(X, y, train_size=0.4, random_state=42)\n",
    "\n",
    "stages = [(\"scaler\", StandardScaler()), (\"classifier\", clf)]\n",
    "pipeline = Pipeline(stages)\n",
    "\n",
    "pipeline.fit(X_train, y_train)\n",
    "pipeline.score(X_test, y_test)"
   ]
  },
  {
   "cell_type": "markdown",
   "metadata": {},
   "source": [
    "Note: For the above estimator the MLP hyperparameters were left as their default values. Using hyperparameter search methods the model could potentially be further improved."
   ]
  },
  {
   "cell_type": "markdown",
   "metadata": {},
   "source": [
    "### Visualizations"
   ]
  },
  {
   "cell_type": "code",
   "execution_count": 43,
   "metadata": {},
   "outputs": [
    {
     "data": {
      "text/plain": [
       "<sklearn.metrics._plot.precision_recall_curve.PrecisionRecallDisplay at 0x131588d00>"
      ]
     },
     "execution_count": 43,
     "metadata": {},
     "output_type": "execute_result"
    },
    {
     "data": {
      "image/png": "[encoded data removed]",
      "text/plain": [
       "<Figure size 432x288 with 2 Axes>"
      ]
     },
     "metadata": {
      "needs_background": "light"
     },
     "output_type": "display_data"
    },
    {
     "data": {
      "image/png": "[encoded data removed]",
      "text/plain": [
       "<Figure size 432x288 with 1 Axes>"
      ]
     },
     "metadata": {
      "needs_background": "light"
     },
     "output_type": "display_data"
    },
    {
     "data": {
      "image/png": "[encoded data removed]",
      "text/plain": [
       "<Figure size 432x288 with 1 Axes>"
      ]
     },
     "metadata": {
      "needs_background": "light"
     },
     "output_type": "display_data"
    },
    {
     "data": {
      "image/png": "[encoded data removed]",
      "text/plain": [
       "<Figure size 432x288 with 1 Axes>"
      ]
     },
     "metadata": {
      "needs_background": "light"
     },
     "output_type": "display_data"
    }
   ],
   "source": [
    "from sklearn.metrics import ConfusionMatrixDisplay, RocCurveDisplay, DetCurveDisplay\n",
    "\n",
    "ConfusionMatrixDisplay.from_estimator(pipeline, X_test, y_test)\n",
    "\n",
    "RocCurveDisplay.from_estimator(pipeline, X_test, y_test)\n",
    "\n",
    "DetCurveDisplay.from_estimator(pipeline, X_test, y_test)"
   ]
  }
 ],
 "metadata": {
  "interpreter": {
   "hash": "aee8b7b246df8f9039afb4144a1f6fd8d2ca17a180786b69acc140d282b71a49"
  },
  "kernelspec": {
   "display_name": "Python 3.10.0 64-bit",
   "language": "python",
   "name": "python3"
  },
  "language_info": {
   "codemirror_mode": {
    "name": "ipython",
    "version": 3
   },
   "file_extension": ".py",
   "mimetype": "text/x-python",
   "name": "python",
   "nbconvert_exporter": "python",
   "pygments_lexer": "ipython3",
   "version": "3.10.0"
  },
  "orig_nbformat": 4
 },
 "nbformat": 4,
 "nbformat_minor": 2
}
