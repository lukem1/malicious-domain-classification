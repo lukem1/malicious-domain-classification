{
 "cells": [
  {
   "cell_type": "markdown",
   "metadata": {},
   "source": [
    "# Malicous Domain Dataset Preprocessing"
   ]
  },
  {
   "cell_type": "code",
   "execution_count": 20,
   "metadata": {},
   "outputs": [
    {
     "name": "stdout",
     "output_type": "stream",
     "text": [
      "Domain                     0\n",
      "DNSRecordType              0\n",
      "MXDnsResponse              0\n",
      "TXTDnsResponse             0\n",
      "HasSPFInfo                 0\n",
      "HasDkimInfo                0\n",
      "HasDmarcInfo               0\n",
      "Ip                         0\n",
      "DomainInAlexaDB            0\n",
      "CommonPorts                0\n",
      "CountryCode            29052\n",
      "RegisteredCountry      77774\n",
      "CreationDate               0\n",
      "LastUpdateDate             0\n",
      "ASN                        0\n",
      "HttpResponseCode           0\n",
      "RegisteredOrg          35391\n",
      "SubdomainNumber            0\n",
      "Entropy                    0\n",
      "EntropyOfSubDomains        0\n",
      "StrangeCharacters          0\n",
      "TLD                      170\n",
      "IpReputation               0\n",
      "DomainReputation           0\n",
      "ConsoantRatio              0\n",
      "NumericRatio               0\n",
      "SpecialCharRatio           0\n",
      "VowelRatio                 0\n",
      "ConsoantSequence           0\n",
      "VowelSequence              0\n",
      "NumericSequence            0\n",
      "SpecialCharSequence        0\n",
      "DomainLength               0\n",
      "Class                      0\n",
      "dtype: int64\n",
      "Count of rows with CountryCode = RegisteredCountry: 10934\n"
     ]
    }
   ],
   "source": [
    "import pandas as pd\n",
    "\n",
    "datasource = \"dataset.csv\"\n",
    "\n",
    "data = pd.read_csv(datasource)\n",
    "\n",
    "#print(data.info())\n",
    "\n",
    "country_mismatch = 0\n",
    "\n",
    "print(data.isnull().sum())\n",
    "\n",
    "country = data.apply(lambda x : True\n",
    "            if x['CountryCode'] == x[\"RegisteredCountry\"] else False, axis = 1)\n",
    "\n",
    "print(\"Count of rows with CountryCode = RegisteredCountry: %d\" % (len(country[country == True].index)))"
   ]
  },
  {
   "cell_type": "markdown",
   "metadata": {},
   "source": [
    "## Remove Rows With Null TLD"
   ]
  },
  {
   "cell_type": "code",
   "execution_count": 24,
   "metadata": {},
   "outputs": [
    {
     "data": {
      "text/plain": [
       "RangeIndex(start=0, stop=90000, step=1)"
      ]
     },
     "execution_count": 24,
     "metadata": {},
     "output_type": "execute_result"
    }
   ],
   "source": [
    "data[\"TLD\"].isnull()"
   ]
  }
 ],
 "metadata": {
  "interpreter": {
   "hash": "aee8b7b246df8f9039afb4144a1f6fd8d2ca17a180786b69acc140d282b71a49"
  },
  "kernelspec": {
   "display_name": "Python 3.10.0 64-bit",
   "language": "python",
   "name": "python3"
  },
  "language_info": {
   "codemirror_mode": {
    "name": "ipython",
    "version": 3
   },
   "file_extension": ".py",
   "mimetype": "text/x-python",
   "name": "python",
   "nbconvert_exporter": "python",
   "pygments_lexer": "ipython3",
   "version": "3.10.0"
  },
  "orig_nbformat": 4
 },
 "nbformat": 4,
 "nbformat_minor": 2
}
