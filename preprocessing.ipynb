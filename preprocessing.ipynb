{
 "cells": [
  {
   "cell_type": "markdown",
   "metadata": {},
   "source": [
    "# Malicous Domain Dataset Preprocessing"
   ]
  },
  {
   "cell_type": "code",
   "execution_count": 841,
   "metadata": {},
   "outputs": [
    {
     "name": "stdout",
     "output_type": "stream",
     "text": [
      "<class 'pandas.core.frame.DataFrame'>\n",
      "RangeIndex: 90000 entries, 0 to 89999\n",
      "Data columns (total 34 columns):\n",
      " #   Column               Non-Null Count  Dtype  \n",
      "---  ------               --------------  -----  \n",
      " 0   Domain               90000 non-null  int64  \n",
      " 1   DNSRecordType        90000 non-null  object \n",
      " 2   MXDnsResponse        90000 non-null  bool   \n",
      " 3   TXTDnsResponse       90000 non-null  bool   \n",
      " 4   HasSPFInfo           90000 non-null  bool   \n",
      " 5   HasDkimInfo          90000 non-null  bool   \n",
      " 6   HasDmarcInfo         90000 non-null  bool   \n",
      " 7   Ip                   90000 non-null  int64  \n",
      " 8   DomainInAlexaDB      90000 non-null  bool   \n",
      " 9   CommonPorts          90000 non-null  bool   \n",
      " 10  CountryCode          60948 non-null  object \n",
      " 11  RegisteredCountry    12226 non-null  object \n",
      " 12  CreationDate         90000 non-null  int64  \n",
      " 13  LastUpdateDate       90000 non-null  int64  \n",
      " 14  ASN                  90000 non-null  int64  \n",
      " 15  HttpResponseCode     90000 non-null  int64  \n",
      " 16  RegisteredOrg        54609 non-null  object \n",
      " 17  SubdomainNumber      90000 non-null  int64  \n",
      " 18  Entropy              90000 non-null  int64  \n",
      " 19  EntropyOfSubDomains  90000 non-null  int64  \n",
      " 20  StrangeCharacters    90000 non-null  int64  \n",
      " 21  TLD                  89830 non-null  object \n",
      " 22  IpReputation         90000 non-null  bool   \n",
      " 23  DomainReputation     90000 non-null  bool   \n",
      " 24  ConsonantRatio       90000 non-null  float64\n",
      " 25  NumericRatio         90000 non-null  float64\n",
      " 26  SpecialCharRatio     90000 non-null  float64\n",
      " 27  VowelRatio           90000 non-null  float64\n",
      " 28  ConsonantSequence    90000 non-null  int64  \n",
      " 29  VowelSequence        90000 non-null  int64  \n",
      " 30  NumericSequence      90000 non-null  int64  \n",
      " 31  SpecialCharSequence  90000 non-null  int64  \n",
      " 32  DomainLength         90000 non-null  int64  \n",
      " 33  Class                90000 non-null  int64  \n",
      "dtypes: bool(9), float64(4), int64(16), object(5)\n",
      "memory usage: 17.9+ MB\n"
     ]
    }
   ],
   "source": [
    "import pandas as pd\n",
    "from sklearn import preprocessing\n",
    "\n",
    "datasource = \"dataset.csv\"\n",
    "data = pd.read_csv(datasource)\n",
    "\n",
    "data.info()"
   ]
  },
  {
   "cell_type": "code",
   "execution_count": 842,
   "metadata": {},
   "outputs": [
    {
     "data": {
      "text/html": [
       "<div>\n",
       "<style scoped>\n",
       "    .dataframe tbody tr th:only-of-type {\n",
       "        vertical-align: middle;\n",
       "    }\n",
       "\n",
       "    .dataframe tbody tr th {\n",
       "        vertical-align: top;\n",
       "    }\n",
       "\n",
       "    .dataframe thead th {\n",
       "        text-align: right;\n",
       "    }\n",
       "</style>\n",
       "<table border=\"1\" class=\"dataframe\">\n",
       "  <thead>\n",
       "    <tr style=\"text-align: right;\">\n",
       "      <th></th>\n",
       "      <th>Domain</th>\n",
       "      <th>Ip</th>\n",
       "      <th>CreationDate</th>\n",
       "      <th>LastUpdateDate</th>\n",
       "      <th>ASN</th>\n",
       "      <th>HttpResponseCode</th>\n",
       "      <th>SubdomainNumber</th>\n",
       "      <th>Entropy</th>\n",
       "      <th>EntropyOfSubDomains</th>\n",
       "      <th>StrangeCharacters</th>\n",
       "      <th>ConsonantRatio</th>\n",
       "      <th>NumericRatio</th>\n",
       "      <th>SpecialCharRatio</th>\n",
       "      <th>VowelRatio</th>\n",
       "      <th>ConsonantSequence</th>\n",
       "      <th>VowelSequence</th>\n",
       "      <th>NumericSequence</th>\n",
       "      <th>SpecialCharSequence</th>\n",
       "      <th>DomainLength</th>\n",
       "      <th>Class</th>\n",
       "    </tr>\n",
       "  </thead>\n",
       "  <tbody>\n",
       "    <tr>\n",
       "      <th>count</th>\n",
       "      <td>90000.000000</td>\n",
       "      <td>90000.000000</td>\n",
       "      <td>90000.000000</td>\n",
       "      <td>90000.000000</td>\n",
       "      <td>90000.000000</td>\n",
       "      <td>90000.000000</td>\n",
       "      <td>90000.000000</td>\n",
       "      <td>90000.000000</td>\n",
       "      <td>90000.000000</td>\n",
       "      <td>90000.000000</td>\n",
       "      <td>90000.000000</td>\n",
       "      <td>90000.000000</td>\n",
       "      <td>90000.000000</td>\n",
       "      <td>90000.000000</td>\n",
       "      <td>90000.000000</td>\n",
       "      <td>90000.000000</td>\n",
       "      <td>90000.000000</td>\n",
       "      <td>90000.000000</td>\n",
       "      <td>90000.000000</td>\n",
       "      <td>90000.000000</td>\n",
       "    </tr>\n",
       "    <tr>\n",
       "      <th>mean</th>\n",
       "      <td>44999.500000</td>\n",
       "      <td>13479.648033</td>\n",
       "      <td>1.933611</td>\n",
       "      <td>2.365744</td>\n",
       "      <td>23335.808167</td>\n",
       "      <td>0.667033</td>\n",
       "      <td>103.069200</td>\n",
       "      <td>2.866844</td>\n",
       "      <td>0.003178</td>\n",
       "      <td>3.498011</td>\n",
       "      <td>0.459519</td>\n",
       "      <td>0.144281</td>\n",
       "      <td>0.006526</td>\n",
       "      <td>0.261528</td>\n",
       "      <td>2.719222</td>\n",
       "      <td>1.342756</td>\n",
       "      <td>1.516478</td>\n",
       "      <td>0.112378</td>\n",
       "      <td>26.440422</td>\n",
       "      <td>0.500000</td>\n",
       "    </tr>\n",
       "    <tr>\n",
       "      <th>std</th>\n",
       "      <td>25980.906451</td>\n",
       "      <td>4160.266410</td>\n",
       "      <td>1.997232</td>\n",
       "      <td>1.935509</td>\n",
       "      <td>37004.865724</td>\n",
       "      <td>1.203285</td>\n",
       "      <td>4243.802846</td>\n",
       "      <td>0.488291</td>\n",
       "      <td>0.081042</td>\n",
       "      <td>4.471591</td>\n",
       "      <td>0.146031</td>\n",
       "      <td>0.147331</td>\n",
       "      <td>0.026162</td>\n",
       "      <td>0.098600</td>\n",
       "      <td>1.699339</td>\n",
       "      <td>0.554527</td>\n",
       "      <td>1.538932</td>\n",
       "      <td>0.431967</td>\n",
       "      <td>22.341135</td>\n",
       "      <td>0.500003</td>\n",
       "    </tr>\n",
       "    <tr>\n",
       "      <th>min</th>\n",
       "      <td>0.000000</td>\n",
       "      <td>0.000000</td>\n",
       "      <td>0.000000</td>\n",
       "      <td>0.000000</td>\n",
       "      <td>-1.000000</td>\n",
       "      <td>0.000000</td>\n",
       "      <td>0.000000</td>\n",
       "      <td>0.000000</td>\n",
       "      <td>0.000000</td>\n",
       "      <td>0.000000</td>\n",
       "      <td>0.000000</td>\n",
       "      <td>0.000000</td>\n",
       "      <td>0.000000</td>\n",
       "      <td>0.000000</td>\n",
       "      <td>0.000000</td>\n",
       "      <td>0.000000</td>\n",
       "      <td>0.000000</td>\n",
       "      <td>0.000000</td>\n",
       "      <td>4.000000</td>\n",
       "      <td>0.000000</td>\n",
       "    </tr>\n",
       "    <tr>\n",
       "      <th>25%</th>\n",
       "      <td>22499.750000</td>\n",
       "      <td>11709.750000</td>\n",
       "      <td>0.000000</td>\n",
       "      <td>0.000000</td>\n",
       "      <td>-1.000000</td>\n",
       "      <td>0.000000</td>\n",
       "      <td>0.000000</td>\n",
       "      <td>3.000000</td>\n",
       "      <td>0.000000</td>\n",
       "      <td>0.000000</td>\n",
       "      <td>0.300000</td>\n",
       "      <td>0.000000</td>\n",
       "      <td>0.000000</td>\n",
       "      <td>0.200000</td>\n",
       "      <td>2.000000</td>\n",
       "      <td>1.000000</td>\n",
       "      <td>0.000000</td>\n",
       "      <td>0.000000</td>\n",
       "      <td>15.000000</td>\n",
       "      <td>0.000000</td>\n",
       "    </tr>\n",
       "    <tr>\n",
       "      <th>50%</th>\n",
       "      <td>44999.500000</td>\n",
       "      <td>14626.000000</td>\n",
       "      <td>0.000000</td>\n",
       "      <td>4.000000</td>\n",
       "      <td>26228.000000</td>\n",
       "      <td>0.000000</td>\n",
       "      <td>0.000000</td>\n",
       "      <td>3.000000</td>\n",
       "      <td>0.000000</td>\n",
       "      <td>1.000000</td>\n",
       "      <td>0.500000</td>\n",
       "      <td>0.100000</td>\n",
       "      <td>0.000000</td>\n",
       "      <td>0.200000</td>\n",
       "      <td>2.000000</td>\n",
       "      <td>1.000000</td>\n",
       "      <td>1.000000</td>\n",
       "      <td>0.000000</td>\n",
       "      <td>24.000000</td>\n",
       "      <td>0.500000</td>\n",
       "    </tr>\n",
       "    <tr>\n",
       "      <th>75%</th>\n",
       "      <td>67499.250000</td>\n",
       "      <td>16984.000000</td>\n",
       "      <td>4.000000</td>\n",
       "      <td>4.000000</td>\n",
       "      <td>26228.000000</td>\n",
       "      <td>2.000000</td>\n",
       "      <td>57.000000</td>\n",
       "      <td>3.000000</td>\n",
       "      <td>0.000000</td>\n",
       "      <td>7.000000</td>\n",
       "      <td>0.600000</td>\n",
       "      <td>0.300000</td>\n",
       "      <td>0.000000</td>\n",
       "      <td>0.300000</td>\n",
       "      <td>3.000000</td>\n",
       "      <td>2.000000</td>\n",
       "      <td>3.000000</td>\n",
       "      <td>0.000000</td>\n",
       "      <td>31.000000</td>\n",
       "      <td>1.000000</td>\n",
       "    </tr>\n",
       "    <tr>\n",
       "      <th>max</th>\n",
       "      <td>89999.000000</td>\n",
       "      <td>16984.000000</td>\n",
       "      <td>4.000000</td>\n",
       "      <td>4.000000</td>\n",
       "      <td>398108.000000</td>\n",
       "      <td>5.000000</td>\n",
       "      <td>661909.000000</td>\n",
       "      <td>5.000000</td>\n",
       "      <td>3.000000</td>\n",
       "      <td>124.000000</td>\n",
       "      <td>1.000000</td>\n",
       "      <td>0.800000</td>\n",
       "      <td>0.900000</td>\n",
       "      <td>0.800000</td>\n",
       "      <td>37.000000</td>\n",
       "      <td>7.000000</td>\n",
       "      <td>45.000000</td>\n",
       "      <td>61.000000</td>\n",
       "      <td>153.000000</td>\n",
       "      <td>1.000000</td>\n",
       "    </tr>\n",
       "  </tbody>\n",
       "</table>\n",
       "</div>"
      ],
      "text/plain": [
       "             Domain            Ip  CreationDate  LastUpdateDate  \\\n",
       "count  90000.000000  90000.000000  90000.000000    90000.000000   \n",
       "mean   44999.500000  13479.648033      1.933611        2.365744   \n",
       "std    25980.906451   4160.266410      1.997232        1.935509   \n",
       "min        0.000000      0.000000      0.000000        0.000000   \n",
       "25%    22499.750000  11709.750000      0.000000        0.000000   \n",
       "50%    44999.500000  14626.000000      0.000000        4.000000   \n",
       "75%    67499.250000  16984.000000      4.000000        4.000000   \n",
       "max    89999.000000  16984.000000      4.000000        4.000000   \n",
       "\n",
       "                 ASN  HttpResponseCode  SubdomainNumber       Entropy  \\\n",
       "count   90000.000000      90000.000000     90000.000000  90000.000000   \n",
       "mean    23335.808167          0.667033       103.069200      2.866844   \n",
       "std     37004.865724          1.203285      4243.802846      0.488291   \n",
       "min        -1.000000          0.000000         0.000000      0.000000   \n",
       "25%        -1.000000          0.000000         0.000000      3.000000   \n",
       "50%     26228.000000          0.000000         0.000000      3.000000   \n",
       "75%     26228.000000          2.000000        57.000000      3.000000   \n",
       "max    398108.000000          5.000000    661909.000000      5.000000   \n",
       "\n",
       "       EntropyOfSubDomains  StrangeCharacters  ConsonantRatio  NumericRatio  \\\n",
       "count         90000.000000       90000.000000    90000.000000  90000.000000   \n",
       "mean              0.003178           3.498011        0.459519      0.144281   \n",
       "std               0.081042           4.471591        0.146031      0.147331   \n",
       "min               0.000000           0.000000        0.000000      0.000000   \n",
       "25%               0.000000           0.000000        0.300000      0.000000   \n",
       "50%               0.000000           1.000000        0.500000      0.100000   \n",
       "75%               0.000000           7.000000        0.600000      0.300000   \n",
       "max               3.000000         124.000000        1.000000      0.800000   \n",
       "\n",
       "       SpecialCharRatio    VowelRatio  ConsonantSequence  VowelSequence  \\\n",
       "count      90000.000000  90000.000000       90000.000000   90000.000000   \n",
       "mean           0.006526      0.261528           2.719222       1.342756   \n",
       "std            0.026162      0.098600           1.699339       0.554527   \n",
       "min            0.000000      0.000000           0.000000       0.000000   \n",
       "25%            0.000000      0.200000           2.000000       1.000000   \n",
       "50%            0.000000      0.200000           2.000000       1.000000   \n",
       "75%            0.000000      0.300000           3.000000       2.000000   \n",
       "max            0.900000      0.800000          37.000000       7.000000   \n",
       "\n",
       "       NumericSequence  SpecialCharSequence  DomainLength         Class  \n",
       "count     90000.000000         90000.000000  90000.000000  90000.000000  \n",
       "mean          1.516478             0.112378     26.440422      0.500000  \n",
       "std           1.538932             0.431967     22.341135      0.500003  \n",
       "min           0.000000             0.000000      4.000000      0.000000  \n",
       "25%           0.000000             0.000000     15.000000      0.000000  \n",
       "50%           1.000000             0.000000     24.000000      0.500000  \n",
       "75%           3.000000             0.000000     31.000000      1.000000  \n",
       "max          45.000000            61.000000    153.000000      1.000000  "
      ]
     },
     "execution_count": 842,
     "metadata": {},
     "output_type": "execute_result"
    }
   ],
   "source": [
    "data.describe()"
   ]
  },
  {
   "cell_type": "markdown",
   "metadata": {},
   "source": [
    "## Feature Processing\n",
    "\n",
    "### Domain\n",
    "\n",
    "|  Type   | Default Value |\n",
    "| :-----: | :-----------: |\n",
    "| Integer | N/A           |\n",
    "\n",
    "The anonymized domain name. Anonymized by mapping a unique domain name to a unique integer (ie `google.com -> 1`)."
   ]
  },
  {
   "cell_type": "code",
   "execution_count": 843,
   "metadata": {},
   "outputs": [
    {
     "name": "stdout",
     "output_type": "stream",
     "text": [
      "Duplicate values: 0\n",
      "Null values: 0\n"
     ]
    }
   ],
   "source": [
    "# Are there any duplicate rows?\n",
    "print(\"Duplicate values: %d\" % (data[\"Domain\"].size - data[\"Domain\"].unique().size))\n",
    "\n",
    "# Are there any null values?\n",
    "print(\"Null values: %d\" % (data[\"Domain\"].isnull().sum()))"
   ]
  },
  {
   "cell_type": "markdown",
   "metadata": {},
   "source": [
    "The domain feature is the base feature of this dataset. That is, all other features are derived from the domain name. Thus we do not want to use this feature in a model and we remove it from the dataset."
   ]
  },
  {
   "cell_type": "code",
   "execution_count": 844,
   "metadata": {},
   "outputs": [],
   "source": [
    "data = data.drop(columns=[\"Domain\"])"
   ]
  },
  {
   "cell_type": "markdown",
   "metadata": {},
   "source": [
    "### DNSRecordType\n",
    "\n",
    "|  Type   | Default Value |\n",
    "| :-----: | :-----------: |\n",
    "| Text    | N/A           |\n",
    "\n",
    "The DNS record type. Types are one of the following:\n",
    "\n",
    "|  Type   | Description |\n",
    "| :-----: | :---------: |\n",
    "| A       | IPv4 Record |\n",
    "| AAAA    | IPv6 Record |\n",
    "| CNAME   | Canonical Name Record |\n",
    "| MX      | Mail Exchange Record  |"
   ]
  },
  {
   "cell_type": "code",
   "execution_count": 845,
   "metadata": {},
   "outputs": [
    {
     "data": {
      "text/html": [
       "<div>\n",
       "<style scoped>\n",
       "    .dataframe tbody tr th:only-of-type {\n",
       "        vertical-align: middle;\n",
       "    }\n",
       "\n",
       "    .dataframe tbody tr th {\n",
       "        vertical-align: top;\n",
       "    }\n",
       "\n",
       "    .dataframe thead th {\n",
       "        text-align: right;\n",
       "    }\n",
       "</style>\n",
       "<table border=\"1\" class=\"dataframe\">\n",
       "  <thead>\n",
       "    <tr style=\"text-align: right;\">\n",
       "      <th></th>\n",
       "      <th></th>\n",
       "      <th>Class</th>\n",
       "    </tr>\n",
       "    <tr>\n",
       "      <th>DNSRecordType</th>\n",
       "      <th>Class</th>\n",
       "      <th></th>\n",
       "    </tr>\n",
       "  </thead>\n",
       "  <tbody>\n",
       "    <tr>\n",
       "      <th rowspan=\"2\" valign=\"top\">A</th>\n",
       "      <th>0</th>\n",
       "      <td>45000</td>\n",
       "    </tr>\n",
       "    <tr>\n",
       "      <th>1</th>\n",
       "      <td>4529</td>\n",
       "    </tr>\n",
       "    <tr>\n",
       "      <th>CNAME</th>\n",
       "      <th>1</th>\n",
       "      <td>35997</td>\n",
       "    </tr>\n",
       "    <tr>\n",
       "      <th>MX</th>\n",
       "      <th>1</th>\n",
       "      <td>4474</td>\n",
       "    </tr>\n",
       "  </tbody>\n",
       "</table>\n",
       "</div>"
      ],
      "text/plain": [
       "                     Class\n",
       "DNSRecordType Class       \n",
       "A             0      45000\n",
       "              1       4529\n",
       "CNAME         1      35997\n",
       "MX            1       4474"
      ]
     },
     "execution_count": 845,
     "metadata": {},
     "output_type": "execute_result"
    }
   ],
   "source": [
    "# Get class breakdown of domains based on this feature\n",
    "data.groupby([\"DNSRecordType\", \"Class\"]).agg({\"Class\": \"count\"})"
   ]
  },
  {
   "cell_type": "markdown",
   "metadata": {},
   "source": [
    "The dataset does not have a good mix of records -> classes. Both CNAME and MX have zero non malicious data points. Further, if we check for duplicates now that we have removed the base feature we see that datapoints with the record type CNAME suffer from a large volume of duplicate data:"
   ]
  },
  {
   "cell_type": "code",
   "execution_count": 846,
   "metadata": {},
   "outputs": [
    {
     "data": {
      "text/plain": [
       "1    1981\n",
       "Name: Class, dtype: int64"
      ]
     },
     "execution_count": 846,
     "metadata": {},
     "output_type": "execute_result"
    }
   ],
   "source": [
    "data[data.DNSRecordType == \"CNAME\"].drop_duplicates()[\"Class\"].value_counts()"
   ]
  },
  {
   "cell_type": "markdown",
   "metadata": {},
   "source": [
    "Above we see the removing the duplicates from the CNAME type datapoints reduces the number of points from 35,997 to 1,981.\n",
    "\n",
    "Without access to the deanonymized dataset and without knowing the exact procedure that was utilized to produce this data we will not speculate on the cause of this duplicate data, but it indicates that the CNAME type datapoints are unsuitable for use in model construction."
   ]
  },
  {
   "cell_type": "code",
   "execution_count": 847,
   "metadata": {},
   "outputs": [
    {
     "data": {
      "text/plain": [
       "0    33184\n",
       "1     4102\n",
       "Name: Class, dtype: int64"
      ]
     },
     "execution_count": 847,
     "metadata": {},
     "output_type": "execute_result"
    }
   ],
   "source": [
    "data[data.DNSRecordType == \"A\"].drop_duplicates()[\"Class\"].value_counts()"
   ]
  },
  {
   "cell_type": "markdown",
   "metadata": {},
   "source": [
    "As seen above duplicate data is far less prevalent in the set of type A records. Thus we will restrict the data used for model training and validation to a subset of the type A records."
   ]
  },
  {
   "cell_type": "code",
   "execution_count": 848,
   "metadata": {},
   "outputs": [],
   "source": [
    "# Drop all datapoints that are not type A\n",
    "data = data[data.DNSRecordType == \"A\"]\n",
    "\n",
    "# Drop duplicate rows\n",
    "data = data.drop_duplicates()"
   ]
  },
  {
   "cell_type": "code",
   "execution_count": 849,
   "metadata": {},
   "outputs": [
    {
     "data": {
      "text/html": [
       "<div>\n",
       "<style scoped>\n",
       "    .dataframe tbody tr th:only-of-type {\n",
       "        vertical-align: middle;\n",
       "    }\n",
       "\n",
       "    .dataframe tbody tr th {\n",
       "        vertical-align: top;\n",
       "    }\n",
       "\n",
       "    .dataframe thead th {\n",
       "        text-align: right;\n",
       "    }\n",
       "</style>\n",
       "<table border=\"1\" class=\"dataframe\">\n",
       "  <thead>\n",
       "    <tr style=\"text-align: right;\">\n",
       "      <th></th>\n",
       "      <th></th>\n",
       "      <th>Class</th>\n",
       "    </tr>\n",
       "    <tr>\n",
       "      <th>DNSRecordType</th>\n",
       "      <th>Class</th>\n",
       "      <th></th>\n",
       "    </tr>\n",
       "  </thead>\n",
       "  <tbody>\n",
       "    <tr>\n",
       "      <th rowspan=\"2\" valign=\"top\">A</th>\n",
       "      <th>0</th>\n",
       "      <td>33184</td>\n",
       "    </tr>\n",
       "    <tr>\n",
       "      <th>1</th>\n",
       "      <td>4102</td>\n",
       "    </tr>\n",
       "  </tbody>\n",
       "</table>\n",
       "</div>"
      ],
      "text/plain": [
       "                     Class\n",
       "DNSRecordType Class       \n",
       "A             0      33184\n",
       "              1       4102"
      ]
     },
     "execution_count": 849,
     "metadata": {},
     "output_type": "execute_result"
    }
   ],
   "source": [
    "# Get class breakdown of domains based on this feature\n",
    "data.groupby([\"DNSRecordType\", \"Class\"]).agg({\"Class\": \"count\"})"
   ]
  },
  {
   "cell_type": "markdown",
   "metadata": {},
   "source": [
    "Note that by removing all but type A datapoints the dataset has become imbalanced. This will be taken into account by using stratified sampling during model training and cross validation."
   ]
  },
  {
   "cell_type": "markdown",
   "metadata": {},
   "source": [
    "Finally, we drop the DNSRecordType feature as it is no longer relevant."
   ]
  },
  {
   "cell_type": "code",
   "execution_count": 850,
   "metadata": {},
   "outputs": [],
   "source": [
    "data = data.drop(columns=[\"DNSRecordType\"])"
   ]
  },
  {
   "cell_type": "markdown",
   "metadata": {},
   "source": [
    "### MXDnsResponse\n",
    "\n",
    "|  Type   | Default Value |\n",
    "| :-----: | :-----------: |\n",
    "| Boolean | False         |\n",
    "\n",
    "Whether or not a request for MX info returns information."
   ]
  },
  {
   "cell_type": "code",
   "execution_count": 851,
   "metadata": {},
   "outputs": [
    {
     "data": {
      "text/html": [
       "<div>\n",
       "<style scoped>\n",
       "    .dataframe tbody tr th:only-of-type {\n",
       "        vertical-align: middle;\n",
       "    }\n",
       "\n",
       "    .dataframe tbody tr th {\n",
       "        vertical-align: top;\n",
       "    }\n",
       "\n",
       "    .dataframe thead th {\n",
       "        text-align: right;\n",
       "    }\n",
       "</style>\n",
       "<table border=\"1\" class=\"dataframe\">\n",
       "  <thead>\n",
       "    <tr style=\"text-align: right;\">\n",
       "      <th></th>\n",
       "      <th></th>\n",
       "      <th>Class</th>\n",
       "    </tr>\n",
       "    <tr>\n",
       "      <th>MXDnsResponse</th>\n",
       "      <th>Class</th>\n",
       "      <th></th>\n",
       "    </tr>\n",
       "  </thead>\n",
       "  <tbody>\n",
       "    <tr>\n",
       "      <th rowspan=\"2\" valign=\"top\">False</th>\n",
       "      <th>0</th>\n",
       "      <td>18798</td>\n",
       "    </tr>\n",
       "    <tr>\n",
       "      <th>1</th>\n",
       "      <td>3352</td>\n",
       "    </tr>\n",
       "    <tr>\n",
       "      <th rowspan=\"2\" valign=\"top\">True</th>\n",
       "      <th>0</th>\n",
       "      <td>14386</td>\n",
       "    </tr>\n",
       "    <tr>\n",
       "      <th>1</th>\n",
       "      <td>750</td>\n",
       "    </tr>\n",
       "  </tbody>\n",
       "</table>\n",
       "</div>"
      ],
      "text/plain": [
       "                     Class\n",
       "MXDnsResponse Class       \n",
       "False         0      18798\n",
       "              1       3352\n",
       "True          0      14386\n",
       "              1        750"
      ]
     },
     "execution_count": 851,
     "metadata": {},
     "output_type": "execute_result"
    }
   ],
   "source": [
    "# Get class breakdown of domains based on this feature\n",
    "data.groupby([\"MXDnsResponse\", \"Class\"]).agg({\"Class\": \"count\"})"
   ]
  },
  {
   "cell_type": "markdown",
   "metadata": {},
   "source": [
    "### TXTDnsResponse\n",
    "\n",
    "|  Type   | Default Value |\n",
    "| :-----: | :-----------: |\n",
    "| Boolean | False         |\n",
    "\n",
    "Whether or not a request for TXT info returns information."
   ]
  },
  {
   "cell_type": "code",
   "execution_count": 852,
   "metadata": {},
   "outputs": [
    {
     "data": {
      "text/html": [
       "<div>\n",
       "<style scoped>\n",
       "    .dataframe tbody tr th:only-of-type {\n",
       "        vertical-align: middle;\n",
       "    }\n",
       "\n",
       "    .dataframe tbody tr th {\n",
       "        vertical-align: top;\n",
       "    }\n",
       "\n",
       "    .dataframe thead th {\n",
       "        text-align: right;\n",
       "    }\n",
       "</style>\n",
       "<table border=\"1\" class=\"dataframe\">\n",
       "  <thead>\n",
       "    <tr style=\"text-align: right;\">\n",
       "      <th></th>\n",
       "      <th></th>\n",
       "      <th>Class</th>\n",
       "    </tr>\n",
       "    <tr>\n",
       "      <th>TXTDnsResponse</th>\n",
       "      <th>Class</th>\n",
       "      <th></th>\n",
       "    </tr>\n",
       "  </thead>\n",
       "  <tbody>\n",
       "    <tr>\n",
       "      <th rowspan=\"2\" valign=\"top\">False</th>\n",
       "      <th>0</th>\n",
       "      <td>22791</td>\n",
       "    </tr>\n",
       "    <tr>\n",
       "      <th>1</th>\n",
       "      <td>3410</td>\n",
       "    </tr>\n",
       "    <tr>\n",
       "      <th rowspan=\"2\" valign=\"top\">True</th>\n",
       "      <th>0</th>\n",
       "      <td>10393</td>\n",
       "    </tr>\n",
       "    <tr>\n",
       "      <th>1</th>\n",
       "      <td>692</td>\n",
       "    </tr>\n",
       "  </tbody>\n",
       "</table>\n",
       "</div>"
      ],
      "text/plain": [
       "                      Class\n",
       "TXTDnsResponse Class       \n",
       "False          0      22791\n",
       "               1       3410\n",
       "True           0      10393\n",
       "               1        692"
      ]
     },
     "execution_count": 852,
     "metadata": {},
     "output_type": "execute_result"
    }
   ],
   "source": [
    "# Get class breakdown of domains based on this feature\n",
    "data.groupby([\"TXTDnsResponse\", \"Class\"]).agg({\"Class\": \"count\"})"
   ]
  },
  {
   "cell_type": "markdown",
   "metadata": {},
   "source": [
    "### HasSPFInfo\n",
    "\n",
    "|  Type   | Default Value |\n",
    "| :-----: | :-----------: |\n",
    "| Boolean | False         |\n",
    "\n",
    "If the DNS record has the Sender Policy Framework (SPF) attribute. SPF records list the servers authorized to send messages on behalf of a domain and are used to combat email spoofing."
   ]
  },
  {
   "cell_type": "code",
   "execution_count": 853,
   "metadata": {},
   "outputs": [
    {
     "data": {
      "text/html": [
       "<div>\n",
       "<style scoped>\n",
       "    .dataframe tbody tr th:only-of-type {\n",
       "        vertical-align: middle;\n",
       "    }\n",
       "\n",
       "    .dataframe tbody tr th {\n",
       "        vertical-align: top;\n",
       "    }\n",
       "\n",
       "    .dataframe thead th {\n",
       "        text-align: right;\n",
       "    }\n",
       "</style>\n",
       "<table border=\"1\" class=\"dataframe\">\n",
       "  <thead>\n",
       "    <tr style=\"text-align: right;\">\n",
       "      <th></th>\n",
       "      <th></th>\n",
       "      <th>Class</th>\n",
       "    </tr>\n",
       "    <tr>\n",
       "      <th>HasSPFInfo</th>\n",
       "      <th>Class</th>\n",
       "      <th></th>\n",
       "    </tr>\n",
       "  </thead>\n",
       "  <tbody>\n",
       "    <tr>\n",
       "      <th rowspan=\"2\" valign=\"top\">False</th>\n",
       "      <th>0</th>\n",
       "      <td>23585</td>\n",
       "    </tr>\n",
       "    <tr>\n",
       "      <th>1</th>\n",
       "      <td>3692</td>\n",
       "    </tr>\n",
       "    <tr>\n",
       "      <th rowspan=\"2\" valign=\"top\">True</th>\n",
       "      <th>0</th>\n",
       "      <td>9599</td>\n",
       "    </tr>\n",
       "    <tr>\n",
       "      <th>1</th>\n",
       "      <td>410</td>\n",
       "    </tr>\n",
       "  </tbody>\n",
       "</table>\n",
       "</div>"
      ],
      "text/plain": [
       "                  Class\n",
       "HasSPFInfo Class       \n",
       "False      0      23585\n",
       "           1       3692\n",
       "True       0       9599\n",
       "           1        410"
      ]
     },
     "execution_count": 853,
     "metadata": {},
     "output_type": "execute_result"
    }
   ],
   "source": [
    "# Get class breakdown of domains based on this feature\n",
    "data.groupby([\"HasSPFInfo\", \"Class\"]).agg({\"Class\": \"count\"})"
   ]
  },
  {
   "cell_type": "markdown",
   "metadata": {},
   "source": [
    "### HasDkimInfo\n",
    "\n",
    "|  Type   | Default Value |\n",
    "| :-----: | :-----------: |\n",
    "| Boolean | False         |\n",
    "\n",
    "If the DNS record has the Domain Keys Identified Mail (DKIM) attribute. DKIM records store the public key used to verify the authenticity of emails and are used to help prevent domian spoofing."
   ]
  },
  {
   "cell_type": "code",
   "execution_count": 854,
   "metadata": {},
   "outputs": [
    {
     "data": {
      "text/html": [
       "<div>\n",
       "<style scoped>\n",
       "    .dataframe tbody tr th:only-of-type {\n",
       "        vertical-align: middle;\n",
       "    }\n",
       "\n",
       "    .dataframe tbody tr th {\n",
       "        vertical-align: top;\n",
       "    }\n",
       "\n",
       "    .dataframe thead th {\n",
       "        text-align: right;\n",
       "    }\n",
       "</style>\n",
       "<table border=\"1\" class=\"dataframe\">\n",
       "  <thead>\n",
       "    <tr style=\"text-align: right;\">\n",
       "      <th></th>\n",
       "      <th></th>\n",
       "      <th>Class</th>\n",
       "    </tr>\n",
       "    <tr>\n",
       "      <th>HasDkimInfo</th>\n",
       "      <th>Class</th>\n",
       "      <th></th>\n",
       "    </tr>\n",
       "  </thead>\n",
       "  <tbody>\n",
       "    <tr>\n",
       "      <th rowspan=\"2\" valign=\"top\">False</th>\n",
       "      <th>0</th>\n",
       "      <td>33165</td>\n",
       "    </tr>\n",
       "    <tr>\n",
       "      <th>1</th>\n",
       "      <td>4101</td>\n",
       "    </tr>\n",
       "    <tr>\n",
       "      <th rowspan=\"2\" valign=\"top\">True</th>\n",
       "      <th>0</th>\n",
       "      <td>19</td>\n",
       "    </tr>\n",
       "    <tr>\n",
       "      <th>1</th>\n",
       "      <td>1</td>\n",
       "    </tr>\n",
       "  </tbody>\n",
       "</table>\n",
       "</div>"
      ],
      "text/plain": [
       "                   Class\n",
       "HasDkimInfo Class       \n",
       "False       0      33165\n",
       "            1       4101\n",
       "True        0         19\n",
       "            1          1"
      ]
     },
     "execution_count": 854,
     "metadata": {},
     "output_type": "execute_result"
    }
   ],
   "source": [
    "# Get class breakdown of domains based on this feature\n",
    "data.groupby([\"HasDkimInfo\", \"Class\"]).agg({\"Class\": \"count\"})"
   ]
  },
  {
   "cell_type": "markdown",
   "metadata": {},
   "source": [
    "As such a small quantity of domains in the dataset have DKIM information we will remove the feature."
   ]
  },
  {
   "cell_type": "code",
   "execution_count": 855,
   "metadata": {},
   "outputs": [],
   "source": [
    "data = data.drop(columns=[\"HasDkimInfo\"])"
   ]
  },
  {
   "cell_type": "markdown",
   "metadata": {},
   "source": [
    "### HasDmarcInfo\n",
    "\n",
    "|  Type   | Default Value |\n",
    "| :-----: | :-----------: |\n",
    "| Boolean | False         |\n",
    "\n",
    "If the DNS record has the Domain-based Message Authentication and Conformance (DMARC) attribute. DMARC records specify policy for what happens to emails after they pass or fail SPF and DKIM checks."
   ]
  },
  {
   "cell_type": "code",
   "execution_count": 856,
   "metadata": {},
   "outputs": [
    {
     "data": {
      "text/html": [
       "<div>\n",
       "<style scoped>\n",
       "    .dataframe tbody tr th:only-of-type {\n",
       "        vertical-align: middle;\n",
       "    }\n",
       "\n",
       "    .dataframe tbody tr th {\n",
       "        vertical-align: top;\n",
       "    }\n",
       "\n",
       "    .dataframe thead th {\n",
       "        text-align: right;\n",
       "    }\n",
       "</style>\n",
       "<table border=\"1\" class=\"dataframe\">\n",
       "  <thead>\n",
       "    <tr style=\"text-align: right;\">\n",
       "      <th></th>\n",
       "      <th></th>\n",
       "      <th>Class</th>\n",
       "    </tr>\n",
       "    <tr>\n",
       "      <th>HasDmarcInfo</th>\n",
       "      <th>Class</th>\n",
       "      <th></th>\n",
       "    </tr>\n",
       "  </thead>\n",
       "  <tbody>\n",
       "    <tr>\n",
       "      <th rowspan=\"2\" valign=\"top\">False</th>\n",
       "      <th>0</th>\n",
       "      <td>31949</td>\n",
       "    </tr>\n",
       "    <tr>\n",
       "      <th>1</th>\n",
       "      <td>3901</td>\n",
       "    </tr>\n",
       "    <tr>\n",
       "      <th rowspan=\"2\" valign=\"top\">True</th>\n",
       "      <th>0</th>\n",
       "      <td>1235</td>\n",
       "    </tr>\n",
       "    <tr>\n",
       "      <th>1</th>\n",
       "      <td>201</td>\n",
       "    </tr>\n",
       "  </tbody>\n",
       "</table>\n",
       "</div>"
      ],
      "text/plain": [
       "                    Class\n",
       "HasDmarcInfo Class       \n",
       "False        0      31949\n",
       "             1       3901\n",
       "True         0       1235\n",
       "             1        201"
      ]
     },
     "execution_count": 856,
     "metadata": {},
     "output_type": "execute_result"
    }
   ],
   "source": [
    "# Get class breakdown of domains based on this feature\n",
    "data.groupby([\"HasDmarcInfo\", \"Class\"]).agg({\"Class\": \"count\"})"
   ]
  },
  {
   "cell_type": "markdown",
   "metadata": {},
   "source": [
    "### IP\n",
    "\n",
    "|  Type   | Default Value |\n",
    "| :-----: | :-----------: |\n",
    "| Integer | null          |\n",
    "\n",
    "The anonymized internet protocol (IP) address associated with the domain. This feature is irrelevant to the model so it will be removed."
   ]
  },
  {
   "cell_type": "code",
   "execution_count": 857,
   "metadata": {},
   "outputs": [],
   "source": [
    "data = data.drop(columns=[\"Ip\"])"
   ]
  },
  {
   "cell_type": "markdown",
   "metadata": {},
   "source": [
    "### DomainInAlexaDB\n",
    "\n",
    "|  Type   | Default Value |\n",
    "| :-----: | :-----------: |\n",
    "| Boolean | False         |\n",
    "\n",
    "If the domain is registered in the Alexa top sites database."
   ]
  },
  {
   "cell_type": "code",
   "execution_count": 858,
   "metadata": {},
   "outputs": [
    {
     "data": {
      "text/html": [
       "<div>\n",
       "<style scoped>\n",
       "    .dataframe tbody tr th:only-of-type {\n",
       "        vertical-align: middle;\n",
       "    }\n",
       "\n",
       "    .dataframe tbody tr th {\n",
       "        vertical-align: top;\n",
       "    }\n",
       "\n",
       "    .dataframe thead th {\n",
       "        text-align: right;\n",
       "    }\n",
       "</style>\n",
       "<table border=\"1\" class=\"dataframe\">\n",
       "  <thead>\n",
       "    <tr style=\"text-align: right;\">\n",
       "      <th></th>\n",
       "      <th></th>\n",
       "      <th>Class</th>\n",
       "    </tr>\n",
       "    <tr>\n",
       "      <th>DomainInAlexaDB</th>\n",
       "      <th>Class</th>\n",
       "      <th></th>\n",
       "    </tr>\n",
       "  </thead>\n",
       "  <tbody>\n",
       "    <tr>\n",
       "      <th rowspan=\"2\" valign=\"top\">False</th>\n",
       "      <th>0</th>\n",
       "      <td>31744</td>\n",
       "    </tr>\n",
       "    <tr>\n",
       "      <th>1</th>\n",
       "      <td>3737</td>\n",
       "    </tr>\n",
       "    <tr>\n",
       "      <th rowspan=\"2\" valign=\"top\">True</th>\n",
       "      <th>0</th>\n",
       "      <td>1440</td>\n",
       "    </tr>\n",
       "    <tr>\n",
       "      <th>1</th>\n",
       "      <td>365</td>\n",
       "    </tr>\n",
       "  </tbody>\n",
       "</table>\n",
       "</div>"
      ],
      "text/plain": [
       "                       Class\n",
       "DomainInAlexaDB Class       \n",
       "False           0      31744\n",
       "                1       3737\n",
       "True            0       1440\n",
       "                1        365"
      ]
     },
     "execution_count": 858,
     "metadata": {},
     "output_type": "execute_result"
    }
   ],
   "source": [
    "# Get class breakdown of domains based on this feature\n",
    "data.groupby([\"DomainInAlexaDB\", \"Class\"]).agg({\"Class\": \"count\"})"
   ]
  },
  {
   "cell_type": "markdown",
   "metadata": {},
   "source": [
    "### CommonPorts\n",
    "\n",
    "|  Type   | Default Value |\n",
    "| :-----: | :-----------: |\n",
    "| Boolean | False         |\n",
    "\n",
    "If the domain has an available service on any of the following common ports: 80, 443, 21, 22, 23, 25, 53, 110, 143, 161, 445, 465, 587, 993, 995, 3306, 3389, 7547, 8080, 8888."
   ]
  },
  {
   "cell_type": "code",
   "execution_count": 859,
   "metadata": {},
   "outputs": [
    {
     "data": {
      "text/html": [
       "<div>\n",
       "<style scoped>\n",
       "    .dataframe tbody tr th:only-of-type {\n",
       "        vertical-align: middle;\n",
       "    }\n",
       "\n",
       "    .dataframe tbody tr th {\n",
       "        vertical-align: top;\n",
       "    }\n",
       "\n",
       "    .dataframe thead th {\n",
       "        text-align: right;\n",
       "    }\n",
       "</style>\n",
       "<table border=\"1\" class=\"dataframe\">\n",
       "  <thead>\n",
       "    <tr style=\"text-align: right;\">\n",
       "      <th></th>\n",
       "      <th></th>\n",
       "      <th>Class</th>\n",
       "    </tr>\n",
       "    <tr>\n",
       "      <th>CommonPorts</th>\n",
       "      <th>Class</th>\n",
       "      <th></th>\n",
       "    </tr>\n",
       "  </thead>\n",
       "  <tbody>\n",
       "    <tr>\n",
       "      <th rowspan=\"2\" valign=\"top\">False</th>\n",
       "      <th>0</th>\n",
       "      <td>25189</td>\n",
       "    </tr>\n",
       "    <tr>\n",
       "      <th>1</th>\n",
       "      <td>3721</td>\n",
       "    </tr>\n",
       "    <tr>\n",
       "      <th rowspan=\"2\" valign=\"top\">True</th>\n",
       "      <th>0</th>\n",
       "      <td>7995</td>\n",
       "    </tr>\n",
       "    <tr>\n",
       "      <th>1</th>\n",
       "      <td>381</td>\n",
       "    </tr>\n",
       "  </tbody>\n",
       "</table>\n",
       "</div>"
      ],
      "text/plain": [
       "                   Class\n",
       "CommonPorts Class       \n",
       "False       0      25189\n",
       "            1       3721\n",
       "True        0       7995\n",
       "            1        381"
      ]
     },
     "execution_count": 859,
     "metadata": {},
     "output_type": "execute_result"
    }
   ],
   "source": [
    "# Get class breakdown of domains based on this feature\n",
    "data.groupby([\"CommonPorts\", \"Class\"]).agg({\"Class\": \"count\"})"
   ]
  },
  {
   "cell_type": "markdown",
   "metadata": {},
   "source": [
    "### CountryCode\n",
    "\n",
    "|  Type   | Default Value |\n",
    "| :-----: | :-----------: |\n",
    "| Text    | null         |\n",
    "\n",
    "The country code associated with the domain's IP address. The publishers of this dataset suggest that the country code data is likely skewed by sinkhole DNS servers which point known bad domains to known safe addresses. Thus this data will be discarded."
   ]
  },
  {
   "cell_type": "code",
   "execution_count": 860,
   "metadata": {},
   "outputs": [
    {
     "data": {
      "text/plain": [
       "<AxesSubplot:title={'center':'Top 10 IP Country Codes'}>"
      ]
     },
     "execution_count": 860,
     "metadata": {},
     "output_type": "execute_result"
    },
    {
     "data": {
      "image/png": "[encoded data removed]",
      "text/plain": [
       "<Figure size 432x288 with 1 Axes>"
      ]
     },
     "metadata": {
      "needs_background": "light"
     },
     "output_type": "display_data"
    }
   ],
   "source": [
    "# Plot a barchart displaying the domain counts for the top ten countries\n",
    "data.CountryCode.value_counts().head(10).plot.bar(title=\"Top 10 IP Country Codes\")"
   ]
  },
  {
   "cell_type": "code",
   "execution_count": 861,
   "metadata": {},
   "outputs": [],
   "source": [
    "data = data.drop(columns=[\"CountryCode\"])"
   ]
  },
  {
   "cell_type": "markdown",
   "metadata": {},
   "source": [
    "### RegisteredCountry\n",
    "\n",
    "|  Type   | Default Value |\n",
    "| :-----: | :-----------: |\n",
    "| Text    | null          |\n",
    "\n",
    "The country code associated with the domain's registration information."
   ]
  },
  {
   "cell_type": "code",
   "execution_count": 862,
   "metadata": {},
   "outputs": [
    {
     "data": {
      "text/plain": [
       "<AxesSubplot:title={'center':'Top 10 Registration Country Codes'}>"
      ]
     },
     "execution_count": 862,
     "metadata": {},
     "output_type": "execute_result"
    },
    {
     "data": {
      "image/png": "[encoded data removed]",
      "text/plain": [
       "<Figure size 432x288 with 1 Axes>"
      ]
     },
     "metadata": {
      "needs_background": "light"
     },
     "output_type": "display_data"
    }
   ],
   "source": [
    "# Plot a barchart displaying the domain counts for the top ten countries\n",
    "data.RegisteredCountry.value_counts().head(10).plot.bar(title=\"Top 10 Registration Country Codes\")"
   ]
  },
  {
   "cell_type": "markdown",
   "metadata": {},
   "source": [
    "Note how this distribution significantly differs from the IP based country code data. This is likely due to the fact that unlike CountryCode, RegisteredCountry is not dependent on the IP lookup that was causing skewed results."
   ]
  },
  {
   "cell_type": "code",
   "execution_count": 863,
   "metadata": {},
   "outputs": [
    {
     "data": {
      "text/html": [
       "<div>\n",
       "<style scoped>\n",
       "    .dataframe tbody tr th:only-of-type {\n",
       "        vertical-align: middle;\n",
       "    }\n",
       "\n",
       "    .dataframe tbody tr th {\n",
       "        vertical-align: top;\n",
       "    }\n",
       "\n",
       "    .dataframe thead th {\n",
       "        text-align: right;\n",
       "    }\n",
       "</style>\n",
       "<table border=\"1\" class=\"dataframe\">\n",
       "  <thead>\n",
       "    <tr style=\"text-align: right;\">\n",
       "      <th></th>\n",
       "      <th></th>\n",
       "      <th>Class</th>\n",
       "    </tr>\n",
       "    <tr>\n",
       "      <th>RegisteredCountry</th>\n",
       "      <th>Class</th>\n",
       "      <th></th>\n",
       "    </tr>\n",
       "  </thead>\n",
       "  <tbody>\n",
       "    <tr>\n",
       "      <th>AE</th>\n",
       "      <th>0</th>\n",
       "      <td>5</td>\n",
       "    </tr>\n",
       "    <tr>\n",
       "      <th>AL</th>\n",
       "      <th>1</th>\n",
       "      <td>1</td>\n",
       "    </tr>\n",
       "    <tr>\n",
       "      <th>AT</th>\n",
       "      <th>0</th>\n",
       "      <td>34</td>\n",
       "    </tr>\n",
       "    <tr>\n",
       "      <th rowspan=\"2\" valign=\"top\">AU</th>\n",
       "      <th>0</th>\n",
       "      <td>297</td>\n",
       "    </tr>\n",
       "    <tr>\n",
       "      <th>1</th>\n",
       "      <td>2</td>\n",
       "    </tr>\n",
       "    <tr>\n",
       "      <th>...</th>\n",
       "      <th>...</th>\n",
       "      <td>...</td>\n",
       "    </tr>\n",
       "    <tr>\n",
       "      <th>md</th>\n",
       "      <th>0</th>\n",
       "      <td>1</td>\n",
       "    </tr>\n",
       "    <tr>\n",
       "      <th>ro</th>\n",
       "      <th>0</th>\n",
       "      <td>11</td>\n",
       "    </tr>\n",
       "    <tr>\n",
       "      <th>ru</th>\n",
       "      <th>0</th>\n",
       "      <td>2</td>\n",
       "    </tr>\n",
       "    <tr>\n",
       "      <th>ua</th>\n",
       "      <th>0</th>\n",
       "      <td>1</td>\n",
       "    </tr>\n",
       "    <tr>\n",
       "      <th>vn</th>\n",
       "      <th>0</th>\n",
       "      <td>6</td>\n",
       "    </tr>\n",
       "  </tbody>\n",
       "</table>\n",
       "<p>139 rows × 1 columns</p>\n",
       "</div>"
      ],
      "text/plain": [
       "                         Class\n",
       "RegisteredCountry Class       \n",
       "AE                0          5\n",
       "AL                1          1\n",
       "AT                0         34\n",
       "AU                0        297\n",
       "                  1          2\n",
       "...                        ...\n",
       "md                0          1\n",
       "ro                0         11\n",
       "ru                0          2\n",
       "ua                0          1\n",
       "vn                0          6\n",
       "\n",
       "[139 rows x 1 columns]"
      ]
     },
     "execution_count": 863,
     "metadata": {},
     "output_type": "execute_result"
    }
   ],
   "source": [
    "# Get class breakdown of domains based on this feature\n",
    "data.groupby([\"RegisteredCountry\", \"Class\"]).agg({\"Class\": \"count\"})"
   ]
  },
  {
   "cell_type": "code",
   "execution_count": 864,
   "metadata": {},
   "outputs": [
    {
     "name": "stdout",
     "output_type": "stream",
     "text": [
      "Null values: 27803\n"
     ]
    }
   ],
   "source": [
    "# Are there any null values?\n",
    "print(\"Null values: %d\" % (data[\"RegisteredCountry\"].isnull().sum()))"
   ]
  },
  {
   "cell_type": "markdown",
   "metadata": {},
   "source": [
    "Discarding this feature due to the large volume of null values and the small sample sizes for many countries."
   ]
  },
  {
   "cell_type": "code",
   "execution_count": 865,
   "metadata": {},
   "outputs": [],
   "source": [
    "data = data.drop(columns=[\"RegisteredCountry\"])"
   ]
  },
  {
   "cell_type": "markdown",
   "metadata": {},
   "source": [
    "### CreationDate\n",
    "\n",
    "|  Type   | Default Value |\n",
    "| :-----: | :-----------: |\n",
    "| Enum    | null          |\n",
    "\n",
    "The age of the domain enumerated into the following bins:\n",
    "\n",
    "| Enum | Date      |\n",
    "| :--: | :-------: |\n",
    "| 0    | No Data   |\n",
    "| 1    | < 1 month |\n",
    "| 2    | < 6 months |\n",
    "| 2    | < 1 year |\n",
    "| 2    | >= 1 year |"
   ]
  },
  {
   "cell_type": "code",
   "execution_count": 866,
   "metadata": {},
   "outputs": [
    {
     "data": {
      "text/html": [
       "<div>\n",
       "<style scoped>\n",
       "    .dataframe tbody tr th:only-of-type {\n",
       "        vertical-align: middle;\n",
       "    }\n",
       "\n",
       "    .dataframe tbody tr th {\n",
       "        vertical-align: top;\n",
       "    }\n",
       "\n",
       "    .dataframe thead th {\n",
       "        text-align: right;\n",
       "    }\n",
       "</style>\n",
       "<table border=\"1\" class=\"dataframe\">\n",
       "  <thead>\n",
       "    <tr style=\"text-align: right;\">\n",
       "      <th></th>\n",
       "      <th></th>\n",
       "      <th>Class</th>\n",
       "    </tr>\n",
       "    <tr>\n",
       "      <th>CreationDate</th>\n",
       "      <th>Class</th>\n",
       "      <th></th>\n",
       "    </tr>\n",
       "  </thead>\n",
       "  <tbody>\n",
       "    <tr>\n",
       "      <th rowspan=\"2\" valign=\"top\">0</th>\n",
       "      <th>0</th>\n",
       "      <td>22269</td>\n",
       "    </tr>\n",
       "    <tr>\n",
       "      <th>1</th>\n",
       "      <td>3449</td>\n",
       "    </tr>\n",
       "    <tr>\n",
       "      <th>1</th>\n",
       "      <th>0</th>\n",
       "      <td>11</td>\n",
       "    </tr>\n",
       "    <tr>\n",
       "      <th rowspan=\"2\" valign=\"top\">2</th>\n",
       "      <th>0</th>\n",
       "      <td>45</td>\n",
       "    </tr>\n",
       "    <tr>\n",
       "      <th>1</th>\n",
       "      <td>1</td>\n",
       "    </tr>\n",
       "    <tr>\n",
       "      <th rowspan=\"2\" valign=\"top\">3</th>\n",
       "      <th>0</th>\n",
       "      <td>97</td>\n",
       "    </tr>\n",
       "    <tr>\n",
       "      <th>1</th>\n",
       "      <td>5</td>\n",
       "    </tr>\n",
       "    <tr>\n",
       "      <th rowspan=\"2\" valign=\"top\">4</th>\n",
       "      <th>0</th>\n",
       "      <td>10762</td>\n",
       "    </tr>\n",
       "    <tr>\n",
       "      <th>1</th>\n",
       "      <td>647</td>\n",
       "    </tr>\n",
       "  </tbody>\n",
       "</table>\n",
       "</div>"
      ],
      "text/plain": [
       "                    Class\n",
       "CreationDate Class       \n",
       "0            0      22269\n",
       "             1       3449\n",
       "1            0         11\n",
       "2            0         45\n",
       "             1          1\n",
       "3            0         97\n",
       "             1          5\n",
       "4            0      10762\n",
       "             1        647"
      ]
     },
     "execution_count": 866,
     "metadata": {},
     "output_type": "execute_result"
    }
   ],
   "source": [
    "# Get class breakdown of domains based on this feature\n",
    "data.groupby([\"CreationDate\", \"Class\"]).agg({\"Class\": \"count\"})"
   ]
  },
  {
   "cell_type": "markdown",
   "metadata": {},
   "source": [
    "### LastUpdateDate\n",
    "\n",
    "|  Type   | Default Value |\n",
    "| :-----: | :-----------: |\n",
    "| Enum    | null          |\n",
    "\n",
    "The time since the reigstration information was last updated enumerated into the following bins:\n",
    "\n",
    "| Enum | Date      |\n",
    "| :--: | :-------: |\n",
    "| 0    | No Data   |\n",
    "| 1    | < 1 month |\n",
    "| 2    | < 6 months |\n",
    "| 2    | < 1 year |\n",
    "| 2    | >= 1 year |"
   ]
  },
  {
   "cell_type": "code",
   "execution_count": 867,
   "metadata": {},
   "outputs": [
    {
     "data": {
      "text/html": [
       "<div>\n",
       "<style scoped>\n",
       "    .dataframe tbody tr th:only-of-type {\n",
       "        vertical-align: middle;\n",
       "    }\n",
       "\n",
       "    .dataframe tbody tr th {\n",
       "        vertical-align: top;\n",
       "    }\n",
       "\n",
       "    .dataframe thead th {\n",
       "        text-align: right;\n",
       "    }\n",
       "</style>\n",
       "<table border=\"1\" class=\"dataframe\">\n",
       "  <thead>\n",
       "    <tr style=\"text-align: right;\">\n",
       "      <th></th>\n",
       "      <th></th>\n",
       "      <th>Class</th>\n",
       "    </tr>\n",
       "    <tr>\n",
       "      <th>LastUpdateDate</th>\n",
       "      <th>Class</th>\n",
       "      <th></th>\n",
       "    </tr>\n",
       "  </thead>\n",
       "  <tbody>\n",
       "    <tr>\n",
       "      <th rowspan=\"2\" valign=\"top\">0</th>\n",
       "      <th>0</th>\n",
       "      <td>14355</td>\n",
       "    </tr>\n",
       "    <tr>\n",
       "      <th>1</th>\n",
       "      <td>3017</td>\n",
       "    </tr>\n",
       "    <tr>\n",
       "      <th rowspan=\"2\" valign=\"top\">1</th>\n",
       "      <th>0</th>\n",
       "      <td>212</td>\n",
       "    </tr>\n",
       "    <tr>\n",
       "      <th>1</th>\n",
       "      <td>26</td>\n",
       "    </tr>\n",
       "    <tr>\n",
       "      <th rowspan=\"2\" valign=\"top\">2</th>\n",
       "      <th>0</th>\n",
       "      <td>1111</td>\n",
       "    </tr>\n",
       "    <tr>\n",
       "      <th>1</th>\n",
       "      <td>47</td>\n",
       "    </tr>\n",
       "    <tr>\n",
       "      <th rowspan=\"2\" valign=\"top\">3</th>\n",
       "      <th>0</th>\n",
       "      <td>951</td>\n",
       "    </tr>\n",
       "    <tr>\n",
       "      <th>1</th>\n",
       "      <td>43</td>\n",
       "    </tr>\n",
       "    <tr>\n",
       "      <th rowspan=\"2\" valign=\"top\">4</th>\n",
       "      <th>0</th>\n",
       "      <td>16555</td>\n",
       "    </tr>\n",
       "    <tr>\n",
       "      <th>1</th>\n",
       "      <td>969</td>\n",
       "    </tr>\n",
       "  </tbody>\n",
       "</table>\n",
       "</div>"
      ],
      "text/plain": [
       "                      Class\n",
       "LastUpdateDate Class       \n",
       "0              0      14355\n",
       "               1       3017\n",
       "1              0        212\n",
       "               1         26\n",
       "2              0       1111\n",
       "               1         47\n",
       "3              0        951\n",
       "               1         43\n",
       "4              0      16555\n",
       "               1        969"
      ]
     },
     "execution_count": 867,
     "metadata": {},
     "output_type": "execute_result"
    }
   ],
   "source": [
    "# Get class breakdown of domains based on this feature\n",
    "data.groupby([\"LastUpdateDate\", \"Class\"]).agg({\"Class\": \"count\"})"
   ]
  },
  {
   "cell_type": "markdown",
   "metadata": {},
   "source": [
    "### ASN\n",
    "\n",
    "|  Type   | Default Value |\n",
    "| :-----: | :-----------: |\n",
    "| Integer | -1            |\n",
    "\n",
    "The Autonomous System Number (ASN) associated with the domain's IP address. Discarding for simillar reasons to the country code feature and the large volume of missing values."
   ]
  },
  {
   "cell_type": "code",
   "execution_count": 868,
   "metadata": {},
   "outputs": [
    {
     "data": {
      "text/plain": [
       "<AxesSubplot:title={'center':'Top 10 ASNs'}>"
      ]
     },
     "execution_count": 868,
     "metadata": {},
     "output_type": "execute_result"
    },
    {
     "data": {
      "image/png": "[encoded data removed]",
      "text/plain": [
       "<Figure size 432x288 with 1 Axes>"
      ]
     },
     "metadata": {
      "needs_background": "light"
     },
     "output_type": "display_data"
    }
   ],
   "source": [
    "# Plot a barchart displaying the domain counts for the top ten ASNs\n",
    "data.ASN.value_counts().head(10).plot.bar(title=\"Top 10 ASNs\")"
   ]
  },
  {
   "cell_type": "code",
   "execution_count": 869,
   "metadata": {},
   "outputs": [],
   "source": [
    "data = data.drop(columns=[\"ASN\"])"
   ]
  },
  {
   "cell_type": "markdown",
   "metadata": {},
   "source": [
    "### HttpResponseCode\n",
    "\n",
    "|  Type   | Default Value |\n",
    "| :-----: | :-----------: |\n",
    "| Enum    | 0             |\n",
    "\n",
    "The HTTP response code returned from querying the domain via HTTP(S). \n",
    "\n",
    "| Enum | Status |\n",
    "| :--: | :----: |\n",
    "| 0    | No data     |\n",
    "| 1    | 1XX (Info)  |\n",
    "| 2    | 2XX (Success) |\n",
    "| 3    | 3XX (Redirect)|\n",
    "| 4    | 4XX (Client error) |\n",
    "| 5    | 5XX (Server error) |\n"
   ]
  },
  {
   "cell_type": "code",
   "execution_count": 870,
   "metadata": {},
   "outputs": [
    {
     "data": {
      "text/html": [
       "<div>\n",
       "<style scoped>\n",
       "    .dataframe tbody tr th:only-of-type {\n",
       "        vertical-align: middle;\n",
       "    }\n",
       "\n",
       "    .dataframe tbody tr th {\n",
       "        vertical-align: top;\n",
       "    }\n",
       "\n",
       "    .dataframe thead th {\n",
       "        text-align: right;\n",
       "    }\n",
       "</style>\n",
       "<table border=\"1\" class=\"dataframe\">\n",
       "  <thead>\n",
       "    <tr style=\"text-align: right;\">\n",
       "      <th></th>\n",
       "      <th></th>\n",
       "      <th>Class</th>\n",
       "    </tr>\n",
       "    <tr>\n",
       "      <th>HttpResponseCode</th>\n",
       "      <th>Class</th>\n",
       "      <th></th>\n",
       "    </tr>\n",
       "  </thead>\n",
       "  <tbody>\n",
       "    <tr>\n",
       "      <th rowspan=\"2\" valign=\"top\">0</th>\n",
       "      <th>0</th>\n",
       "      <td>16395</td>\n",
       "    </tr>\n",
       "    <tr>\n",
       "      <th>1</th>\n",
       "      <td>3622</td>\n",
       "    </tr>\n",
       "    <tr>\n",
       "      <th rowspan=\"2\" valign=\"top\">2</th>\n",
       "      <th>0</th>\n",
       "      <td>12669</td>\n",
       "    </tr>\n",
       "    <tr>\n",
       "      <th>1</th>\n",
       "      <td>336</td>\n",
       "    </tr>\n",
       "    <tr>\n",
       "      <th rowspan=\"2\" valign=\"top\">4</th>\n",
       "      <th>0</th>\n",
       "      <td>3773</td>\n",
       "    </tr>\n",
       "    <tr>\n",
       "      <th>1</th>\n",
       "      <td>108</td>\n",
       "    </tr>\n",
       "    <tr>\n",
       "      <th rowspan=\"2\" valign=\"top\">5</th>\n",
       "      <th>0</th>\n",
       "      <td>347</td>\n",
       "    </tr>\n",
       "    <tr>\n",
       "      <th>1</th>\n",
       "      <td>36</td>\n",
       "    </tr>\n",
       "  </tbody>\n",
       "</table>\n",
       "</div>"
      ],
      "text/plain": [
       "                        Class\n",
       "HttpResponseCode Class       \n",
       "0                0      16395\n",
       "                 1       3622\n",
       "2                0      12669\n",
       "                 1        336\n",
       "4                0       3773\n",
       "                 1        108\n",
       "5                0        347\n",
       "                 1         36"
      ]
     },
     "execution_count": 870,
     "metadata": {},
     "output_type": "execute_result"
    }
   ],
   "source": [
    "# Get class breakdown of domains based on this feature\n",
    "data.groupby([\"HttpResponseCode\", \"Class\"]).agg({\"Class\": \"count\"})"
   ]
  },
  {
   "cell_type": "markdown",
   "metadata": {},
   "source": [
    "### RegisteredOrg\n",
    "\n",
    "Original\n",
    "|  Type | Default Value |\n",
    "| :---: | :-----------: |\n",
    "| Text  | null          |\n",
    "\n",
    "The organization name associated with the domain registration information.\n",
    "\n",
    "Transformed\n",
    "|  Type    | Default Value |\n",
    "| :------: | :-----------: |\n",
    "| Boolean  | N/A           |\n",
    "\n",
    "Whether or not the domain has an organization associated with it in its registration information."
   ]
  },
  {
   "cell_type": "code",
   "execution_count": 871,
   "metadata": {},
   "outputs": [
    {
     "data": {
      "text/plain": [
       "<AxesSubplot:title={'center':'Top 10 Orgs'}>"
      ]
     },
     "execution_count": 871,
     "metadata": {},
     "output_type": "execute_result"
    },
    {
     "data": {
      "image/png": "[encoded data removed]",
      "text/plain": [
       "<Figure size 432x288 with 1 Axes>"
      ]
     },
     "metadata": {
      "needs_background": "light"
     },
     "output_type": "display_data"
    }
   ],
   "source": [
    "# Plot a barchart displaying the domain counts for the top ten Orgs\n",
    "data.RegisteredOrg.value_counts().head(10).plot.bar(title=\"Top 10 Orgs\")"
   ]
  },
  {
   "cell_type": "code",
   "execution_count": 872,
   "metadata": {},
   "outputs": [
    {
     "name": "stdout",
     "output_type": "stream",
     "text": [
      "Null values: 17342\n"
     ]
    }
   ],
   "source": [
    "# Are there any null values?\n",
    "print(\"Null values: %d\" % (data[\"RegisteredOrg\"].isnull().sum()))"
   ]
  },
  {
   "cell_type": "code",
   "execution_count": 873,
   "metadata": {},
   "outputs": [
    {
     "data": {
      "text/plain": [
       "<AxesSubplot:title={'center':'Class of Null RegisteredOrg Values'}>"
      ]
     },
     "execution_count": 873,
     "metadata": {},
     "output_type": "execute_result"
    },
    {
     "data": {
      "image/png": "[encoded data removed]",
      "text/plain": [
       "<Figure size 432x288 with 1 Axes>"
      ]
     },
     "metadata": {
      "needs_background": "light"
     },
     "output_type": "display_data"
    }
   ],
   "source": [
    "data[\"Class\"][data.RegisteredOrg.isnull()].value_counts().plot.bar(title=\"Class of Null RegisteredOrg Values\")"
   ]
  },
  {
   "cell_type": "markdown",
   "metadata": {},
   "source": [
    "As seen above, there is a significant number of null values for this feature. And a large majority of datapoints with a null RegisteredOrg are classified as malicious. The publishers of this dataset state that this is likely due to malicous actors being less likely to release this information.\n",
    "\n",
    "Given the above information, we will transform this feature from the text datatype to a boolean datatype which represents whether or not the registered organization was available for a given domain."
   ]
  },
  {
   "cell_type": "code",
   "execution_count": 874,
   "metadata": {},
   "outputs": [],
   "source": [
    "data[\"RegisteredOrg\"] = ~data.RegisteredOrg.isnull()"
   ]
  },
  {
   "cell_type": "markdown",
   "metadata": {},
   "source": [
    "### SubdomainNumber\n",
    "\n",
    "|  Type   | Default Value |\n",
    "| :-----: | :-----------: |\n",
    "| Integer | 0             |\n",
    "\n",
    "The number of subdomains the domain has. "
   ]
  },
  {
   "cell_type": "code",
   "execution_count": 875,
   "metadata": {},
   "outputs": [
    {
     "data": {
      "text/html": [
       "<div>\n",
       "<style scoped>\n",
       "    .dataframe tbody tr th:only-of-type {\n",
       "        vertical-align: middle;\n",
       "    }\n",
       "\n",
       "    .dataframe tbody tr th {\n",
       "        vertical-align: top;\n",
       "    }\n",
       "\n",
       "    .dataframe thead th {\n",
       "        text-align: right;\n",
       "    }\n",
       "</style>\n",
       "<table border=\"1\" class=\"dataframe\">\n",
       "  <thead>\n",
       "    <tr style=\"text-align: right;\">\n",
       "      <th></th>\n",
       "      <th></th>\n",
       "      <th>Class</th>\n",
       "    </tr>\n",
       "    <tr>\n",
       "      <th>SubdomainNumber</th>\n",
       "      <th>Class</th>\n",
       "      <th></th>\n",
       "    </tr>\n",
       "  </thead>\n",
       "  <tbody>\n",
       "    <tr>\n",
       "      <th rowspan=\"2\" valign=\"top\">0</th>\n",
       "      <th>0</th>\n",
       "      <td>31231</td>\n",
       "    </tr>\n",
       "    <tr>\n",
       "      <th>1</th>\n",
       "      <td>3834</td>\n",
       "    </tr>\n",
       "    <tr>\n",
       "      <th rowspan=\"2\" valign=\"top\">1</th>\n",
       "      <th>0</th>\n",
       "      <td>731</td>\n",
       "    </tr>\n",
       "    <tr>\n",
       "      <th>1</th>\n",
       "      <td>21</td>\n",
       "    </tr>\n",
       "    <tr>\n",
       "      <th>2</th>\n",
       "      <th>0</th>\n",
       "      <td>206</td>\n",
       "    </tr>\n",
       "    <tr>\n",
       "      <th>...</th>\n",
       "      <th>...</th>\n",
       "      <td>...</td>\n",
       "    </tr>\n",
       "    <tr>\n",
       "      <th>113432</th>\n",
       "      <th>0</th>\n",
       "      <td>1</td>\n",
       "    </tr>\n",
       "    <tr>\n",
       "      <th>160588</th>\n",
       "      <th>0</th>\n",
       "      <td>8</td>\n",
       "    </tr>\n",
       "    <tr>\n",
       "      <th>493404</th>\n",
       "      <th>0</th>\n",
       "      <td>2</td>\n",
       "    </tr>\n",
       "    <tr>\n",
       "      <th>526626</th>\n",
       "      <th>0</th>\n",
       "      <td>1</td>\n",
       "    </tr>\n",
       "    <tr>\n",
       "      <th>661909</th>\n",
       "      <th>0</th>\n",
       "      <td>1</td>\n",
       "    </tr>\n",
       "  </tbody>\n",
       "</table>\n",
       "<p>215 rows × 1 columns</p>\n",
       "</div>"
      ],
      "text/plain": [
       "                       Class\n",
       "SubdomainNumber Class       \n",
       "0               0      31231\n",
       "                1       3834\n",
       "1               0        731\n",
       "                1         21\n",
       "2               0        206\n",
       "...                      ...\n",
       "113432          0          1\n",
       "160588          0          8\n",
       "493404          0          2\n",
       "526626          0          1\n",
       "661909          0          1\n",
       "\n",
       "[215 rows x 1 columns]"
      ]
     },
     "execution_count": 875,
     "metadata": {},
     "output_type": "execute_result"
    }
   ],
   "source": [
    "# Get class breakdown of domains based on this feature\n",
    "data.groupby([\"SubdomainNumber\", \"Class\"]).agg({\"Class\": \"count\"})"
   ]
  },
  {
   "cell_type": "code",
   "execution_count": 876,
   "metadata": {},
   "outputs": [
    {
     "data": {
      "text/plain": [
       "<AxesSubplot:>"
      ]
     },
     "execution_count": 876,
     "metadata": {},
     "output_type": "execute_result"
    },
    {
     "data": {
      "image/png": "[encoded data removed]",
      "text/plain": [
       "<Figure size 432x288 with 1 Axes>"
      ]
     },
     "metadata": {
      "needs_background": "light"
     },
     "output_type": "display_data"
    }
   ],
   "source": [
    "data.boxplot(column=\"SubdomainNumber\")"
   ]
  },
  {
   "cell_type": "code",
   "execution_count": 877,
   "metadata": {},
   "outputs": [
    {
     "data": {
      "text/plain": [
       "count     37286.000000\n",
       "mean        186.579789\n",
       "std        6545.915668\n",
       "min           0.000000\n",
       "25%           0.000000\n",
       "50%           0.000000\n",
       "75%           0.000000\n",
       "max      661909.000000\n",
       "Name: SubdomainNumber, dtype: float64"
      ]
     },
     "execution_count": 877,
     "metadata": {},
     "output_type": "execute_result"
    }
   ],
   "source": [
    "data.SubdomainNumber.describe()"
   ]
  },
  {
   "cell_type": "markdown",
   "metadata": {},
   "source": [
    "This attribute appears to have a significant outlier problem."
   ]
  },
  {
   "cell_type": "code",
   "execution_count": 878,
   "metadata": {},
   "outputs": [
    {
     "name": "stdout",
     "output_type": "stream",
     "text": [
      "Subdomain Outlier Lower Limit:  0.0\n",
      "Subdomain Outlier Upper Limit:  0.0\n"
     ]
    }
   ],
   "source": [
    "Subdomain_Q1 = data[\"SubdomainNumber\"].quantile(0.25)\n",
    "Subdomain_Q3 = data[\"SubdomainNumber\"].quantile(0.75)\n",
    "Subdomain_IQR = Subdomain_Q3 - Subdomain_Q1\n",
    "Subdomain_LowerLim = Subdomain_Q1 - 1.5 * Subdomain_IQR\n",
    "Subdomain_UpperLim = Subdomain_Q3 + 1.5 * Subdomain_IQR\n",
    "print(\"Subdomain Outlier Lower Limit: \", Subdomain_LowerLim)\n",
    "print(\"Subdomain Outlier Upper Limit: \", Subdomain_UpperLim)"
   ]
  },
  {
   "cell_type": "markdown",
   "metadata": {},
   "source": [
    "As the lower and upper limit are both 0 and we know not all non zero values are outliers IQR is not an effective method of handling outliers here. Instead we discard any rows with SubdomainNumber > 20."
   ]
  },
  {
   "cell_type": "code",
   "execution_count": 879,
   "metadata": {},
   "outputs": [
    {
     "data": {
      "text/plain": [
       "count    36592.000000\n",
       "mean         0.135084\n",
       "std          0.987159\n",
       "min          0.000000\n",
       "25%          0.000000\n",
       "50%          0.000000\n",
       "75%          0.000000\n",
       "max         20.000000\n",
       "Name: SubdomainNumber, dtype: float64"
      ]
     },
     "execution_count": 879,
     "metadata": {},
     "output_type": "execute_result"
    }
   ],
   "source": [
    "data[\"SubdomainNumber\"] = data[\"SubdomainNumber\"][~(data[\"SubdomainNumber\"] > 20)]\n",
    "data.SubdomainNumber.describe()"
   ]
  },
  {
   "cell_type": "code",
   "execution_count": 880,
   "metadata": {},
   "outputs": [
    {
     "data": {
      "text/plain": [
       "<AxesSubplot:xlabel='SubdomainNumber'>"
      ]
     },
     "execution_count": 880,
     "metadata": {},
     "output_type": "execute_result"
    },
    {
     "data": {
      "image/png": "[encoded data removed]",
      "text/plain": [
       "<Figure size 432x288 with 1 Axes>"
      ]
     },
     "metadata": {
      "needs_background": "light"
     },
     "output_type": "display_data"
    }
   ],
   "source": [
    "pd.crosstab(data[\"SubdomainNumber\"], data[\"Class\"]).head(11).plot.bar()"
   ]
  },
  {
   "cell_type": "code",
   "execution_count": 881,
   "metadata": {},
   "outputs": [
    {
     "data": {
      "text/plain": [
       "<AxesSubplot:xlabel='SubdomainNumber'>"
      ]
     },
     "execution_count": 881,
     "metadata": {},
     "output_type": "execute_result"
    },
    {
     "data": {
      "image/png": "[encoded data removed]",
      "text/plain": [
       "<Figure size 432x288 with 1 Axes>"
      ]
     },
     "metadata": {
      "needs_background": "light"
     },
     "output_type": "display_data"
    }
   ],
   "source": [
    "pd.crosstab(data[\"SubdomainNumber\"], data[\"Class\"]).head(11).tail(10).plot.bar()"
   ]
  },
  {
   "cell_type": "markdown",
   "metadata": {},
   "source": [
    "### Entropy\n",
    "\n",
    "Original\n",
    "|  Type    | Default Value |\n",
    "| :------: | :-----------: |\n",
    "| Integer  | 0             |\n",
    "\n",
    "The entropy of the domain name."
   ]
  },
  {
   "cell_type": "code",
   "execution_count": 882,
   "metadata": {},
   "outputs": [
    {
     "data": {
      "text/html": [
       "<div>\n",
       "<style scoped>\n",
       "    .dataframe tbody tr th:only-of-type {\n",
       "        vertical-align: middle;\n",
       "    }\n",
       "\n",
       "    .dataframe tbody tr th {\n",
       "        vertical-align: top;\n",
       "    }\n",
       "\n",
       "    .dataframe thead th {\n",
       "        text-align: right;\n",
       "    }\n",
       "</style>\n",
       "<table border=\"1\" class=\"dataframe\">\n",
       "  <thead>\n",
       "    <tr style=\"text-align: right;\">\n",
       "      <th></th>\n",
       "      <th></th>\n",
       "      <th>Class</th>\n",
       "    </tr>\n",
       "    <tr>\n",
       "      <th>Entropy</th>\n",
       "      <th>Class</th>\n",
       "      <th></th>\n",
       "    </tr>\n",
       "  </thead>\n",
       "  <tbody>\n",
       "    <tr>\n",
       "      <th rowspan=\"2\" valign=\"top\">0</th>\n",
       "      <th>0</th>\n",
       "      <td>3</td>\n",
       "    </tr>\n",
       "    <tr>\n",
       "      <th>1</th>\n",
       "      <td>6</td>\n",
       "    </tr>\n",
       "    <tr>\n",
       "      <th rowspan=\"2\" valign=\"top\">1</th>\n",
       "      <th>0</th>\n",
       "      <td>343</td>\n",
       "    </tr>\n",
       "    <tr>\n",
       "      <th>1</th>\n",
       "      <td>84</td>\n",
       "    </tr>\n",
       "    <tr>\n",
       "      <th rowspan=\"2\" valign=\"top\">2</th>\n",
       "      <th>0</th>\n",
       "      <td>9314</td>\n",
       "    </tr>\n",
       "    <tr>\n",
       "      <th>1</th>\n",
       "      <td>319</td>\n",
       "    </tr>\n",
       "    <tr>\n",
       "      <th rowspan=\"2\" valign=\"top\">3</th>\n",
       "      <th>0</th>\n",
       "      <td>22398</td>\n",
       "    </tr>\n",
       "    <tr>\n",
       "      <th>1</th>\n",
       "      <td>878</td>\n",
       "    </tr>\n",
       "    <tr>\n",
       "      <th rowspan=\"2\" valign=\"top\">4</th>\n",
       "      <th>0</th>\n",
       "      <td>1126</td>\n",
       "    </tr>\n",
       "    <tr>\n",
       "      <th>1</th>\n",
       "      <td>2642</td>\n",
       "    </tr>\n",
       "    <tr>\n",
       "      <th>5</th>\n",
       "      <th>1</th>\n",
       "      <td>173</td>\n",
       "    </tr>\n",
       "  </tbody>\n",
       "</table>\n",
       "</div>"
      ],
      "text/plain": [
       "               Class\n",
       "Entropy Class       \n",
       "0       0          3\n",
       "        1          6\n",
       "1       0        343\n",
       "        1         84\n",
       "2       0       9314\n",
       "        1        319\n",
       "3       0      22398\n",
       "        1        878\n",
       "4       0       1126\n",
       "        1       2642\n",
       "5       1        173"
      ]
     },
     "execution_count": 882,
     "metadata": {},
     "output_type": "execute_result"
    }
   ],
   "source": [
    "# Get class breakdown of domains based on this feature\n",
    "data.groupby([\"Entropy\", \"Class\"]).agg({\"Class\": \"count\"})"
   ]
  },
  {
   "cell_type": "code",
   "execution_count": 883,
   "metadata": {},
   "outputs": [
    {
     "data": {
      "text/plain": [
       "<AxesSubplot:xlabel='Entropy'>"
      ]
     },
     "execution_count": 883,
     "metadata": {},
     "output_type": "execute_result"
    },
    {
     "data": {
      "image/png": "[encoded data removed]",
      "text/plain": [
       "<Figure size 432x288 with 1 Axes>"
      ]
     },
     "metadata": {
      "needs_background": "light"
     },
     "output_type": "display_data"
    }
   ],
   "source": [
    "pd.crosstab(data[\"Entropy\"], data[\"Class\"]).plot.bar()"
   ]
  },
  {
   "cell_type": "markdown",
   "metadata": {},
   "source": [
    "### EntropyOfSubDomains\n",
    "\n",
    "Original\n",
    "|  Type    | Default Value |\n",
    "| :------: | :-----------: |\n",
    "| Integer  | 0             |\n",
    "\n",
    "The mean entropy of the subdomains."
   ]
  },
  {
   "cell_type": "code",
   "execution_count": 884,
   "metadata": {},
   "outputs": [
    {
     "data": {
      "text/html": [
       "<div>\n",
       "<style scoped>\n",
       "    .dataframe tbody tr th:only-of-type {\n",
       "        vertical-align: middle;\n",
       "    }\n",
       "\n",
       "    .dataframe tbody tr th {\n",
       "        vertical-align: top;\n",
       "    }\n",
       "\n",
       "    .dataframe thead th {\n",
       "        text-align: right;\n",
       "    }\n",
       "</style>\n",
       "<table border=\"1\" class=\"dataframe\">\n",
       "  <thead>\n",
       "    <tr style=\"text-align: right;\">\n",
       "      <th></th>\n",
       "      <th></th>\n",
       "      <th>Class</th>\n",
       "    </tr>\n",
       "    <tr>\n",
       "      <th>EntropyOfSubDomains</th>\n",
       "      <th>Class</th>\n",
       "      <th></th>\n",
       "    </tr>\n",
       "  </thead>\n",
       "  <tbody>\n",
       "    <tr>\n",
       "      <th rowspan=\"2\" valign=\"top\">0</th>\n",
       "      <th>0</th>\n",
       "      <td>33054</td>\n",
       "    </tr>\n",
       "    <tr>\n",
       "      <th>1</th>\n",
       "      <td>4097</td>\n",
       "    </tr>\n",
       "    <tr>\n",
       "      <th rowspan=\"2\" valign=\"top\">1</th>\n",
       "      <th>0</th>\n",
       "      <td>35</td>\n",
       "    </tr>\n",
       "    <tr>\n",
       "      <th>1</th>\n",
       "      <td>4</td>\n",
       "    </tr>\n",
       "    <tr>\n",
       "      <th rowspan=\"2\" valign=\"top\">2</th>\n",
       "      <th>0</th>\n",
       "      <td>74</td>\n",
       "    </tr>\n",
       "    <tr>\n",
       "      <th>1</th>\n",
       "      <td>1</td>\n",
       "    </tr>\n",
       "    <tr>\n",
       "      <th>3</th>\n",
       "      <th>0</th>\n",
       "      <td>21</td>\n",
       "    </tr>\n",
       "  </tbody>\n",
       "</table>\n",
       "</div>"
      ],
      "text/plain": [
       "                           Class\n",
       "EntropyOfSubDomains Class       \n",
       "0                   0      33054\n",
       "                    1       4097\n",
       "1                   0         35\n",
       "                    1          4\n",
       "2                   0         74\n",
       "                    1          1\n",
       "3                   0         21"
      ]
     },
     "execution_count": 884,
     "metadata": {},
     "output_type": "execute_result"
    }
   ],
   "source": [
    "# Get class breakdown of domains based on this feature\n",
    "data.groupby([\"EntropyOfSubDomains\", \"Class\"]).agg({\"Class\": \"count\"})"
   ]
  },
  {
   "cell_type": "code",
   "execution_count": 885,
   "metadata": {},
   "outputs": [
    {
     "data": {
      "text/plain": [
       "<AxesSubplot:xlabel='EntropyOfSubDomains'>"
      ]
     },
     "execution_count": 885,
     "metadata": {},
     "output_type": "execute_result"
    },
    {
     "data": {
      "image/png": "[encoded data removed]",
      "text/plain": [
       "<Figure size 432x288 with 1 Axes>"
      ]
     },
     "metadata": {
      "needs_background": "light"
     },
     "output_type": "display_data"
    }
   ],
   "source": [
    "pd.crosstab(data[\"EntropyOfSubDomains\"], data[\"Class\"]).plot.bar()"
   ]
  },
  {
   "cell_type": "markdown",
   "metadata": {},
   "source": [
    "### StrangeCharacters\n",
    "\n",
    "|  Type    | Default Value |\n",
    "| :------: | :-----------: |\n",
    "| Integer  | 0             |\n",
    "\n",
    "The number of characters different from `[a-zA-Z]*[0-9]?[a-zA-Z]*[0-9]?[a-zA-Z]*`."
   ]
  },
  {
   "cell_type": "code",
   "execution_count": 886,
   "metadata": {},
   "outputs": [
    {
     "data": {
      "text/html": [
       "<div>\n",
       "<style scoped>\n",
       "    .dataframe tbody tr th:only-of-type {\n",
       "        vertical-align: middle;\n",
       "    }\n",
       "\n",
       "    .dataframe tbody tr th {\n",
       "        vertical-align: top;\n",
       "    }\n",
       "\n",
       "    .dataframe thead th {\n",
       "        text-align: right;\n",
       "    }\n",
       "</style>\n",
       "<table border=\"1\" class=\"dataframe\">\n",
       "  <thead>\n",
       "    <tr style=\"text-align: right;\">\n",
       "      <th></th>\n",
       "      <th></th>\n",
       "      <th>Class</th>\n",
       "    </tr>\n",
       "    <tr>\n",
       "      <th>StrangeCharacters</th>\n",
       "      <th>Class</th>\n",
       "      <th></th>\n",
       "    </tr>\n",
       "  </thead>\n",
       "  <tbody>\n",
       "    <tr>\n",
       "      <th rowspan=\"2\" valign=\"top\">0</th>\n",
       "      <th>0</th>\n",
       "      <td>26396</td>\n",
       "    </tr>\n",
       "    <tr>\n",
       "      <th>1</th>\n",
       "      <td>188</td>\n",
       "    </tr>\n",
       "    <tr>\n",
       "      <th rowspan=\"2\" valign=\"top\">1</th>\n",
       "      <th>0</th>\n",
       "      <td>4050</td>\n",
       "    </tr>\n",
       "    <tr>\n",
       "      <th>1</th>\n",
       "      <td>275</td>\n",
       "    </tr>\n",
       "    <tr>\n",
       "      <th>2</th>\n",
       "      <th>0</th>\n",
       "      <td>1220</td>\n",
       "    </tr>\n",
       "    <tr>\n",
       "      <th>...</th>\n",
       "      <th>...</th>\n",
       "      <td>...</td>\n",
       "    </tr>\n",
       "    <tr>\n",
       "      <th>51</th>\n",
       "      <th>1</th>\n",
       "      <td>1</td>\n",
       "    </tr>\n",
       "    <tr>\n",
       "      <th>52</th>\n",
       "      <th>1</th>\n",
       "      <td>2</td>\n",
       "    </tr>\n",
       "    <tr>\n",
       "      <th>58</th>\n",
       "      <th>1</th>\n",
       "      <td>1</td>\n",
       "    </tr>\n",
       "    <tr>\n",
       "      <th>61</th>\n",
       "      <th>1</th>\n",
       "      <td>2</td>\n",
       "    </tr>\n",
       "    <tr>\n",
       "      <th>124</th>\n",
       "      <th>1</th>\n",
       "      <td>1</td>\n",
       "    </tr>\n",
       "  </tbody>\n",
       "</table>\n",
       "<p>77 rows × 1 columns</p>\n",
       "</div>"
      ],
      "text/plain": [
       "                         Class\n",
       "StrangeCharacters Class       \n",
       "0                 0      26396\n",
       "                  1        188\n",
       "1                 0       4050\n",
       "                  1        275\n",
       "2                 0       1220\n",
       "...                        ...\n",
       "51                1          1\n",
       "52                1          2\n",
       "58                1          1\n",
       "61                1          2\n",
       "124               1          1\n",
       "\n",
       "[77 rows x 1 columns]"
      ]
     },
     "execution_count": 886,
     "metadata": {},
     "output_type": "execute_result"
    }
   ],
   "source": [
    "# Get class breakdown of domains based on this feature\n",
    "data.groupby([\"StrangeCharacters\", \"Class\"]).agg({\"Class\": \"count\"})"
   ]
  },
  {
   "cell_type": "code",
   "execution_count": 887,
   "metadata": {},
   "outputs": [
    {
     "data": {
      "text/plain": [
       "<AxesSubplot:>"
      ]
     },
     "execution_count": 887,
     "metadata": {},
     "output_type": "execute_result"
    },
    {
     "data": {
      "image/png": "[encoded data removed]",
      "text/plain": [
       "<Figure size 432x288 with 1 Axes>"
      ]
     },
     "metadata": {
      "needs_background": "light"
     },
     "output_type": "display_data"
    }
   ],
   "source": [
    "data.StrangeCharacters.hist()"
   ]
  },
  {
   "cell_type": "markdown",
   "metadata": {},
   "source": [
    "### TLD\n",
    "\n",
    "Original\n",
    "| Type | Default Value |\n",
    "| :--: | :-----------: |\n",
    "| Text | null          |\n",
    "\n",
    "The Top Level Domain (TLD).\n",
    "\n",
    "Transformed\n",
    "| Type    | Default Value |\n",
    "| :-----: | :-----------: |\n",
    "| Integer | N/A           |\n",
    "\n",
    "An integer representing the TLD of the domain."
   ]
  },
  {
   "cell_type": "code",
   "execution_count": 888,
   "metadata": {},
   "outputs": [
    {
     "data": {
      "text/html": [
       "<div>\n",
       "<style scoped>\n",
       "    .dataframe tbody tr th:only-of-type {\n",
       "        vertical-align: middle;\n",
       "    }\n",
       "\n",
       "    .dataframe tbody tr th {\n",
       "        vertical-align: top;\n",
       "    }\n",
       "\n",
       "    .dataframe thead th {\n",
       "        text-align: right;\n",
       "    }\n",
       "</style>\n",
       "<table border=\"1\" class=\"dataframe\">\n",
       "  <thead>\n",
       "    <tr style=\"text-align: right;\">\n",
       "      <th></th>\n",
       "      <th></th>\n",
       "      <th>Class</th>\n",
       "    </tr>\n",
       "    <tr>\n",
       "      <th>TLD</th>\n",
       "      <th>Class</th>\n",
       "      <th></th>\n",
       "    </tr>\n",
       "  </thead>\n",
       "  <tbody>\n",
       "    <tr>\n",
       "      <th>3utilities.com</th>\n",
       "      <th>0</th>\n",
       "      <td>1</td>\n",
       "    </tr>\n",
       "    <tr>\n",
       "      <th>ac.at</th>\n",
       "      <th>0</th>\n",
       "      <td>1</td>\n",
       "    </tr>\n",
       "    <tr>\n",
       "      <th>ac.cn</th>\n",
       "      <th>0</th>\n",
       "      <td>1</td>\n",
       "    </tr>\n",
       "    <tr>\n",
       "      <th>ac.cr</th>\n",
       "      <th>0</th>\n",
       "      <td>1</td>\n",
       "    </tr>\n",
       "    <tr>\n",
       "      <th>ac.id</th>\n",
       "      <th>0</th>\n",
       "      <td>27</td>\n",
       "    </tr>\n",
       "    <tr>\n",
       "      <th>...</th>\n",
       "      <th>...</th>\n",
       "      <td>...</td>\n",
       "    </tr>\n",
       "    <tr>\n",
       "      <th>yoga</th>\n",
       "      <th>0</th>\n",
       "      <td>1</td>\n",
       "    </tr>\n",
       "    <tr>\n",
       "      <th>yolasite.com</th>\n",
       "      <th>0</th>\n",
       "      <td>1</td>\n",
       "    </tr>\n",
       "    <tr>\n",
       "      <th>yt</th>\n",
       "      <th>0</th>\n",
       "      <td>2</td>\n",
       "    </tr>\n",
       "    <tr>\n",
       "      <th>za.net</th>\n",
       "      <th>0</th>\n",
       "      <td>2</td>\n",
       "    </tr>\n",
       "    <tr>\n",
       "      <th>zp.ua</th>\n",
       "      <th>0</th>\n",
       "      <td>1</td>\n",
       "    </tr>\n",
       "  </tbody>\n",
       "</table>\n",
       "<p>774 rows × 1 columns</p>\n",
       "</div>"
      ],
      "text/plain": [
       "                      Class\n",
       "TLD            Class       \n",
       "3utilities.com 0          1\n",
       "ac.at          0          1\n",
       "ac.cn          0          1\n",
       "ac.cr          0          1\n",
       "ac.id          0         27\n",
       "...                     ...\n",
       "yoga           0          1\n",
       "yolasite.com   0          1\n",
       "yt             0          2\n",
       "za.net         0          2\n",
       "zp.ua          0          1\n",
       "\n",
       "[774 rows x 1 columns]"
      ]
     },
     "execution_count": 888,
     "metadata": {},
     "output_type": "execute_result"
    }
   ],
   "source": [
    "# Get class breakdown of domains based on this feature\n",
    "data.groupby([\"TLD\", \"Class\"]).agg({\"Class\": \"count\"})"
   ]
  },
  {
   "cell_type": "code",
   "execution_count": 889,
   "metadata": {},
   "outputs": [
    {
     "name": "stdout",
     "output_type": "stream",
     "text": [
      "Null values: 164\n"
     ]
    }
   ],
   "source": [
    "# Are there any null values?\n",
    "print(\"Null values: %d\" % (data[\"TLD\"].isnull().sum()))"
   ]
  },
  {
   "cell_type": "code",
   "execution_count": 890,
   "metadata": {},
   "outputs": [
    {
     "data": {
      "text/html": [
       "<div>\n",
       "<style scoped>\n",
       "    .dataframe tbody tr th:only-of-type {\n",
       "        vertical-align: middle;\n",
       "    }\n",
       "\n",
       "    .dataframe tbody tr th {\n",
       "        vertical-align: top;\n",
       "    }\n",
       "\n",
       "    .dataframe thead th {\n",
       "        text-align: right;\n",
       "    }\n",
       "</style>\n",
       "<table border=\"1\" class=\"dataframe\">\n",
       "  <thead>\n",
       "    <tr style=\"text-align: right;\">\n",
       "      <th></th>\n",
       "      <th>Class</th>\n",
       "    </tr>\n",
       "    <tr>\n",
       "      <th>Class</th>\n",
       "      <th></th>\n",
       "    </tr>\n",
       "  </thead>\n",
       "  <tbody>\n",
       "    <tr>\n",
       "      <th>0</th>\n",
       "      <td>91</td>\n",
       "    </tr>\n",
       "    <tr>\n",
       "      <th>1</th>\n",
       "      <td>73</td>\n",
       "    </tr>\n",
       "  </tbody>\n",
       "</table>\n",
       "</div>"
      ],
      "text/plain": [
       "       Class\n",
       "Class       \n",
       "0         91\n",
       "1         73"
      ]
     },
     "execution_count": 890,
     "metadata": {},
     "output_type": "execute_result"
    }
   ],
   "source": [
    "data.loc[data[\"TLD\"].isnull()].groupby([\"Class\"]).agg({\"Class\": \"count\"})"
   ]
  },
  {
   "cell_type": "markdown",
   "metadata": {},
   "source": [
    "It does not make sense for a domain to not have a TLD, so we discard these rows:"
   ]
  },
  {
   "cell_type": "code",
   "execution_count": 891,
   "metadata": {},
   "outputs": [
    {
     "data": {
      "text/plain": [
       "0    33093\n",
       "1     4029\n",
       "Name: Class, dtype: int64"
      ]
     },
     "execution_count": 891,
     "metadata": {},
     "output_type": "execute_result"
    }
   ],
   "source": [
    "data = data.loc[~data[\"TLD\"].isnull()]\n",
    "data.Class.value_counts()"
   ]
  },
  {
   "cell_type": "markdown",
   "metadata": {},
   "source": [
    "Next, we transform the feature to the integer type:"
   ]
  },
  {
   "cell_type": "code",
   "execution_count": 892,
   "metadata": {},
   "outputs": [],
   "source": [
    "tld_le = preprocessing.LabelEncoder()\n",
    "tld_le.fit(data.TLD)\n",
    "data.TLD = tld_le.transform(data.TLD)"
   ]
  },
  {
   "cell_type": "markdown",
   "metadata": {},
   "source": [
    "### IpReputation\n",
    "\n",
    "|  Type    | Default Value |\n",
    "| :------: | :-----------: |\n",
    "| Boolean  | False         |\n",
    "\n",
    "If the domain's IP is blocklisted in a IP reputation database."
   ]
  },
  {
   "cell_type": "code",
   "execution_count": 893,
   "metadata": {},
   "outputs": [
    {
     "data": {
      "text/html": [
       "<div>\n",
       "<style scoped>\n",
       "    .dataframe tbody tr th:only-of-type {\n",
       "        vertical-align: middle;\n",
       "    }\n",
       "\n",
       "    .dataframe tbody tr th {\n",
       "        vertical-align: top;\n",
       "    }\n",
       "\n",
       "    .dataframe thead th {\n",
       "        text-align: right;\n",
       "    }\n",
       "</style>\n",
       "<table border=\"1\" class=\"dataframe\">\n",
       "  <thead>\n",
       "    <tr style=\"text-align: right;\">\n",
       "      <th></th>\n",
       "      <th></th>\n",
       "      <th>Class</th>\n",
       "    </tr>\n",
       "    <tr>\n",
       "      <th>IpReputation</th>\n",
       "      <th>Class</th>\n",
       "      <th></th>\n",
       "    </tr>\n",
       "  </thead>\n",
       "  <tbody>\n",
       "    <tr>\n",
       "      <th rowspan=\"2\" valign=\"top\">False</th>\n",
       "      <th>0</th>\n",
       "      <td>30179</td>\n",
       "    </tr>\n",
       "    <tr>\n",
       "      <th>1</th>\n",
       "      <td>3982</td>\n",
       "    </tr>\n",
       "    <tr>\n",
       "      <th rowspan=\"2\" valign=\"top\">True</th>\n",
       "      <th>0</th>\n",
       "      <td>2914</td>\n",
       "    </tr>\n",
       "    <tr>\n",
       "      <th>1</th>\n",
       "      <td>47</td>\n",
       "    </tr>\n",
       "  </tbody>\n",
       "</table>\n",
       "</div>"
      ],
      "text/plain": [
       "                    Class\n",
       "IpReputation Class       \n",
       "False        0      30179\n",
       "             1       3982\n",
       "True         0       2914\n",
       "             1         47"
      ]
     },
     "execution_count": 893,
     "metadata": {},
     "output_type": "execute_result"
    }
   ],
   "source": [
    "# Get class breakdown of domains based on this feature\n",
    "data.groupby([\"IpReputation\", \"Class\"]).agg({\"Class\": \"count\"})"
   ]
  },
  {
   "cell_type": "markdown",
   "metadata": {},
   "source": [
    "### DomainReputation\n",
    "\n",
    "|  Type    | Default Value |\n",
    "| :------: | :-----------: |\n",
    "| Boolean  | False         |\n",
    "\n",
    "If the domain is blocklisted in a domain reputation database."
   ]
  },
  {
   "cell_type": "code",
   "execution_count": 894,
   "metadata": {},
   "outputs": [
    {
     "data": {
      "text/html": [
       "<div>\n",
       "<style scoped>\n",
       "    .dataframe tbody tr th:only-of-type {\n",
       "        vertical-align: middle;\n",
       "    }\n",
       "\n",
       "    .dataframe tbody tr th {\n",
       "        vertical-align: top;\n",
       "    }\n",
       "\n",
       "    .dataframe thead th {\n",
       "        text-align: right;\n",
       "    }\n",
       "</style>\n",
       "<table border=\"1\" class=\"dataframe\">\n",
       "  <thead>\n",
       "    <tr style=\"text-align: right;\">\n",
       "      <th></th>\n",
       "      <th></th>\n",
       "      <th>Class</th>\n",
       "    </tr>\n",
       "    <tr>\n",
       "      <th>DomainReputation</th>\n",
       "      <th>Class</th>\n",
       "      <th></th>\n",
       "    </tr>\n",
       "  </thead>\n",
       "  <tbody>\n",
       "    <tr>\n",
       "      <th rowspan=\"2\" valign=\"top\">False</th>\n",
       "      <th>0</th>\n",
       "      <td>33043</td>\n",
       "    </tr>\n",
       "    <tr>\n",
       "      <th>1</th>\n",
       "      <td>4028</td>\n",
       "    </tr>\n",
       "    <tr>\n",
       "      <th rowspan=\"2\" valign=\"top\">True</th>\n",
       "      <th>0</th>\n",
       "      <td>50</td>\n",
       "    </tr>\n",
       "    <tr>\n",
       "      <th>1</th>\n",
       "      <td>1</td>\n",
       "    </tr>\n",
       "  </tbody>\n",
       "</table>\n",
       "</div>"
      ],
      "text/plain": [
       "                        Class\n",
       "DomainReputation Class       \n",
       "False            0      33043\n",
       "                 1       4028\n",
       "True             0         50\n",
       "                 1          1"
      ]
     },
     "execution_count": 894,
     "metadata": {},
     "output_type": "execute_result"
    }
   ],
   "source": [
    "# Get class breakdown of domains based on this feature\n",
    "data.groupby([\"DomainReputation\", \"Class\"]).agg({\"Class\": \"count\"})"
   ]
  },
  {
   "cell_type": "markdown",
   "metadata": {},
   "source": [
    "Discarding feature due to lack of true samples."
   ]
  },
  {
   "cell_type": "code",
   "execution_count": 895,
   "metadata": {},
   "outputs": [],
   "source": [
    "data = data.drop(columns=[\"DomainReputation\"])"
   ]
  },
  {
   "cell_type": "markdown",
   "metadata": {},
   "source": [
    "### ConsonantRatio\n",
    "\n",
    "|  Type    | Default Value |\n",
    "| :------: | :-----------: |\n",
    "| Decimal  | 0             |\n",
    "\n",
    "The ratio of consonants in the domain name."
   ]
  },
  {
   "cell_type": "code",
   "execution_count": 898,
   "metadata": {},
   "outputs": [
    {
     "data": {
      "text/plain": [
       "<AxesSubplot:>"
      ]
     },
     "execution_count": 898,
     "metadata": {},
     "output_type": "execute_result"
    },
    {
     "data": {
      "image/png": "[encoded data removed]",
      "text/plain": [
       "<Figure size 432x288 with 1 Axes>"
      ]
     },
     "metadata": {
      "needs_background": "light"
     },
     "output_type": "display_data"
    }
   ],
   "source": [
    "data.ConsonantRatio.hist()"
   ]
  },
  {
   "cell_type": "markdown",
   "metadata": {},
   "source": [
    "### NumericRatio\n",
    "\n",
    "|  Type    | Default Value |\n",
    "| :------: | :-----------: |\n",
    "| Decimal  | 0             |\n",
    "\n",
    "The ratio of numeric charicters in the domain name."
   ]
  },
  {
   "cell_type": "code",
   "execution_count": 899,
   "metadata": {},
   "outputs": [
    {
     "data": {
      "text/plain": [
       "<AxesSubplot:>"
      ]
     },
     "execution_count": 899,
     "metadata": {},
     "output_type": "execute_result"
    },
    {
     "data": {
      "image/png": "[encoded data removed]",
      "text/plain": [
       "<Figure size 432x288 with 1 Axes>"
      ]
     },
     "metadata": {
      "needs_background": "light"
     },
     "output_type": "display_data"
    }
   ],
   "source": [
    "data.NumericRatio.hist()"
   ]
  },
  {
   "cell_type": "markdown",
   "metadata": {},
   "source": [
    "### SpecialCharRatio\n",
    "\n",
    "|  Type    | Default Value |\n",
    "| :------: | :-----------: |\n",
    "| Decimal  | 0             |\n",
    "\n",
    "The ratio of special characters in the domain name."
   ]
  },
  {
   "cell_type": "code",
   "execution_count": 900,
   "metadata": {},
   "outputs": [
    {
     "data": {
      "text/plain": [
       "<AxesSubplot:>"
      ]
     },
     "execution_count": 900,
     "metadata": {},
     "output_type": "execute_result"
    },
    {
     "data": {
      "image/png": "[encoded data removed]",
      "text/plain": [
       "<Figure size 432x288 with 1 Axes>"
      ]
     },
     "metadata": {
      "needs_background": "light"
     },
     "output_type": "display_data"
    }
   ],
   "source": [
    "data.SpecialCharRatio.hist()"
   ]
  },
  {
   "cell_type": "markdown",
   "metadata": {},
   "source": [
    "### VowelRatio\n",
    "\n",
    "|  Type    | Default Value |\n",
    "| :------: | :-----------: |\n",
    "| Decimal  | 0             |\n",
    "\n",
    "The ratio of vowels in the domain name."
   ]
  },
  {
   "cell_type": "code",
   "execution_count": 901,
   "metadata": {},
   "outputs": [
    {
     "data": {
      "text/plain": [
       "<AxesSubplot:>"
      ]
     },
     "execution_count": 901,
     "metadata": {},
     "output_type": "execute_result"
    },
    {
     "data": {
      "image/png": "[encoded data removed]",
      "text/plain": [
       "<Figure size 432x288 with 1 Axes>"
      ]
     },
     "metadata": {
      "needs_background": "light"
     },
     "output_type": "display_data"
    }
   ],
   "source": [
    "data.VowelRatio.hist()"
   ]
  },
  {
   "cell_type": "markdown",
   "metadata": {},
   "source": [
    "### ConsonantSequence\n",
    "\n",
    "|  Type    | Default Value |\n",
    "| :------: | :-----------: |\n",
    "| Integer  | 0             |\n",
    "\n",
    "The maximum number of consecutive of consonants in the domain name."
   ]
  },
  {
   "cell_type": "code",
   "execution_count": 902,
   "metadata": {},
   "outputs": [
    {
     "data": {
      "text/plain": [
       "<AxesSubplot:>"
      ]
     },
     "execution_count": 902,
     "metadata": {},
     "output_type": "execute_result"
    },
    {
     "data": {
      "image/png": "[encoded data removed]",
      "text/plain": [
       "<Figure size 432x288 with 1 Axes>"
      ]
     },
     "metadata": {
      "needs_background": "light"
     },
     "output_type": "display_data"
    }
   ],
   "source": [
    "data.ConsonantSequence.hist()"
   ]
  },
  {
   "cell_type": "markdown",
   "metadata": {},
   "source": [
    "### VowelSequence\n",
    "\n",
    "|  Type    | Default Value |\n",
    "| :------: | :-----------: |\n",
    "| Integer  | 0             |\n",
    "\n",
    "The maximum number of consecutive of vowels in the domain name."
   ]
  },
  {
   "cell_type": "code",
   "execution_count": 903,
   "metadata": {},
   "outputs": [
    {
     "data": {
      "text/plain": [
       "<AxesSubplot:>"
      ]
     },
     "execution_count": 903,
     "metadata": {},
     "output_type": "execute_result"
    },
    {
     "data": {
      "image/png": "[encoded data removed]",
      "text/plain": [
       "<Figure size 432x288 with 1 Axes>"
      ]
     },
     "metadata": {
      "needs_background": "light"
     },
     "output_type": "display_data"
    }
   ],
   "source": [
    "data.VowelSequence.hist()"
   ]
  },
  {
   "cell_type": "markdown",
   "metadata": {},
   "source": [
    "### NumericSequence\n",
    "\n",
    "|  Type    | Default Value |\n",
    "| :------: | :-----------: |\n",
    "| Integer  | 0             |\n",
    "\n",
    "The maximum number of consecutive of numbers in the domain name."
   ]
  },
  {
   "cell_type": "code",
   "execution_count": 904,
   "metadata": {},
   "outputs": [
    {
     "data": {
      "text/plain": [
       "<AxesSubplot:>"
      ]
     },
     "execution_count": 904,
     "metadata": {},
     "output_type": "execute_result"
    },
    {
     "data": {
      "image/png": "[encoded data removed]",
      "text/plain": [
       "<Figure size 432x288 with 1 Axes>"
      ]
     },
     "metadata": {
      "needs_background": "light"
     },
     "output_type": "display_data"
    }
   ],
   "source": [
    "data.NumericSequence.hist()"
   ]
  },
  {
   "cell_type": "markdown",
   "metadata": {},
   "source": [
    "### SpecialCharSequence\n",
    "\n",
    "|  Type    | Default Value |\n",
    "| :------: | :-----------: |\n",
    "| Integer  | 0             |\n",
    "\n",
    "The maximum number of consecutive of special characters in the domain name."
   ]
  },
  {
   "cell_type": "code",
   "execution_count": 905,
   "metadata": {},
   "outputs": [
    {
     "data": {
      "text/plain": [
       "<AxesSubplot:>"
      ]
     },
     "execution_count": 905,
     "metadata": {},
     "output_type": "execute_result"
    },
    {
     "data": {
      "image/png": "[encoded data removed]",
      "text/plain": [
       "<Figure size 432x288 with 1 Axes>"
      ]
     },
     "metadata": {
      "needs_background": "light"
     },
     "output_type": "display_data"
    }
   ],
   "source": [
    "data.SpecialCharSequence.hist()"
   ]
  },
  {
   "cell_type": "markdown",
   "metadata": {},
   "source": [
    "### DomainLength\n",
    "\n",
    "|  Type    | Default Value |\n",
    "| :------: | :-----------: |\n",
    "| Integer  | N/A           |\n",
    "\n",
    "The number of characters in the domain name."
   ]
  },
  {
   "cell_type": "code",
   "execution_count": 906,
   "metadata": {},
   "outputs": [
    {
     "data": {
      "text/plain": [
       "<AxesSubplot:>"
      ]
     },
     "execution_count": 906,
     "metadata": {},
     "output_type": "execute_result"
    },
    {
     "data": {
      "image/png": "[encoded data removed]",
      "text/plain": [
       "<Figure size 432x288 with 1 Axes>"
      ]
     },
     "metadata": {
      "needs_background": "light"
     },
     "output_type": "display_data"
    }
   ],
   "source": [
    "data.DomainLength.hist()"
   ]
  },
  {
   "cell_type": "code",
   "execution_count": 910,
   "metadata": {},
   "outputs": [
    {
     "data": {
      "text/plain": [
       "<AxesSubplot:xlabel='DomainLength'>"
      ]
     },
     "execution_count": 910,
     "metadata": {},
     "output_type": "execute_result"
    },
    {
     "data": {
      "image/png": "[encoded data removed]",
      "text/plain": [
       "<Figure size 432x288 with 1 Axes>"
      ]
     },
     "metadata": {
      "needs_background": "light"
     },
     "output_type": "display_data"
    }
   ],
   "source": [
    "pd.crosstab(data[\"DomainLength\"], data[\"Class\"]).plot.bar(xticks=[])"
   ]
  },
  {
   "cell_type": "markdown",
   "metadata": {},
   "source": [
    "### Class\n",
    "\n",
    "|  Type    | Default Value |\n",
    "| :------: | :-----------: |\n",
    "| Enum     | N/A           |\n",
    "\n",
    "The class of the domain (malicious or benign).\n",
    "\n",
    "|  Enum    | Value     |\n",
    "| :------: | :-------: |\n",
    "| 0        | Malicious |\n",
    "| 1        | Benign    |"
   ]
  },
  {
   "cell_type": "code",
   "execution_count": 913,
   "metadata": {},
   "outputs": [
    {
     "data": {
      "text/plain": [
       "<AxesSubplot:xlabel='Class'>"
      ]
     },
     "execution_count": 913,
     "metadata": {},
     "output_type": "execute_result"
    },
    {
     "data": {
      "image/png": "[encoded data removed]",
      "text/plain": [
       "<Figure size 432x288 with 1 Axes>"
      ]
     },
     "metadata": {
      "needs_background": "light"
     },
     "output_type": "display_data"
    }
   ],
   "source": [
    "pd.crosstab(data[\"Class\"], data[\"Class\"]).plot.bar(xticks=[])"
   ]
  }
 ],
 "metadata": {
  "interpreter": {
   "hash": "aee8b7b246df8f9039afb4144a1f6fd8d2ca17a180786b69acc140d282b71a49"
  },
  "kernelspec": {
   "display_name": "Python 3.10.0 64-bit",
   "language": "python",
   "name": "python3"
  },
  "language_info": {
   "codemirror_mode": {
    "name": "ipython",
    "version": 3
   },
   "file_extension": ".py",
   "mimetype": "text/x-python",
   "name": "python",
   "nbconvert_exporter": "python",
   "pygments_lexer": "ipython3",
   "version": "3.10.0"
  },
  "orig_nbformat": 4
 },
 "nbformat": 4,
 "nbformat_minor": 2
}
