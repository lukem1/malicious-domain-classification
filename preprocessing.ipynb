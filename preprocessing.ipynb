{
 "cells": [
  {
   "cell_type": "markdown",
   "metadata": {},
   "source": [
    "# Malicous Domain Dataset Preprocessing"
   ]
  },
  {
   "cell_type": "code",
   "execution_count": 425,
   "metadata": {},
   "outputs": [
    {
     "name": "stdout",
     "output_type": "stream",
     "text": [
      "<class 'pandas.core.frame.DataFrame'>\n",
      "RangeIndex: 90000 entries, 0 to 89999\n",
      "Data columns (total 34 columns):\n",
      " #   Column               Non-Null Count  Dtype  \n",
      "---  ------               --------------  -----  \n",
      " 0   Domain               90000 non-null  int64  \n",
      " 1   DNSRecordType        90000 non-null  object \n",
      " 2   MXDnsResponse        90000 non-null  bool   \n",
      " 3   TXTDnsResponse       90000 non-null  bool   \n",
      " 4   HasSPFInfo           90000 non-null  bool   \n",
      " 5   HasDkimInfo          90000 non-null  bool   \n",
      " 6   HasDmarcInfo         90000 non-null  bool   \n",
      " 7   Ip                   90000 non-null  int64  \n",
      " 8   DomainInAlexaDB      90000 non-null  bool   \n",
      " 9   CommonPorts          90000 non-null  bool   \n",
      " 10  CountryCode          60948 non-null  object \n",
      " 11  RegisteredCountry    12226 non-null  object \n",
      " 12  CreationDate         90000 non-null  int64  \n",
      " 13  LastUpdateDate       90000 non-null  int64  \n",
      " 14  ASN                  90000 non-null  int64  \n",
      " 15  HttpResponseCode     90000 non-null  int64  \n",
      " 16  RegisteredOrg        54609 non-null  object \n",
      " 17  SubdomainNumber      90000 non-null  int64  \n",
      " 18  Entropy              90000 non-null  int64  \n",
      " 19  EntropyOfSubDomains  90000 non-null  int64  \n",
      " 20  StrangeCharacters    90000 non-null  int64  \n",
      " 21  TLD                  89830 non-null  object \n",
      " 22  IpReputation         90000 non-null  bool   \n",
      " 23  DomainReputation     90000 non-null  bool   \n",
      " 24  ConsoantRatio        90000 non-null  float64\n",
      " 25  NumericRatio         90000 non-null  float64\n",
      " 26  SpecialCharRatio     90000 non-null  float64\n",
      " 27  VowelRatio           90000 non-null  float64\n",
      " 28  ConsoantSequence     90000 non-null  int64  \n",
      " 29  VowelSequence        90000 non-null  int64  \n",
      " 30  NumericSequence      90000 non-null  int64  \n",
      " 31  SpecialCharSequence  90000 non-null  int64  \n",
      " 32  DomainLength         90000 non-null  int64  \n",
      " 33  Class                90000 non-null  int64  \n",
      "dtypes: bool(9), float64(4), int64(16), object(5)\n",
      "memory usage: 17.9+ MB\n"
     ]
    }
   ],
   "source": [
    "import pandas as pd\n",
    "\n",
    "datasource = \"dataset.csv\"\n",
    "data = pd.read_csv(datasource)\n",
    "\n",
    "data.info()"
   ]
  },
  {
   "cell_type": "code",
   "execution_count": 426,
   "metadata": {},
   "outputs": [
    {
     "data": {
      "text/html": [
       "<div>\n",
       "<style scoped>\n",
       "    .dataframe tbody tr th:only-of-type {\n",
       "        vertical-align: middle;\n",
       "    }\n",
       "\n",
       "    .dataframe tbody tr th {\n",
       "        vertical-align: top;\n",
       "    }\n",
       "\n",
       "    .dataframe thead th {\n",
       "        text-align: right;\n",
       "    }\n",
       "</style>\n",
       "<table border=\"1\" class=\"dataframe\">\n",
       "  <thead>\n",
       "    <tr style=\"text-align: right;\">\n",
       "      <th></th>\n",
       "      <th>Domain</th>\n",
       "      <th>Ip</th>\n",
       "      <th>CreationDate</th>\n",
       "      <th>LastUpdateDate</th>\n",
       "      <th>ASN</th>\n",
       "      <th>HttpResponseCode</th>\n",
       "      <th>SubdomainNumber</th>\n",
       "      <th>Entropy</th>\n",
       "      <th>EntropyOfSubDomains</th>\n",
       "      <th>StrangeCharacters</th>\n",
       "      <th>ConsoantRatio</th>\n",
       "      <th>NumericRatio</th>\n",
       "      <th>SpecialCharRatio</th>\n",
       "      <th>VowelRatio</th>\n",
       "      <th>ConsoantSequence</th>\n",
       "      <th>VowelSequence</th>\n",
       "      <th>NumericSequence</th>\n",
       "      <th>SpecialCharSequence</th>\n",
       "      <th>DomainLength</th>\n",
       "      <th>Class</th>\n",
       "    </tr>\n",
       "  </thead>\n",
       "  <tbody>\n",
       "    <tr>\n",
       "      <th>count</th>\n",
       "      <td>90000.000000</td>\n",
       "      <td>90000.000000</td>\n",
       "      <td>90000.000000</td>\n",
       "      <td>90000.000000</td>\n",
       "      <td>90000.000000</td>\n",
       "      <td>90000.000000</td>\n",
       "      <td>90000.000000</td>\n",
       "      <td>90000.000000</td>\n",
       "      <td>90000.000000</td>\n",
       "      <td>90000.000000</td>\n",
       "      <td>90000.000000</td>\n",
       "      <td>90000.000000</td>\n",
       "      <td>90000.000000</td>\n",
       "      <td>90000.000000</td>\n",
       "      <td>90000.000000</td>\n",
       "      <td>90000.000000</td>\n",
       "      <td>90000.000000</td>\n",
       "      <td>90000.000000</td>\n",
       "      <td>90000.000000</td>\n",
       "      <td>90000.000000</td>\n",
       "    </tr>\n",
       "    <tr>\n",
       "      <th>mean</th>\n",
       "      <td>44999.500000</td>\n",
       "      <td>13479.648033</td>\n",
       "      <td>1.933611</td>\n",
       "      <td>2.365744</td>\n",
       "      <td>23335.808167</td>\n",
       "      <td>0.667033</td>\n",
       "      <td>103.069200</td>\n",
       "      <td>2.866844</td>\n",
       "      <td>0.003178</td>\n",
       "      <td>3.498011</td>\n",
       "      <td>0.459519</td>\n",
       "      <td>0.144281</td>\n",
       "      <td>0.006526</td>\n",
       "      <td>0.261528</td>\n",
       "      <td>2.719222</td>\n",
       "      <td>1.342756</td>\n",
       "      <td>1.516478</td>\n",
       "      <td>0.112378</td>\n",
       "      <td>26.440422</td>\n",
       "      <td>0.500000</td>\n",
       "    </tr>\n",
       "    <tr>\n",
       "      <th>std</th>\n",
       "      <td>25980.906451</td>\n",
       "      <td>4160.266410</td>\n",
       "      <td>1.997232</td>\n",
       "      <td>1.935509</td>\n",
       "      <td>37004.865724</td>\n",
       "      <td>1.203285</td>\n",
       "      <td>4243.802846</td>\n",
       "      <td>0.488291</td>\n",
       "      <td>0.081042</td>\n",
       "      <td>4.471591</td>\n",
       "      <td>0.146031</td>\n",
       "      <td>0.147331</td>\n",
       "      <td>0.026162</td>\n",
       "      <td>0.098600</td>\n",
       "      <td>1.699339</td>\n",
       "      <td>0.554527</td>\n",
       "      <td>1.538932</td>\n",
       "      <td>0.431967</td>\n",
       "      <td>22.341135</td>\n",
       "      <td>0.500003</td>\n",
       "    </tr>\n",
       "    <tr>\n",
       "      <th>min</th>\n",
       "      <td>0.000000</td>\n",
       "      <td>0.000000</td>\n",
       "      <td>0.000000</td>\n",
       "      <td>0.000000</td>\n",
       "      <td>-1.000000</td>\n",
       "      <td>0.000000</td>\n",
       "      <td>0.000000</td>\n",
       "      <td>0.000000</td>\n",
       "      <td>0.000000</td>\n",
       "      <td>0.000000</td>\n",
       "      <td>0.000000</td>\n",
       "      <td>0.000000</td>\n",
       "      <td>0.000000</td>\n",
       "      <td>0.000000</td>\n",
       "      <td>0.000000</td>\n",
       "      <td>0.000000</td>\n",
       "      <td>0.000000</td>\n",
       "      <td>0.000000</td>\n",
       "      <td>4.000000</td>\n",
       "      <td>0.000000</td>\n",
       "    </tr>\n",
       "    <tr>\n",
       "      <th>25%</th>\n",
       "      <td>22499.750000</td>\n",
       "      <td>11709.750000</td>\n",
       "      <td>0.000000</td>\n",
       "      <td>0.000000</td>\n",
       "      <td>-1.000000</td>\n",
       "      <td>0.000000</td>\n",
       "      <td>0.000000</td>\n",
       "      <td>3.000000</td>\n",
       "      <td>0.000000</td>\n",
       "      <td>0.000000</td>\n",
       "      <td>0.300000</td>\n",
       "      <td>0.000000</td>\n",
       "      <td>0.000000</td>\n",
       "      <td>0.200000</td>\n",
       "      <td>2.000000</td>\n",
       "      <td>1.000000</td>\n",
       "      <td>0.000000</td>\n",
       "      <td>0.000000</td>\n",
       "      <td>15.000000</td>\n",
       "      <td>0.000000</td>\n",
       "    </tr>\n",
       "    <tr>\n",
       "      <th>50%</th>\n",
       "      <td>44999.500000</td>\n",
       "      <td>14626.000000</td>\n",
       "      <td>0.000000</td>\n",
       "      <td>4.000000</td>\n",
       "      <td>26228.000000</td>\n",
       "      <td>0.000000</td>\n",
       "      <td>0.000000</td>\n",
       "      <td>3.000000</td>\n",
       "      <td>0.000000</td>\n",
       "      <td>1.000000</td>\n",
       "      <td>0.500000</td>\n",
       "      <td>0.100000</td>\n",
       "      <td>0.000000</td>\n",
       "      <td>0.200000</td>\n",
       "      <td>2.000000</td>\n",
       "      <td>1.000000</td>\n",
       "      <td>1.000000</td>\n",
       "      <td>0.000000</td>\n",
       "      <td>24.000000</td>\n",
       "      <td>0.500000</td>\n",
       "    </tr>\n",
       "    <tr>\n",
       "      <th>75%</th>\n",
       "      <td>67499.250000</td>\n",
       "      <td>16984.000000</td>\n",
       "      <td>4.000000</td>\n",
       "      <td>4.000000</td>\n",
       "      <td>26228.000000</td>\n",
       "      <td>2.000000</td>\n",
       "      <td>57.000000</td>\n",
       "      <td>3.000000</td>\n",
       "      <td>0.000000</td>\n",
       "      <td>7.000000</td>\n",
       "      <td>0.600000</td>\n",
       "      <td>0.300000</td>\n",
       "      <td>0.000000</td>\n",
       "      <td>0.300000</td>\n",
       "      <td>3.000000</td>\n",
       "      <td>2.000000</td>\n",
       "      <td>3.000000</td>\n",
       "      <td>0.000000</td>\n",
       "      <td>31.000000</td>\n",
       "      <td>1.000000</td>\n",
       "    </tr>\n",
       "    <tr>\n",
       "      <th>max</th>\n",
       "      <td>89999.000000</td>\n",
       "      <td>16984.000000</td>\n",
       "      <td>4.000000</td>\n",
       "      <td>4.000000</td>\n",
       "      <td>398108.000000</td>\n",
       "      <td>5.000000</td>\n",
       "      <td>661909.000000</td>\n",
       "      <td>5.000000</td>\n",
       "      <td>3.000000</td>\n",
       "      <td>124.000000</td>\n",
       "      <td>1.000000</td>\n",
       "      <td>0.800000</td>\n",
       "      <td>0.900000</td>\n",
       "      <td>0.800000</td>\n",
       "      <td>37.000000</td>\n",
       "      <td>7.000000</td>\n",
       "      <td>45.000000</td>\n",
       "      <td>61.000000</td>\n",
       "      <td>153.000000</td>\n",
       "      <td>1.000000</td>\n",
       "    </tr>\n",
       "  </tbody>\n",
       "</table>\n",
       "</div>"
      ],
      "text/plain": [
       "             Domain            Ip  CreationDate  LastUpdateDate  \\\n",
       "count  90000.000000  90000.000000  90000.000000    90000.000000   \n",
       "mean   44999.500000  13479.648033      1.933611        2.365744   \n",
       "std    25980.906451   4160.266410      1.997232        1.935509   \n",
       "min        0.000000      0.000000      0.000000        0.000000   \n",
       "25%    22499.750000  11709.750000      0.000000        0.000000   \n",
       "50%    44999.500000  14626.000000      0.000000        4.000000   \n",
       "75%    67499.250000  16984.000000      4.000000        4.000000   \n",
       "max    89999.000000  16984.000000      4.000000        4.000000   \n",
       "\n",
       "                 ASN  HttpResponseCode  SubdomainNumber       Entropy  \\\n",
       "count   90000.000000      90000.000000     90000.000000  90000.000000   \n",
       "mean    23335.808167          0.667033       103.069200      2.866844   \n",
       "std     37004.865724          1.203285      4243.802846      0.488291   \n",
       "min        -1.000000          0.000000         0.000000      0.000000   \n",
       "25%        -1.000000          0.000000         0.000000      3.000000   \n",
       "50%     26228.000000          0.000000         0.000000      3.000000   \n",
       "75%     26228.000000          2.000000        57.000000      3.000000   \n",
       "max    398108.000000          5.000000    661909.000000      5.000000   \n",
       "\n",
       "       EntropyOfSubDomains  StrangeCharacters  ConsoantRatio  NumericRatio  \\\n",
       "count         90000.000000       90000.000000   90000.000000  90000.000000   \n",
       "mean              0.003178           3.498011       0.459519      0.144281   \n",
       "std               0.081042           4.471591       0.146031      0.147331   \n",
       "min               0.000000           0.000000       0.000000      0.000000   \n",
       "25%               0.000000           0.000000       0.300000      0.000000   \n",
       "50%               0.000000           1.000000       0.500000      0.100000   \n",
       "75%               0.000000           7.000000       0.600000      0.300000   \n",
       "max               3.000000         124.000000       1.000000      0.800000   \n",
       "\n",
       "       SpecialCharRatio    VowelRatio  ConsoantSequence  VowelSequence  \\\n",
       "count      90000.000000  90000.000000      90000.000000   90000.000000   \n",
       "mean           0.006526      0.261528          2.719222       1.342756   \n",
       "std            0.026162      0.098600          1.699339       0.554527   \n",
       "min            0.000000      0.000000          0.000000       0.000000   \n",
       "25%            0.000000      0.200000          2.000000       1.000000   \n",
       "50%            0.000000      0.200000          2.000000       1.000000   \n",
       "75%            0.000000      0.300000          3.000000       2.000000   \n",
       "max            0.900000      0.800000         37.000000       7.000000   \n",
       "\n",
       "       NumericSequence  SpecialCharSequence  DomainLength         Class  \n",
       "count     90000.000000         90000.000000  90000.000000  90000.000000  \n",
       "mean          1.516478             0.112378     26.440422      0.500000  \n",
       "std           1.538932             0.431967     22.341135      0.500003  \n",
       "min           0.000000             0.000000      4.000000      0.000000  \n",
       "25%           0.000000             0.000000     15.000000      0.000000  \n",
       "50%           1.000000             0.000000     24.000000      0.500000  \n",
       "75%           3.000000             0.000000     31.000000      1.000000  \n",
       "max          45.000000            61.000000    153.000000      1.000000  "
      ]
     },
     "execution_count": 426,
     "metadata": {},
     "output_type": "execute_result"
    }
   ],
   "source": [
    "data.describe()"
   ]
  },
  {
   "cell_type": "markdown",
   "metadata": {},
   "source": [
    "## Feature Cleaning and Selection\n",
    "\n",
    "### Domain\n",
    "\n",
    "|  Type   | Default Value |\n",
    "| :-----: | :-----------: |\n",
    "| Integer | N/A           |\n",
    "\n",
    "The anonymized domain name. Anonymized by mapping a unique domain name to a unique integer (ie `google.com -> 1`)."
   ]
  },
  {
   "cell_type": "code",
   "execution_count": 427,
   "metadata": {},
   "outputs": [
    {
     "name": "stdout",
     "output_type": "stream",
     "text": [
      "Duplicate values: 0\n",
      "Null values: 0\n"
     ]
    }
   ],
   "source": [
    "# Are there any duplicate rows?\n",
    "print(\"Duplicate values: %d\" % (data[\"Domain\"].size - data[\"Domain\"].unique().size))\n",
    "\n",
    "# Are there any null values?\n",
    "print(\"Null values: %d\" % (data[\"Domain\"].isnull().sum()))"
   ]
  },
  {
   "cell_type": "markdown",
   "metadata": {},
   "source": [
    "The domain feature is the base feature of this dataset. That is, all other features are derived from the domain name. Thus we do not want to use this feature in a model and we remove it from the dataset."
   ]
  },
  {
   "cell_type": "code",
   "execution_count": 428,
   "metadata": {},
   "outputs": [],
   "source": [
    "data = data.drop(columns=[\"Domain\"])"
   ]
  },
  {
   "cell_type": "markdown",
   "metadata": {},
   "source": [
    "### DNSRecordType\n",
    "\n",
    "|  Type   | Default Value |\n",
    "| :-----: | :-----------: |\n",
    "| Text    | N/A           |\n",
    "\n",
    "The DNS record type. Types are one of the following:\n",
    "\n",
    "|  Type   | Description |\n",
    "| :-----: | :---------: |\n",
    "| A       | IPv4 Record |\n",
    "| AAAA    | IPv6 Record |\n",
    "| CNAME   | Canonical Name Record |\n",
    "| MX      | Mail Exchange Record  |"
   ]
  },
  {
   "cell_type": "code",
   "execution_count": 429,
   "metadata": {},
   "outputs": [
    {
     "data": {
      "text/html": [
       "<div>\n",
       "<style scoped>\n",
       "    .dataframe tbody tr th:only-of-type {\n",
       "        vertical-align: middle;\n",
       "    }\n",
       "\n",
       "    .dataframe tbody tr th {\n",
       "        vertical-align: top;\n",
       "    }\n",
       "\n",
       "    .dataframe thead th {\n",
       "        text-align: right;\n",
       "    }\n",
       "</style>\n",
       "<table border=\"1\" class=\"dataframe\">\n",
       "  <thead>\n",
       "    <tr style=\"text-align: right;\">\n",
       "      <th></th>\n",
       "      <th></th>\n",
       "      <th>Class</th>\n",
       "    </tr>\n",
       "    <tr>\n",
       "      <th>DNSRecordType</th>\n",
       "      <th>Class</th>\n",
       "      <th></th>\n",
       "    </tr>\n",
       "  </thead>\n",
       "  <tbody>\n",
       "    <tr>\n",
       "      <th rowspan=\"2\" valign=\"top\">A</th>\n",
       "      <th>0</th>\n",
       "      <td>45000</td>\n",
       "    </tr>\n",
       "    <tr>\n",
       "      <th>1</th>\n",
       "      <td>4529</td>\n",
       "    </tr>\n",
       "    <tr>\n",
       "      <th>CNAME</th>\n",
       "      <th>1</th>\n",
       "      <td>35997</td>\n",
       "    </tr>\n",
       "    <tr>\n",
       "      <th>MX</th>\n",
       "      <th>1</th>\n",
       "      <td>4474</td>\n",
       "    </tr>\n",
       "  </tbody>\n",
       "</table>\n",
       "</div>"
      ],
      "text/plain": [
       "                     Class\n",
       "DNSRecordType Class       \n",
       "A             0      45000\n",
       "              1       4529\n",
       "CNAME         1      35997\n",
       "MX            1       4474"
      ]
     },
     "execution_count": 429,
     "metadata": {},
     "output_type": "execute_result"
    }
   ],
   "source": [
    "# Get class breakdown of domains based on this feature\n",
    "data.groupby([\"DNSRecordType\", \"Class\"]).agg({\"Class\": \"count\"})"
   ]
  },
  {
   "cell_type": "markdown",
   "metadata": {},
   "source": [
    "The dataset does not have a good mix of records -> classes. Both CNAME and MX have zero non malicious data points. Thus this feature must be discarded."
   ]
  },
  {
   "cell_type": "code",
   "execution_count": 430,
   "metadata": {},
   "outputs": [],
   "source": [
    "data = data.drop(columns=[\"DNSRecordType\"])"
   ]
  },
  {
   "cell_type": "markdown",
   "metadata": {},
   "source": [
    "### MXDnsResponse\n",
    "\n",
    "|  Type   | Default Value |\n",
    "| :-----: | :-----------: |\n",
    "| Boolean | False         |\n",
    "\n",
    "Whether or not a request for MX info returns information."
   ]
  },
  {
   "cell_type": "code",
   "execution_count": 431,
   "metadata": {},
   "outputs": [
    {
     "data": {
      "text/html": [
       "<div>\n",
       "<style scoped>\n",
       "    .dataframe tbody tr th:only-of-type {\n",
       "        vertical-align: middle;\n",
       "    }\n",
       "\n",
       "    .dataframe tbody tr th {\n",
       "        vertical-align: top;\n",
       "    }\n",
       "\n",
       "    .dataframe thead th {\n",
       "        text-align: right;\n",
       "    }\n",
       "</style>\n",
       "<table border=\"1\" class=\"dataframe\">\n",
       "  <thead>\n",
       "    <tr style=\"text-align: right;\">\n",
       "      <th></th>\n",
       "      <th></th>\n",
       "      <th>Class</th>\n",
       "    </tr>\n",
       "    <tr>\n",
       "      <th>MXDnsResponse</th>\n",
       "      <th>Class</th>\n",
       "      <th></th>\n",
       "    </tr>\n",
       "  </thead>\n",
       "  <tbody>\n",
       "    <tr>\n",
       "      <th rowspan=\"2\" valign=\"top\">False</th>\n",
       "      <th>0</th>\n",
       "      <td>30400</td>\n",
       "    </tr>\n",
       "    <tr>\n",
       "      <th>1</th>\n",
       "      <td>37057</td>\n",
       "    </tr>\n",
       "    <tr>\n",
       "      <th rowspan=\"2\" valign=\"top\">True</th>\n",
       "      <th>0</th>\n",
       "      <td>14600</td>\n",
       "    </tr>\n",
       "    <tr>\n",
       "      <th>1</th>\n",
       "      <td>7943</td>\n",
       "    </tr>\n",
       "  </tbody>\n",
       "</table>\n",
       "</div>"
      ],
      "text/plain": [
       "                     Class\n",
       "MXDnsResponse Class       \n",
       "False         0      30400\n",
       "              1      37057\n",
       "True          0      14600\n",
       "              1       7943"
      ]
     },
     "execution_count": 431,
     "metadata": {},
     "output_type": "execute_result"
    }
   ],
   "source": [
    "# Get class breakdown of domains based on this feature\n",
    "data.groupby([\"MXDnsResponse\", \"Class\"]).agg({\"Class\": \"count\"})"
   ]
  },
  {
   "cell_type": "markdown",
   "metadata": {},
   "source": [
    "### TXTDnsResponse\n",
    "\n",
    "|  Type   | Default Value |\n",
    "| :-----: | :-----------: |\n",
    "| Boolean | False         |\n",
    "\n",
    "Whether or not a request for TXT info returns information."
   ]
  },
  {
   "cell_type": "code",
   "execution_count": 432,
   "metadata": {},
   "outputs": [
    {
     "data": {
      "text/html": [
       "<div>\n",
       "<style scoped>\n",
       "    .dataframe tbody tr th:only-of-type {\n",
       "        vertical-align: middle;\n",
       "    }\n",
       "\n",
       "    .dataframe tbody tr th {\n",
       "        vertical-align: top;\n",
       "    }\n",
       "\n",
       "    .dataframe thead th {\n",
       "        text-align: right;\n",
       "    }\n",
       "</style>\n",
       "<table border=\"1\" class=\"dataframe\">\n",
       "  <thead>\n",
       "    <tr style=\"text-align: right;\">\n",
       "      <th></th>\n",
       "      <th></th>\n",
       "      <th>Class</th>\n",
       "    </tr>\n",
       "    <tr>\n",
       "      <th>TXTDnsResponse</th>\n",
       "      <th>Class</th>\n",
       "      <th></th>\n",
       "    </tr>\n",
       "  </thead>\n",
       "  <tbody>\n",
       "    <tr>\n",
       "      <th rowspan=\"2\" valign=\"top\">False</th>\n",
       "      <th>0</th>\n",
       "      <td>34388</td>\n",
       "    </tr>\n",
       "    <tr>\n",
       "      <th>1</th>\n",
       "      <td>10171</td>\n",
       "    </tr>\n",
       "    <tr>\n",
       "      <th rowspan=\"2\" valign=\"top\">True</th>\n",
       "      <th>0</th>\n",
       "      <td>10612</td>\n",
       "    </tr>\n",
       "    <tr>\n",
       "      <th>1</th>\n",
       "      <td>34829</td>\n",
       "    </tr>\n",
       "  </tbody>\n",
       "</table>\n",
       "</div>"
      ],
      "text/plain": [
       "                      Class\n",
       "TXTDnsResponse Class       \n",
       "False          0      34388\n",
       "               1      10171\n",
       "True           0      10612\n",
       "               1      34829"
      ]
     },
     "execution_count": 432,
     "metadata": {},
     "output_type": "execute_result"
    }
   ],
   "source": [
    "# Get class breakdown of domains based on this feature\n",
    "data.groupby([\"TXTDnsResponse\", \"Class\"]).agg({\"Class\": \"count\"})"
   ]
  },
  {
   "cell_type": "markdown",
   "metadata": {},
   "source": [
    "### HasSPFInfo\n",
    "\n",
    "|  Type   | Default Value |\n",
    "| :-----: | :-----------: |\n",
    "| Boolean | False         |\n",
    "\n",
    "If the DNS record has the Sender Policy Framework (SPF) attribute. SPF records list the servers authorized to send messages on behalf of a domain and are used to combat email spoofing."
   ]
  },
  {
   "cell_type": "code",
   "execution_count": 433,
   "metadata": {},
   "outputs": [
    {
     "data": {
      "text/html": [
       "<div>\n",
       "<style scoped>\n",
       "    .dataframe tbody tr th:only-of-type {\n",
       "        vertical-align: middle;\n",
       "    }\n",
       "\n",
       "    .dataframe tbody tr th {\n",
       "        vertical-align: top;\n",
       "    }\n",
       "\n",
       "    .dataframe thead th {\n",
       "        text-align: right;\n",
       "    }\n",
       "</style>\n",
       "<table border=\"1\" class=\"dataframe\">\n",
       "  <thead>\n",
       "    <tr style=\"text-align: right;\">\n",
       "      <th></th>\n",
       "      <th></th>\n",
       "      <th>Class</th>\n",
       "    </tr>\n",
       "    <tr>\n",
       "      <th>HasSPFInfo</th>\n",
       "      <th>Class</th>\n",
       "      <th></th>\n",
       "    </tr>\n",
       "  </thead>\n",
       "  <tbody>\n",
       "    <tr>\n",
       "      <th rowspan=\"2\" valign=\"top\">False</th>\n",
       "      <th>0</th>\n",
       "      <td>35218</td>\n",
       "    </tr>\n",
       "    <tr>\n",
       "      <th>1</th>\n",
       "      <td>10561</td>\n",
       "    </tr>\n",
       "    <tr>\n",
       "      <th rowspan=\"2\" valign=\"top\">True</th>\n",
       "      <th>0</th>\n",
       "      <td>9782</td>\n",
       "    </tr>\n",
       "    <tr>\n",
       "      <th>1</th>\n",
       "      <td>34439</td>\n",
       "    </tr>\n",
       "  </tbody>\n",
       "</table>\n",
       "</div>"
      ],
      "text/plain": [
       "                  Class\n",
       "HasSPFInfo Class       \n",
       "False      0      35218\n",
       "           1      10561\n",
       "True       0       9782\n",
       "           1      34439"
      ]
     },
     "execution_count": 433,
     "metadata": {},
     "output_type": "execute_result"
    }
   ],
   "source": [
    "# Get class breakdown of domains based on this feature\n",
    "data.groupby([\"HasSPFInfo\", \"Class\"]).agg({\"Class\": \"count\"})"
   ]
  },
  {
   "cell_type": "markdown",
   "metadata": {},
   "source": [
    "### HasDkimInfo\n",
    "\n",
    "|  Type   | Default Value |\n",
    "| :-----: | :-----------: |\n",
    "| Boolean | False         |\n",
    "\n",
    "If the DNS record has the Domain Keys Identified Mail (DKIM) attribute. DKIM records store the public key used to verify the authenticity of emails and are used to help prevent domian spoofing."
   ]
  },
  {
   "cell_type": "code",
   "execution_count": 434,
   "metadata": {},
   "outputs": [
    {
     "data": {
      "text/html": [
       "<div>\n",
       "<style scoped>\n",
       "    .dataframe tbody tr th:only-of-type {\n",
       "        vertical-align: middle;\n",
       "    }\n",
       "\n",
       "    .dataframe tbody tr th {\n",
       "        vertical-align: top;\n",
       "    }\n",
       "\n",
       "    .dataframe thead th {\n",
       "        text-align: right;\n",
       "    }\n",
       "</style>\n",
       "<table border=\"1\" class=\"dataframe\">\n",
       "  <thead>\n",
       "    <tr style=\"text-align: right;\">\n",
       "      <th></th>\n",
       "      <th></th>\n",
       "      <th>Class</th>\n",
       "    </tr>\n",
       "    <tr>\n",
       "      <th>HasDkimInfo</th>\n",
       "      <th>Class</th>\n",
       "      <th></th>\n",
       "    </tr>\n",
       "  </thead>\n",
       "  <tbody>\n",
       "    <tr>\n",
       "      <th rowspan=\"2\" valign=\"top\">False</th>\n",
       "      <th>0</th>\n",
       "      <td>44981</td>\n",
       "    </tr>\n",
       "    <tr>\n",
       "      <th>1</th>\n",
       "      <td>44997</td>\n",
       "    </tr>\n",
       "    <tr>\n",
       "      <th rowspan=\"2\" valign=\"top\">True</th>\n",
       "      <th>0</th>\n",
       "      <td>19</td>\n",
       "    </tr>\n",
       "    <tr>\n",
       "      <th>1</th>\n",
       "      <td>3</td>\n",
       "    </tr>\n",
       "  </tbody>\n",
       "</table>\n",
       "</div>"
      ],
      "text/plain": [
       "                   Class\n",
       "HasDkimInfo Class       \n",
       "False       0      44981\n",
       "            1      44997\n",
       "True        0         19\n",
       "            1          3"
      ]
     },
     "execution_count": 434,
     "metadata": {},
     "output_type": "execute_result"
    }
   ],
   "source": [
    "# Get class breakdown of domains based on this feature\n",
    "data.groupby([\"HasDkimInfo\", \"Class\"]).agg({\"Class\": \"count\"})"
   ]
  },
  {
   "cell_type": "markdown",
   "metadata": {},
   "source": [
    "As such a small quantity of domains in the dataset have DKIM information we will remove the feature."
   ]
  },
  {
   "cell_type": "code",
   "execution_count": 435,
   "metadata": {},
   "outputs": [],
   "source": [
    "data = data.drop(columns=[\"HasDkimInfo\"])"
   ]
  },
  {
   "cell_type": "markdown",
   "metadata": {},
   "source": [
    "### HasDmarcInfo\n",
    "\n",
    "|  Type   | Default Value |\n",
    "| :-----: | :-----------: |\n",
    "| Boolean | False         |\n",
    "\n",
    "If the DNS record has the Domain-based Message Authentication and Conformance (DMARC) attribute. DMARC records specify policy for what happens to emails after they pass or fail SPF and DKIM checks."
   ]
  },
  {
   "cell_type": "code",
   "execution_count": 436,
   "metadata": {},
   "outputs": [
    {
     "data": {
      "text/html": [
       "<div>\n",
       "<style scoped>\n",
       "    .dataframe tbody tr th:only-of-type {\n",
       "        vertical-align: middle;\n",
       "    }\n",
       "\n",
       "    .dataframe tbody tr th {\n",
       "        vertical-align: top;\n",
       "    }\n",
       "\n",
       "    .dataframe thead th {\n",
       "        text-align: right;\n",
       "    }\n",
       "</style>\n",
       "<table border=\"1\" class=\"dataframe\">\n",
       "  <thead>\n",
       "    <tr style=\"text-align: right;\">\n",
       "      <th></th>\n",
       "      <th></th>\n",
       "      <th>Class</th>\n",
       "    </tr>\n",
       "    <tr>\n",
       "      <th>HasDmarcInfo</th>\n",
       "      <th>Class</th>\n",
       "      <th></th>\n",
       "    </tr>\n",
       "  </thead>\n",
       "  <tbody>\n",
       "    <tr>\n",
       "      <th rowspan=\"2\" valign=\"top\">False</th>\n",
       "      <th>0</th>\n",
       "      <td>43755</td>\n",
       "    </tr>\n",
       "    <tr>\n",
       "      <th>1</th>\n",
       "      <td>44454</td>\n",
       "    </tr>\n",
       "    <tr>\n",
       "      <th rowspan=\"2\" valign=\"top\">True</th>\n",
       "      <th>0</th>\n",
       "      <td>1245</td>\n",
       "    </tr>\n",
       "    <tr>\n",
       "      <th>1</th>\n",
       "      <td>546</td>\n",
       "    </tr>\n",
       "  </tbody>\n",
       "</table>\n",
       "</div>"
      ],
      "text/plain": [
       "                    Class\n",
       "HasDmarcInfo Class       \n",
       "False        0      43755\n",
       "             1      44454\n",
       "True         0       1245\n",
       "             1        546"
      ]
     },
     "execution_count": 436,
     "metadata": {},
     "output_type": "execute_result"
    }
   ],
   "source": [
    "# Get class breakdown of domains based on this feature\n",
    "data.groupby([\"HasDmarcInfo\", \"Class\"]).agg({\"Class\": \"count\"})"
   ]
  },
  {
   "cell_type": "markdown",
   "metadata": {},
   "source": [
    "### IP\n",
    "\n",
    "|  Type   | Default Value |\n",
    "| :-----: | :-----------: |\n",
    "| Integer | null          |\n",
    "\n",
    "The anonymized internet protocol (IP) address associated with the domain. This feature is irrelevant to the model so it will be removed."
   ]
  },
  {
   "cell_type": "code",
   "execution_count": 437,
   "metadata": {},
   "outputs": [],
   "source": [
    "data = data.drop(columns=[\"Ip\"])"
   ]
  },
  {
   "cell_type": "markdown",
   "metadata": {},
   "source": [
    "### DomainInAlexaDB\n",
    "\n",
    "|  Type   | Default Value |\n",
    "| :-----: | :-----------: |\n",
    "| Boolean | False         |\n",
    "\n",
    "If the domain is registered in the Alexa top sites database."
   ]
  },
  {
   "cell_type": "code",
   "execution_count": 438,
   "metadata": {},
   "outputs": [
    {
     "data": {
      "text/html": [
       "<div>\n",
       "<style scoped>\n",
       "    .dataframe tbody tr th:only-of-type {\n",
       "        vertical-align: middle;\n",
       "    }\n",
       "\n",
       "    .dataframe tbody tr th {\n",
       "        vertical-align: top;\n",
       "    }\n",
       "\n",
       "    .dataframe thead th {\n",
       "        text-align: right;\n",
       "    }\n",
       "</style>\n",
       "<table border=\"1\" class=\"dataframe\">\n",
       "  <thead>\n",
       "    <tr style=\"text-align: right;\">\n",
       "      <th></th>\n",
       "      <th></th>\n",
       "      <th>Class</th>\n",
       "    </tr>\n",
       "    <tr>\n",
       "      <th>DomainInAlexaDB</th>\n",
       "      <th>Class</th>\n",
       "      <th></th>\n",
       "    </tr>\n",
       "  </thead>\n",
       "  <tbody>\n",
       "    <tr>\n",
       "      <th rowspan=\"2\" valign=\"top\">False</th>\n",
       "      <th>0</th>\n",
       "      <td>43469</td>\n",
       "    </tr>\n",
       "    <tr>\n",
       "      <th>1</th>\n",
       "      <td>44406</td>\n",
       "    </tr>\n",
       "    <tr>\n",
       "      <th rowspan=\"2\" valign=\"top\">True</th>\n",
       "      <th>0</th>\n",
       "      <td>1531</td>\n",
       "    </tr>\n",
       "    <tr>\n",
       "      <th>1</th>\n",
       "      <td>594</td>\n",
       "    </tr>\n",
       "  </tbody>\n",
       "</table>\n",
       "</div>"
      ],
      "text/plain": [
       "                       Class\n",
       "DomainInAlexaDB Class       \n",
       "False           0      43469\n",
       "                1      44406\n",
       "True            0       1531\n",
       "                1        594"
      ]
     },
     "execution_count": 438,
     "metadata": {},
     "output_type": "execute_result"
    }
   ],
   "source": [
    "# Get class breakdown of domains based on this feature\n",
    "data.groupby([\"DomainInAlexaDB\", \"Class\"]).agg({\"Class\": \"count\"})"
   ]
  },
  {
   "cell_type": "markdown",
   "metadata": {},
   "source": [
    "### CommonPorts\n",
    "\n",
    "|  Type   | Default Value |\n",
    "| :-----: | :-----------: |\n",
    "| Boolean | False         |\n",
    "\n",
    "If the domain has an available service on any of the following common ports: 80, 443, 21, 22, 23, 25, 53, 110, 143, 161, 445, 465, 587, 993, 995, 3306, 3389, 7547, 8080, 8888."
   ]
  },
  {
   "cell_type": "code",
   "execution_count": 439,
   "metadata": {},
   "outputs": [
    {
     "data": {
      "text/html": [
       "<div>\n",
       "<style scoped>\n",
       "    .dataframe tbody tr th:only-of-type {\n",
       "        vertical-align: middle;\n",
       "    }\n",
       "\n",
       "    .dataframe tbody tr th {\n",
       "        vertical-align: top;\n",
       "    }\n",
       "\n",
       "    .dataframe thead th {\n",
       "        text-align: right;\n",
       "    }\n",
       "</style>\n",
       "<table border=\"1\" class=\"dataframe\">\n",
       "  <thead>\n",
       "    <tr style=\"text-align: right;\">\n",
       "      <th></th>\n",
       "      <th></th>\n",
       "      <th>Class</th>\n",
       "    </tr>\n",
       "    <tr>\n",
       "      <th>CommonPorts</th>\n",
       "      <th>Class</th>\n",
       "      <th></th>\n",
       "    </tr>\n",
       "  </thead>\n",
       "  <tbody>\n",
       "    <tr>\n",
       "      <th rowspan=\"2\" valign=\"top\">False</th>\n",
       "      <th>0</th>\n",
       "      <td>36815</td>\n",
       "    </tr>\n",
       "    <tr>\n",
       "      <th>1</th>\n",
       "      <td>41335</td>\n",
       "    </tr>\n",
       "    <tr>\n",
       "      <th rowspan=\"2\" valign=\"top\">True</th>\n",
       "      <th>0</th>\n",
       "      <td>8185</td>\n",
       "    </tr>\n",
       "    <tr>\n",
       "      <th>1</th>\n",
       "      <td>3665</td>\n",
       "    </tr>\n",
       "  </tbody>\n",
       "</table>\n",
       "</div>"
      ],
      "text/plain": [
       "                   Class\n",
       "CommonPorts Class       \n",
       "False       0      36815\n",
       "            1      41335\n",
       "True        0       8185\n",
       "            1       3665"
      ]
     },
     "execution_count": 439,
     "metadata": {},
     "output_type": "execute_result"
    }
   ],
   "source": [
    "# Get class breakdown of domains based on this feature\n",
    "data.groupby([\"CommonPorts\", \"Class\"]).agg({\"Class\": \"count\"})"
   ]
  },
  {
   "cell_type": "markdown",
   "metadata": {},
   "source": [
    "### CountryCode\n",
    "\n",
    "|  Type   | Default Value |\n",
    "| :-----: | :-----------: |\n",
    "| Text    | null         |\n",
    "\n",
    "The country code associated with the domain's IP address. The publishers of this dataset suggest that the country code data is likely skewed by sinkhole DNS servers which point known bad domains to known safe addresses. Thus this data will be discarded."
   ]
  },
  {
   "cell_type": "code",
   "execution_count": 440,
   "metadata": {},
   "outputs": [
    {
     "data": {
      "text/plain": [
       "<AxesSubplot:title={'center':'Top 10 IP Country Codes'}>"
      ]
     },
     "execution_count": 440,
     "metadata": {},
     "output_type": "execute_result"
    },
    {
     "data": {
      "image/png": "[encoded data removed]",
      "text/plain": [
       "<Figure size 432x288 with 1 Axes>"
      ]
     },
     "metadata": {
      "needs_background": "light"
     },
     "output_type": "display_data"
    }
   ],
   "source": [
    "# Plot a barchart displaying the domain counts for the top ten countries\n",
    "data.CountryCode.value_counts().head(10).plot.bar(title=\"Top 10 IP Country Codes\")"
   ]
  },
  {
   "cell_type": "code",
   "execution_count": 441,
   "metadata": {},
   "outputs": [],
   "source": [
    "data = data.drop(columns=[\"CountryCode\"])"
   ]
  },
  {
   "cell_type": "markdown",
   "metadata": {},
   "source": [
    "### RegisteredCountry\n",
    "\n",
    "|  Type   | Default Value |\n",
    "| :-----: | :-----------: |\n",
    "| Text    | null          |\n",
    "\n",
    "The country code associated with the domain's registration information."
   ]
  },
  {
   "cell_type": "code",
   "execution_count": 442,
   "metadata": {},
   "outputs": [
    {
     "data": {
      "text/plain": [
       "<AxesSubplot:title={'center':'Top 10 Registration Country Codes'}>"
      ]
     },
     "execution_count": 442,
     "metadata": {},
     "output_type": "execute_result"
    },
    {
     "data": {
      "image/png": "[encoded data removed]",
      "text/plain": [
       "<Figure size 432x288 with 1 Axes>"
      ]
     },
     "metadata": {
      "needs_background": "light"
     },
     "output_type": "display_data"
    }
   ],
   "source": [
    "# Plot a barchart displaying the domain counts for the top ten countries\n",
    "data.RegisteredCountry.value_counts().head(10).plot.bar(title=\"Top 10 Registration Country Codes\")"
   ]
  },
  {
   "cell_type": "markdown",
   "metadata": {},
   "source": [
    "Note how this distribution significantly differs from the IP based country code data."
   ]
  },
  {
   "cell_type": "code",
   "execution_count": 443,
   "metadata": {},
   "outputs": [
    {
     "data": {
      "text/html": [
       "<div>\n",
       "<style scoped>\n",
       "    .dataframe tbody tr th:only-of-type {\n",
       "        vertical-align: middle;\n",
       "    }\n",
       "\n",
       "    .dataframe tbody tr th {\n",
       "        vertical-align: top;\n",
       "    }\n",
       "\n",
       "    .dataframe thead th {\n",
       "        text-align: right;\n",
       "    }\n",
       "</style>\n",
       "<table border=\"1\" class=\"dataframe\">\n",
       "  <thead>\n",
       "    <tr style=\"text-align: right;\">\n",
       "      <th></th>\n",
       "      <th></th>\n",
       "      <th>Class</th>\n",
       "    </tr>\n",
       "    <tr>\n",
       "      <th>RegisteredCountry</th>\n",
       "      <th>Class</th>\n",
       "      <th></th>\n",
       "    </tr>\n",
       "  </thead>\n",
       "  <tbody>\n",
       "    <tr>\n",
       "      <th>AD</th>\n",
       "      <th>1</th>\n",
       "      <td>1</td>\n",
       "    </tr>\n",
       "    <tr>\n",
       "      <th>AE</th>\n",
       "      <th>0</th>\n",
       "      <td>5</td>\n",
       "    </tr>\n",
       "    <tr>\n",
       "      <th>AL</th>\n",
       "      <th>1</th>\n",
       "      <td>1</td>\n",
       "    </tr>\n",
       "    <tr>\n",
       "      <th rowspan=\"2\" valign=\"top\">AT</th>\n",
       "      <th>0</th>\n",
       "      <td>34</td>\n",
       "    </tr>\n",
       "    <tr>\n",
       "      <th>1</th>\n",
       "      <td>25</td>\n",
       "    </tr>\n",
       "    <tr>\n",
       "      <th>...</th>\n",
       "      <th>...</th>\n",
       "      <td>...</td>\n",
       "    </tr>\n",
       "    <tr>\n",
       "      <th>ru</th>\n",
       "      <th>1</th>\n",
       "      <td>1</td>\n",
       "    </tr>\n",
       "    <tr>\n",
       "      <th>tr</th>\n",
       "      <th>1</th>\n",
       "      <td>1</td>\n",
       "    </tr>\n",
       "    <tr>\n",
       "      <th>ua</th>\n",
       "      <th>0</th>\n",
       "      <td>1</td>\n",
       "    </tr>\n",
       "    <tr>\n",
       "      <th>us</th>\n",
       "      <th>1</th>\n",
       "      <td>1</td>\n",
       "    </tr>\n",
       "    <tr>\n",
       "      <th>vn</th>\n",
       "      <th>0</th>\n",
       "      <td>6</td>\n",
       "    </tr>\n",
       "  </tbody>\n",
       "</table>\n",
       "<p>175 rows × 1 columns</p>\n",
       "</div>"
      ],
      "text/plain": [
       "                         Class\n",
       "RegisteredCountry Class       \n",
       "AD                1          1\n",
       "AE                0          5\n",
       "AL                1          1\n",
       "AT                0         34\n",
       "                  1         25\n",
       "...                        ...\n",
       "ru                1          1\n",
       "tr                1          1\n",
       "ua                0          1\n",
       "us                1          1\n",
       "vn                0          6\n",
       "\n",
       "[175 rows x 1 columns]"
      ]
     },
     "execution_count": 443,
     "metadata": {},
     "output_type": "execute_result"
    }
   ],
   "source": [
    "# Get class breakdown of domains based on this feature\n",
    "data.groupby([\"RegisteredCountry\", \"Class\"]).agg({\"Class\": \"count\"})"
   ]
  },
  {
   "cell_type": "code",
   "execution_count": 444,
   "metadata": {},
   "outputs": [
    {
     "name": "stdout",
     "output_type": "stream",
     "text": [
      "Null values: 77774\n"
     ]
    }
   ],
   "source": [
    "# Are there any null values?\n",
    "print(\"Null values: %d\" % (data[\"RegisteredCountry\"].isnull().sum()))"
   ]
  },
  {
   "cell_type": "markdown",
   "metadata": {},
   "source": [
    "Discarding this feature due to the large volume of null values and the small sample sizes for many countries."
   ]
  },
  {
   "cell_type": "code",
   "execution_count": 445,
   "metadata": {},
   "outputs": [],
   "source": [
    "data = data.drop(columns=[\"RegisteredCountry\"])"
   ]
  },
  {
   "cell_type": "markdown",
   "metadata": {},
   "source": [
    "### CreationDate\n",
    "\n",
    "|  Type   | Default Value |\n",
    "| :-----: | :-----------: |\n",
    "| Enum    | null          |\n",
    "\n",
    "The age of the domain enumerated into the following bins:\n",
    "\n",
    "| Enum | Date      |\n",
    "| :--: | :-------: |\n",
    "| 0    | No Data   |\n",
    "| 1    | < 1 month |\n",
    "| 2    | < 6 months |\n",
    "| 2    | < 1 year |\n",
    "| 2    | >= 1 year |"
   ]
  },
  {
   "cell_type": "code",
   "execution_count": 446,
   "metadata": {},
   "outputs": [
    {
     "data": {
      "text/html": [
       "<div>\n",
       "<style scoped>\n",
       "    .dataframe tbody tr th:only-of-type {\n",
       "        vertical-align: middle;\n",
       "    }\n",
       "\n",
       "    .dataframe tbody tr th {\n",
       "        vertical-align: top;\n",
       "    }\n",
       "\n",
       "    .dataframe thead th {\n",
       "        text-align: right;\n",
       "    }\n",
       "</style>\n",
       "<table border=\"1\" class=\"dataframe\">\n",
       "  <thead>\n",
       "    <tr style=\"text-align: right;\">\n",
       "      <th></th>\n",
       "      <th></th>\n",
       "      <th>Class</th>\n",
       "    </tr>\n",
       "    <tr>\n",
       "      <th>CreationDate</th>\n",
       "      <th>Class</th>\n",
       "      <th></th>\n",
       "    </tr>\n",
       "  </thead>\n",
       "  <tbody>\n",
       "    <tr>\n",
       "      <th rowspan=\"2\" valign=\"top\">0</th>\n",
       "      <th>0</th>\n",
       "      <td>33714</td>\n",
       "    </tr>\n",
       "    <tr>\n",
       "      <th>1</th>\n",
       "      <td>12711</td>\n",
       "    </tr>\n",
       "    <tr>\n",
       "      <th rowspan=\"2\" valign=\"top\">1</th>\n",
       "      <th>0</th>\n",
       "      <td>11</td>\n",
       "    </tr>\n",
       "    <tr>\n",
       "      <th>1</th>\n",
       "      <td>10</td>\n",
       "    </tr>\n",
       "    <tr>\n",
       "      <th rowspan=\"2\" valign=\"top\">2</th>\n",
       "      <th>0</th>\n",
       "      <td>45</td>\n",
       "    </tr>\n",
       "    <tr>\n",
       "      <th>1</th>\n",
       "      <td>3</td>\n",
       "    </tr>\n",
       "    <tr>\n",
       "      <th rowspan=\"2\" valign=\"top\">3</th>\n",
       "      <th>0</th>\n",
       "      <td>97</td>\n",
       "    </tr>\n",
       "    <tr>\n",
       "      <th>1</th>\n",
       "      <td>19</td>\n",
       "    </tr>\n",
       "    <tr>\n",
       "      <th rowspan=\"2\" valign=\"top\">4</th>\n",
       "      <th>0</th>\n",
       "      <td>11133</td>\n",
       "    </tr>\n",
       "    <tr>\n",
       "      <th>1</th>\n",
       "      <td>32257</td>\n",
       "    </tr>\n",
       "  </tbody>\n",
       "</table>\n",
       "</div>"
      ],
      "text/plain": [
       "                    Class\n",
       "CreationDate Class       \n",
       "0            0      33714\n",
       "             1      12711\n",
       "1            0         11\n",
       "             1         10\n",
       "2            0         45\n",
       "             1          3\n",
       "3            0         97\n",
       "             1         19\n",
       "4            0      11133\n",
       "             1      32257"
      ]
     },
     "execution_count": 446,
     "metadata": {},
     "output_type": "execute_result"
    }
   ],
   "source": [
    "# Get class breakdown of domains based on this feature\n",
    "data.groupby([\"CreationDate\", \"Class\"]).agg({\"Class\": \"count\"})"
   ]
  },
  {
   "cell_type": "markdown",
   "metadata": {},
   "source": [
    "### LastUpdateDate\n",
    "\n",
    "|  Type   | Default Value |\n",
    "| :-----: | :-----------: |\n",
    "| Enum    | null          |\n",
    "\n",
    "The time since the reigstration information was last updated enumerated into the following bins:\n",
    "\n",
    "| Enum | Date      |\n",
    "| :--: | :-------: |\n",
    "| 0    | No Data   |\n",
    "| 1    | < 1 month |\n",
    "| 2    | < 6 months |\n",
    "| 2    | < 1 year |\n",
    "| 2    | >= 1 year |"
   ]
  },
  {
   "cell_type": "code",
   "execution_count": 447,
   "metadata": {},
   "outputs": [
    {
     "data": {
      "text/html": [
       "<div>\n",
       "<style scoped>\n",
       "    .dataframe tbody tr th:only-of-type {\n",
       "        vertical-align: middle;\n",
       "    }\n",
       "\n",
       "    .dataframe tbody tr th {\n",
       "        vertical-align: top;\n",
       "    }\n",
       "\n",
       "    .dataframe thead th {\n",
       "        text-align: right;\n",
       "    }\n",
       "</style>\n",
       "<table border=\"1\" class=\"dataframe\">\n",
       "  <thead>\n",
       "    <tr style=\"text-align: right;\">\n",
       "      <th></th>\n",
       "      <th></th>\n",
       "      <th>Class</th>\n",
       "    </tr>\n",
       "    <tr>\n",
       "      <th>LastUpdateDate</th>\n",
       "      <th>Class</th>\n",
       "      <th></th>\n",
       "    </tr>\n",
       "  </thead>\n",
       "  <tbody>\n",
       "    <tr>\n",
       "      <th rowspan=\"2\" valign=\"top\">0</th>\n",
       "      <th>0</th>\n",
       "      <td>25738</td>\n",
       "    </tr>\n",
       "    <tr>\n",
       "      <th>1</th>\n",
       "      <td>9715</td>\n",
       "    </tr>\n",
       "    <tr>\n",
       "      <th rowspan=\"2\" valign=\"top\">1</th>\n",
       "      <th>0</th>\n",
       "      <td>212</td>\n",
       "    </tr>\n",
       "    <tr>\n",
       "      <th>1</th>\n",
       "      <td>108</td>\n",
       "    </tr>\n",
       "    <tr>\n",
       "      <th rowspan=\"2\" valign=\"top\">2</th>\n",
       "      <th>0</th>\n",
       "      <td>1112</td>\n",
       "    </tr>\n",
       "    <tr>\n",
       "      <th>1</th>\n",
       "      <td>431</td>\n",
       "    </tr>\n",
       "    <tr>\n",
       "      <th rowspan=\"2\" valign=\"top\">3</th>\n",
       "      <th>0</th>\n",
       "      <td>955</td>\n",
       "    </tr>\n",
       "    <tr>\n",
       "      <th>1</th>\n",
       "      <td>270</td>\n",
       "    </tr>\n",
       "    <tr>\n",
       "      <th rowspan=\"2\" valign=\"top\">4</th>\n",
       "      <th>0</th>\n",
       "      <td>16983</td>\n",
       "    </tr>\n",
       "    <tr>\n",
       "      <th>1</th>\n",
       "      <td>34476</td>\n",
       "    </tr>\n",
       "  </tbody>\n",
       "</table>\n",
       "</div>"
      ],
      "text/plain": [
       "                      Class\n",
       "LastUpdateDate Class       \n",
       "0              0      25738\n",
       "               1       9715\n",
       "1              0        212\n",
       "               1        108\n",
       "2              0       1112\n",
       "               1        431\n",
       "3              0        955\n",
       "               1        270\n",
       "4              0      16983\n",
       "               1      34476"
      ]
     },
     "execution_count": 447,
     "metadata": {},
     "output_type": "execute_result"
    }
   ],
   "source": [
    "# Get class breakdown of domains based on this feature\n",
    "data.groupby([\"LastUpdateDate\", \"Class\"]).agg({\"Class\": \"count\"})"
   ]
  },
  {
   "cell_type": "markdown",
   "metadata": {},
   "source": [
    "### ASN\n",
    "\n",
    "|  Type   | Default Value |\n",
    "| :-----: | :-----------: |\n",
    "| Integer | -1            |\n",
    "\n",
    "The Autonomous System Number (ASN) associated with the domain's IP address. Discarding for simillar reasons to the country code feature and the large volume of missing values."
   ]
  },
  {
   "cell_type": "code",
   "execution_count": 448,
   "metadata": {},
   "outputs": [
    {
     "data": {
      "text/plain": [
       "<AxesSubplot:title={'center':'Top 10 ASNs'}>"
      ]
     },
     "execution_count": 448,
     "metadata": {},
     "output_type": "execute_result"
    },
    {
     "data": {
      "image/png": "[encoded data removed]",
      "text/plain": [
       "<Figure size 432x288 with 1 Axes>"
      ]
     },
     "metadata": {
      "needs_background": "light"
     },
     "output_type": "display_data"
    }
   ],
   "source": [
    "# Plot a barchart displaying the domain counts for the top ten ASNs\n",
    "data.ASN.value_counts().head(10).plot.bar(title=\"Top 10 ASNs\")"
   ]
  },
  {
   "cell_type": "code",
   "execution_count": 449,
   "metadata": {},
   "outputs": [],
   "source": [
    "data = data.drop(columns=[\"ASN\"])"
   ]
  },
  {
   "cell_type": "markdown",
   "metadata": {},
   "source": [
    "### HttpResponseCode\n",
    "\n",
    "|  Type   | Default Value |\n",
    "| :-----: | :-----------: |\n",
    "| Enum    | 0             |\n",
    "\n",
    "The HTTP response code returned from querying the domain via HTTP(S). \n",
    "\n",
    "| Enum | Status |\n",
    "| :--: | :----: |\n",
    "| 0    | No data     |\n",
    "| 1    | 1XX (Info)  |\n",
    "| 2    | 2XX (Success) |\n",
    "| 3    | 3XX (Redirect)|\n",
    "| 4    | 4XX (Client error) |\n",
    "| 5    | 5XX (Server error) |\n"
   ]
  },
  {
   "cell_type": "code",
   "execution_count": 450,
   "metadata": {},
   "outputs": [
    {
     "data": {
      "text/html": [
       "<div>\n",
       "<style scoped>\n",
       "    .dataframe tbody tr th:only-of-type {\n",
       "        vertical-align: middle;\n",
       "    }\n",
       "\n",
       "    .dataframe tbody tr th {\n",
       "        vertical-align: top;\n",
       "    }\n",
       "\n",
       "    .dataframe thead th {\n",
       "        text-align: right;\n",
       "    }\n",
       "</style>\n",
       "<table border=\"1\" class=\"dataframe\">\n",
       "  <thead>\n",
       "    <tr style=\"text-align: right;\">\n",
       "      <th></th>\n",
       "      <th></th>\n",
       "      <th>Class</th>\n",
       "    </tr>\n",
       "    <tr>\n",
       "      <th>HttpResponseCode</th>\n",
       "      <th>Class</th>\n",
       "      <th></th>\n",
       "    </tr>\n",
       "  </thead>\n",
       "  <tbody>\n",
       "    <tr>\n",
       "      <th rowspan=\"2\" valign=\"top\">0</th>\n",
       "      <th>0</th>\n",
       "      <td>27825</td>\n",
       "    </tr>\n",
       "    <tr>\n",
       "      <th>1</th>\n",
       "      <td>38246</td>\n",
       "    </tr>\n",
       "    <tr>\n",
       "      <th rowspan=\"2\" valign=\"top\">2</th>\n",
       "      <th>0</th>\n",
       "      <td>13008</td>\n",
       "    </tr>\n",
       "    <tr>\n",
       "      <th>1</th>\n",
       "      <td>5098</td>\n",
       "    </tr>\n",
       "    <tr>\n",
       "      <th rowspan=\"2\" valign=\"top\">4</th>\n",
       "      <th>0</th>\n",
       "      <td>3819</td>\n",
       "    </tr>\n",
       "    <tr>\n",
       "      <th>1</th>\n",
       "      <td>1475</td>\n",
       "    </tr>\n",
       "    <tr>\n",
       "      <th rowspan=\"2\" valign=\"top\">5</th>\n",
       "      <th>0</th>\n",
       "      <td>348</td>\n",
       "    </tr>\n",
       "    <tr>\n",
       "      <th>1</th>\n",
       "      <td>181</td>\n",
       "    </tr>\n",
       "  </tbody>\n",
       "</table>\n",
       "</div>"
      ],
      "text/plain": [
       "                        Class\n",
       "HttpResponseCode Class       \n",
       "0                0      27825\n",
       "                 1      38246\n",
       "2                0      13008\n",
       "                 1       5098\n",
       "4                0       3819\n",
       "                 1       1475\n",
       "5                0        348\n",
       "                 1        181"
      ]
     },
     "execution_count": 450,
     "metadata": {},
     "output_type": "execute_result"
    }
   ],
   "source": [
    "# Get class breakdown of domains based on this feature\n",
    "data.groupby([\"HttpResponseCode\", \"Class\"]).agg({\"Class\": \"count\"})"
   ]
  },
  {
   "cell_type": "markdown",
   "metadata": {},
   "source": [
    "### RegisteredOrg\n",
    "\n",
    "Original\n",
    "|  Type | Default Value |\n",
    "| :---: | :-----------: |\n",
    "| Text  | null          |\n",
    "\n",
    "The organization name associated with the domain registration information.\n",
    "\n",
    "Transformed\n",
    "|  Type    | Default Value |\n",
    "| :------: | :-----------: |\n",
    "| Boolean  | N/A           |\n",
    "\n",
    "Whether or not the domain has an organization associated with it in its registration information."
   ]
  },
  {
   "cell_type": "code",
   "execution_count": 451,
   "metadata": {},
   "outputs": [
    {
     "data": {
      "text/plain": [
       "<AxesSubplot:title={'center':'Top 10 Orgs'}>"
      ]
     },
     "execution_count": 451,
     "metadata": {},
     "output_type": "execute_result"
    },
    {
     "data": {
      "image/png": "[encoded data removed]",
      "text/plain": [
       "<Figure size 432x288 with 1 Axes>"
      ]
     },
     "metadata": {
      "needs_background": "light"
     },
     "output_type": "display_data"
    }
   ],
   "source": [
    "# Plot a barchart displaying the domain counts for the top ten Orgs\n",
    "data.RegisteredOrg.value_counts().head(10).plot.bar(title=\"Top 10 Orgs\")"
   ]
  },
  {
   "cell_type": "code",
   "execution_count": 452,
   "metadata": {},
   "outputs": [
    {
     "name": "stdout",
     "output_type": "stream",
     "text": [
      "Null values: 35391\n"
     ]
    }
   ],
   "source": [
    "# Are there any null values?\n",
    "print(\"Null values: %d\" % (data[\"RegisteredOrg\"].isnull().sum()))"
   ]
  },
  {
   "cell_type": "code",
   "execution_count": 453,
   "metadata": {},
   "outputs": [
    {
     "data": {
      "text/plain": [
       "<AxesSubplot:title={'center':'Class of Null RegisteredOrg Values'}>"
      ]
     },
     "execution_count": 453,
     "metadata": {},
     "output_type": "execute_result"
    },
    {
     "data": {
      "image/png": "[encoded data removed]",
      "text/plain": [
       "<Figure size 432x288 with 1 Axes>"
      ]
     },
     "metadata": {
      "needs_background": "light"
     },
     "output_type": "display_data"
    }
   ],
   "source": [
    "data[\"Class\"][data.RegisteredOrg.isnull()].value_counts().plot.bar(title=\"Class of Null RegisteredOrg Values\")"
   ]
  },
  {
   "cell_type": "markdown",
   "metadata": {},
   "source": [
    "As seen above, there is a significant number of null values for this feature. And a large majority of datapoints with a null RegisteredOrg are classified as malicious. The publishers of this dataset state that this is likely due to malicous actors being less likely to release this information.\n",
    "\n",
    "Given the above information, we will transform this feature from the text datatype to a boolean datatype which represents whether or not the registered organization was available for a given domain."
   ]
  },
  {
   "cell_type": "code",
   "execution_count": 454,
   "metadata": {},
   "outputs": [],
   "source": [
    "data[\"RegisteredOrg\"] = ~data.RegisteredOrg.isnull()"
   ]
  },
  {
   "cell_type": "markdown",
   "metadata": {},
   "source": [
    "### SubdomainNumber\n",
    "\n",
    "|  Type   | Default Value |\n",
    "| :-----: | :-----------: |\n",
    "| Integer | 0             |\n",
    "\n",
    "The number of subdomains the domain has. "
   ]
  },
  {
   "cell_type": "code",
   "execution_count": 455,
   "metadata": {},
   "outputs": [
    {
     "data": {
      "text/html": [
       "<div>\n",
       "<style scoped>\n",
       "    .dataframe tbody tr th:only-of-type {\n",
       "        vertical-align: middle;\n",
       "    }\n",
       "\n",
       "    .dataframe tbody tr th {\n",
       "        vertical-align: top;\n",
       "    }\n",
       "\n",
       "    .dataframe thead th {\n",
       "        text-align: right;\n",
       "    }\n",
       "</style>\n",
       "<table border=\"1\" class=\"dataframe\">\n",
       "  <thead>\n",
       "    <tr style=\"text-align: right;\">\n",
       "      <th></th>\n",
       "      <th></th>\n",
       "      <th>Class</th>\n",
       "    </tr>\n",
       "    <tr>\n",
       "      <th>SubdomainNumber</th>\n",
       "      <th>Class</th>\n",
       "      <th></th>\n",
       "    </tr>\n",
       "  </thead>\n",
       "  <tbody>\n",
       "    <tr>\n",
       "      <th rowspan=\"2\" valign=\"top\">0</th>\n",
       "      <th>0</th>\n",
       "      <td>42941</td>\n",
       "    </tr>\n",
       "    <tr>\n",
       "      <th>1</th>\n",
       "      <td>15760</td>\n",
       "    </tr>\n",
       "    <tr>\n",
       "      <th rowspan=\"2\" valign=\"top\">1</th>\n",
       "      <th>0</th>\n",
       "      <td>763</td>\n",
       "    </tr>\n",
       "    <tr>\n",
       "      <th>1</th>\n",
       "      <td>80</td>\n",
       "    </tr>\n",
       "    <tr>\n",
       "      <th>2</th>\n",
       "      <th>0</th>\n",
       "      <td>222</td>\n",
       "    </tr>\n",
       "    <tr>\n",
       "      <th>...</th>\n",
       "      <th>...</th>\n",
       "      <td>...</td>\n",
       "    </tr>\n",
       "    <tr>\n",
       "      <th>113432</th>\n",
       "      <th>0</th>\n",
       "      <td>1</td>\n",
       "    </tr>\n",
       "    <tr>\n",
       "      <th>160588</th>\n",
       "      <th>0</th>\n",
       "      <td>8</td>\n",
       "    </tr>\n",
       "    <tr>\n",
       "      <th>493404</th>\n",
       "      <th>0</th>\n",
       "      <td>2</td>\n",
       "    </tr>\n",
       "    <tr>\n",
       "      <th>526626</th>\n",
       "      <th>0</th>\n",
       "      <td>1</td>\n",
       "    </tr>\n",
       "    <tr>\n",
       "      <th>661909</th>\n",
       "      <th>0</th>\n",
       "      <td>1</td>\n",
       "    </tr>\n",
       "  </tbody>\n",
       "</table>\n",
       "<p>236 rows × 1 columns</p>\n",
       "</div>"
      ],
      "text/plain": [
       "                       Class\n",
       "SubdomainNumber Class       \n",
       "0               0      42941\n",
       "                1      15760\n",
       "1               0        763\n",
       "                1         80\n",
       "2               0        222\n",
       "...                      ...\n",
       "113432          0          1\n",
       "160588          0          8\n",
       "493404          0          2\n",
       "526626          0          1\n",
       "661909          0          1\n",
       "\n",
       "[236 rows x 1 columns]"
      ]
     },
     "execution_count": 455,
     "metadata": {},
     "output_type": "execute_result"
    }
   ],
   "source": [
    "# Get class breakdown of domains based on this feature\n",
    "data.groupby([\"SubdomainNumber\", \"Class\"]).agg({\"Class\": \"count\"})"
   ]
  },
  {
   "cell_type": "code",
   "execution_count": 456,
   "metadata": {},
   "outputs": [
    {
     "data": {
      "text/plain": [
       "<AxesSubplot:>"
      ]
     },
     "execution_count": 456,
     "metadata": {},
     "output_type": "execute_result"
    },
    {
     "data": {
      "image/png": "[encoded data removed]",
      "text/plain": [
       "<Figure size 432x288 with 1 Axes>"
      ]
     },
     "metadata": {
      "needs_background": "light"
     },
     "output_type": "display_data"
    }
   ],
   "source": [
    "data.boxplot(column=\"SubdomainNumber\")"
   ]
  },
  {
   "cell_type": "code",
   "execution_count": 457,
   "metadata": {},
   "outputs": [
    {
     "data": {
      "text/plain": [
       "count     90000.000000\n",
       "mean        103.069200\n",
       "std        4243.802846\n",
       "min           0.000000\n",
       "25%           0.000000\n",
       "50%           0.000000\n",
       "75%          57.000000\n",
       "max      661909.000000\n",
       "Name: SubdomainNumber, dtype: float64"
      ]
     },
     "execution_count": 457,
     "metadata": {},
     "output_type": "execute_result"
    }
   ],
   "source": [
    "data.SubdomainNumber.describe()"
   ]
  },
  {
   "cell_type": "markdown",
   "metadata": {},
   "source": [
    "Looking at the boxplot and summary statistics for the SubdomainNumber feature it is apparent there are many significant outliers."
   ]
  },
  {
   "cell_type": "code",
   "execution_count": 458,
   "metadata": {},
   "outputs": [
    {
     "name": "stdout",
     "output_type": "stream",
     "text": [
      "Subdomain Outlier Lower Limit:  -85.5\n",
      "Subdomain Outlier Upper Limit:  142.5\n"
     ]
    }
   ],
   "source": [
    "Subdomain_Q1 = data[\"SubdomainNumber\"].quantile(0.25)\n",
    "Subdomain_Q3 = data[\"SubdomainNumber\"].quantile(0.75)\n",
    "Subdomain_IQR = Subdomain_Q3 - Subdomain_Q1\n",
    "Subdomain_LowerLim = Subdomain_Q1 - 1.5 * Subdomain_IQR\n",
    "Subdomain_UpperLim = Subdomain_Q3 + 1.5 * Subdomain_IQR\n",
    "print(\"Subdomain Outlier Lower Limit: \", Subdomain_LowerLim)\n",
    "print(\"Subdomain Outlier Upper Limit: \", Subdomain_UpperLim)"
   ]
  },
  {
   "cell_type": "code",
   "execution_count": 459,
   "metadata": {},
   "outputs": [
    {
     "data": {
      "text/plain": [
       "False    90000\n",
       "Name: SubdomainNumber, dtype: int64"
      ]
     },
     "execution_count": 459,
     "metadata": {},
     "output_type": "execute_result"
    }
   ],
   "source": [
    "Subdomain_Low_Outliers = data[\"SubdomainNumber\"] < Subdomain_LowerLim\n",
    "Subdomain_Low_Outliers.value_counts()"
   ]
  },
  {
   "cell_type": "code",
   "execution_count": 460,
   "metadata": {},
   "outputs": [
    {
     "data": {
      "text/plain": [
       "False    89409\n",
       "True       591\n",
       "Name: SubdomainNumber, dtype: int64"
      ]
     },
     "execution_count": 460,
     "metadata": {},
     "output_type": "execute_result"
    }
   ],
   "source": [
    "Subdomain_High_Outliers = data[\"SubdomainNumber\"] > Subdomain_UpperLim\n",
    "Subdomain_High_Outliers.value_counts()"
   ]
  },
  {
   "cell_type": "markdown",
   "metadata": {},
   "source": [
    "Given there is a relatively small number of outliers and how extreme these values appear these datapoints will be discarded entierly."
   ]
  },
  {
   "cell_type": "code",
   "execution_count": 461,
   "metadata": {},
   "outputs": [],
   "source": [
    "data[\"SubdomainNumber\"] = data[\"SubdomainNumber\"][~(Subdomain_Low_Outliers | Subdomain_High_Outliers)]"
   ]
  },
  {
   "cell_type": "code",
   "execution_count": 462,
   "metadata": {},
   "outputs": [
    {
     "data": {
      "text/plain": [
       "<AxesSubplot:>"
      ]
     },
     "execution_count": 462,
     "metadata": {},
     "output_type": "execute_result"
    },
    {
     "data": {
      "image/png": "[encoded data removed]",
      "text/plain": [
       "<Figure size 432x288 with 1 Axes>"
      ]
     },
     "metadata": {
      "needs_background": "light"
     },
     "output_type": "display_data"
    }
   ],
   "source": [
    "data.boxplot(column=\"SubdomainNumber\")"
   ]
  },
  {
   "cell_type": "code",
   "execution_count": 469,
   "metadata": {},
   "outputs": [
    {
     "data": {
      "text/html": [
       "<div>\n",
       "<style scoped>\n",
       "    .dataframe tbody tr th:only-of-type {\n",
       "        vertical-align: middle;\n",
       "    }\n",
       "\n",
       "    .dataframe tbody tr th {\n",
       "        vertical-align: top;\n",
       "    }\n",
       "\n",
       "    .dataframe thead th {\n",
       "        text-align: right;\n",
       "    }\n",
       "</style>\n",
       "<table border=\"1\" class=\"dataframe\">\n",
       "  <thead>\n",
       "    <tr style=\"text-align: right;\">\n",
       "      <th>Class</th>\n",
       "      <th>0</th>\n",
       "      <th>1</th>\n",
       "    </tr>\n",
       "    <tr>\n",
       "      <th>SubdomainNumber</th>\n",
       "      <th></th>\n",
       "      <th></th>\n",
       "    </tr>\n",
       "  </thead>\n",
       "  <tbody>\n",
       "    <tr>\n",
       "      <th>0.0</th>\n",
       "      <td>42941</td>\n",
       "      <td>15760</td>\n",
       "    </tr>\n",
       "    <tr>\n",
       "      <th>1.0</th>\n",
       "      <td>763</td>\n",
       "      <td>80</td>\n",
       "    </tr>\n",
       "    <tr>\n",
       "      <th>2.0</th>\n",
       "      <td>222</td>\n",
       "      <td>31</td>\n",
       "    </tr>\n",
       "    <tr>\n",
       "      <th>3.0</th>\n",
       "      <td>177</td>\n",
       "      <td>8</td>\n",
       "    </tr>\n",
       "    <tr>\n",
       "      <th>4.0</th>\n",
       "      <td>56</td>\n",
       "      <td>6</td>\n",
       "    </tr>\n",
       "    <tr>\n",
       "      <th>...</th>\n",
       "      <td>...</td>\n",
       "      <td>...</td>\n",
       "    </tr>\n",
       "    <tr>\n",
       "      <th>126.0</th>\n",
       "      <td>2</td>\n",
       "      <td>0</td>\n",
       "    </tr>\n",
       "    <tr>\n",
       "      <th>132.0</th>\n",
       "      <td>0</td>\n",
       "      <td>1</td>\n",
       "    </tr>\n",
       "    <tr>\n",
       "      <th>133.0</th>\n",
       "      <td>1</td>\n",
       "      <td>0</td>\n",
       "    </tr>\n",
       "    <tr>\n",
       "      <th>136.0</th>\n",
       "      <td>1</td>\n",
       "      <td>0</td>\n",
       "    </tr>\n",
       "    <tr>\n",
       "      <th>138.0</th>\n",
       "      <td>2</td>\n",
       "      <td>0</td>\n",
       "    </tr>\n",
       "  </tbody>\n",
       "</table>\n",
       "<p>71 rows × 2 columns</p>\n",
       "</div>"
      ],
      "text/plain": [
       "Class                0      1\n",
       "SubdomainNumber              \n",
       "0.0              42941  15760\n",
       "1.0                763     80\n",
       "2.0                222     31\n",
       "3.0                177      8\n",
       "4.0                 56      6\n",
       "...                ...    ...\n",
       "126.0                2      0\n",
       "132.0                0      1\n",
       "133.0                1      0\n",
       "136.0                1      0\n",
       "138.0                2      0\n",
       "\n",
       "[71 rows x 2 columns]"
      ]
     },
     "execution_count": 469,
     "metadata": {},
     "output_type": "execute_result"
    }
   ],
   "source": [
    "pd.crosstab(data[\"SubdomainNumber\"], data[\"Class\"])"
   ]
  },
  {
   "cell_type": "code",
   "execution_count": 472,
   "metadata": {},
   "outputs": [
    {
     "data": {
      "text/plain": [
       "<AxesSubplot:xlabel='SubdomainNumber'>"
      ]
     },
     "execution_count": 472,
     "metadata": {},
     "output_type": "execute_result"
    },
    {
     "data": {
      "image/png": "[encoded data removed]",
      "text/plain": [
       "<Figure size 432x288 with 1 Axes>"
      ]
     },
     "metadata": {
      "needs_background": "light"
     },
     "output_type": "display_data"
    }
   ],
   "source": [
    "pd.crosstab(data[\"SubdomainNumber\"], data[\"Class\"]).head(10).plot.bar()"
   ]
  },
  {
   "cell_type": "code",
   "execution_count": 473,
   "metadata": {},
   "outputs": [
    {
     "data": {
      "text/plain": [
       "<AxesSubplot:xlabel='SubdomainNumber'>"
      ]
     },
     "execution_count": 473,
     "metadata": {},
     "output_type": "execute_result"
    },
    {
     "data": {
      "image/png": "[encoded data removed]",
      "text/plain": [
       "<Figure size 432x288 with 1 Axes>"
      ]
     },
     "metadata": {
      "needs_background": "light"
     },
     "output_type": "display_data"
    }
   ],
   "source": [
    "pd.crosstab(data[\"SubdomainNumber\"], data[\"Class\"]).head(10).tail(9).plot.bar()"
   ]
  },
  {
   "cell_type": "markdown",
   "metadata": {},
   "source": [
    "The 2 figures above show the domain counts for subdomain numbers 0-9. Unsuprisingly there is a spike at 0 which represents over half of the datapoints. But many datapoints are not present on these graphs."
   ]
  },
  {
   "cell_type": "code",
   "execution_count": 471,
   "metadata": {},
   "outputs": [
    {
     "data": {
      "text/plain": [
       "<AxesSubplot:xlabel='SubdomainNumber'>"
      ]
     },
     "execution_count": 471,
     "metadata": {},
     "output_type": "execute_result"
    },
    {
     "data": {
      "image/png": "[encoded data removed]",
      "text/plain": [
       "<Figure size 432x288 with 1 Axes>"
      ]
     },
     "metadata": {
      "needs_background": "light"
     },
     "output_type": "display_data"
    }
   ],
   "source": [
    "pd.crosstab(data[\"SubdomainNumber\"], data[\"Class\"])[50:60].plot.bar()"
   ]
  },
  {
   "cell_type": "markdown",
   "metadata": {},
   "source": [
    "The majority of the remaining datapoints are found at SubdomainNumber 57. By rexamining the unprocessed dataset we can determine the cause of this spike:"
   ]
  },
  {
   "cell_type": "code",
   "execution_count": 505,
   "metadata": {},
   "outputs": [
    {
     "data": {
      "text/plain": [
       "CNAME    28608\n",
       "A            3\n",
       "Name: DNSRecordType, dtype: int64"
      ]
     },
     "execution_count": 505,
     "metadata": {},
     "output_type": "execute_result"
    }
   ],
   "source": [
    "raw_data = pd.read_csv(datasource)\n",
    "\n",
    "raw_data.loc[raw_data[\"SubdomainNumber\"] == 57].drop(columns=[\"Domain\"])[\"DNSRecordType\"].value_counts()"
   ]
  },
  {
   "cell_type": "code",
   "execution_count": 518,
   "metadata": {},
   "outputs": [
    {
     "data": {
      "text/html": [
       "<div>\n",
       "<style scoped>\n",
       "    .dataframe tbody tr th:only-of-type {\n",
       "        vertical-align: middle;\n",
       "    }\n",
       "\n",
       "    .dataframe tbody tr th {\n",
       "        vertical-align: top;\n",
       "    }\n",
       "\n",
       "    .dataframe thead th {\n",
       "        text-align: right;\n",
       "    }\n",
       "</style>\n",
       "<table border=\"1\" class=\"dataframe\">\n",
       "  <thead>\n",
       "    <tr style=\"text-align: right;\">\n",
       "      <th></th>\n",
       "      <th>DNSRecordType</th>\n",
       "      <th>MXDnsResponse</th>\n",
       "      <th>TXTDnsResponse</th>\n",
       "      <th>HasSPFInfo</th>\n",
       "      <th>HasDkimInfo</th>\n",
       "      <th>HasDmarcInfo</th>\n",
       "      <th>Ip</th>\n",
       "      <th>DomainInAlexaDB</th>\n",
       "      <th>CommonPorts</th>\n",
       "      <th>CountryCode</th>\n",
       "      <th>...</th>\n",
       "      <th>ConsoantRatio</th>\n",
       "      <th>NumericRatio</th>\n",
       "      <th>SpecialCharRatio</th>\n",
       "      <th>VowelRatio</th>\n",
       "      <th>ConsoantSequence</th>\n",
       "      <th>VowelSequence</th>\n",
       "      <th>NumericSequence</th>\n",
       "      <th>SpecialCharSequence</th>\n",
       "      <th>DomainLength</th>\n",
       "      <th>Class</th>\n",
       "    </tr>\n",
       "  </thead>\n",
       "  <tbody>\n",
       "    <tr>\n",
       "      <th>50</th>\n",
       "      <td>CNAME</td>\n",
       "      <td>False</td>\n",
       "      <td>True</td>\n",
       "      <td>True</td>\n",
       "      <td>False</td>\n",
       "      <td>False</td>\n",
       "      <td>14626</td>\n",
       "      <td>False</td>\n",
       "      <td>False</td>\n",
       "      <td>US</td>\n",
       "      <td>...</td>\n",
       "      <td>0.3</td>\n",
       "      <td>0.3</td>\n",
       "      <td>0.0</td>\n",
       "      <td>0.2</td>\n",
       "      <td>2</td>\n",
       "      <td>1</td>\n",
       "      <td>3</td>\n",
       "      <td>0</td>\n",
       "      <td>31</td>\n",
       "      <td>1</td>\n",
       "    </tr>\n",
       "    <tr>\n",
       "      <th>55</th>\n",
       "      <td>CNAME</td>\n",
       "      <td>False</td>\n",
       "      <td>True</td>\n",
       "      <td>True</td>\n",
       "      <td>False</td>\n",
       "      <td>False</td>\n",
       "      <td>14626</td>\n",
       "      <td>False</td>\n",
       "      <td>False</td>\n",
       "      <td>US</td>\n",
       "      <td>...</td>\n",
       "      <td>0.3</td>\n",
       "      <td>0.3</td>\n",
       "      <td>0.0</td>\n",
       "      <td>0.2</td>\n",
       "      <td>2</td>\n",
       "      <td>1</td>\n",
       "      <td>3</td>\n",
       "      <td>0</td>\n",
       "      <td>30</td>\n",
       "      <td>1</td>\n",
       "    </tr>\n",
       "    <tr>\n",
       "      <th>77</th>\n",
       "      <td>CNAME</td>\n",
       "      <td>False</td>\n",
       "      <td>True</td>\n",
       "      <td>True</td>\n",
       "      <td>False</td>\n",
       "      <td>False</td>\n",
       "      <td>14626</td>\n",
       "      <td>False</td>\n",
       "      <td>False</td>\n",
       "      <td>US</td>\n",
       "      <td>...</td>\n",
       "      <td>0.3</td>\n",
       "      <td>0.2</td>\n",
       "      <td>0.0</td>\n",
       "      <td>0.2</td>\n",
       "      <td>2</td>\n",
       "      <td>1</td>\n",
       "      <td>3</td>\n",
       "      <td>0</td>\n",
       "      <td>29</td>\n",
       "      <td>1</td>\n",
       "    </tr>\n",
       "    <tr>\n",
       "      <th>149</th>\n",
       "      <td>CNAME</td>\n",
       "      <td>False</td>\n",
       "      <td>True</td>\n",
       "      <td>True</td>\n",
       "      <td>False</td>\n",
       "      <td>False</td>\n",
       "      <td>14626</td>\n",
       "      <td>False</td>\n",
       "      <td>False</td>\n",
       "      <td>US</td>\n",
       "      <td>...</td>\n",
       "      <td>0.3</td>\n",
       "      <td>0.3</td>\n",
       "      <td>0.0</td>\n",
       "      <td>0.2</td>\n",
       "      <td>2</td>\n",
       "      <td>1</td>\n",
       "      <td>3</td>\n",
       "      <td>0</td>\n",
       "      <td>32</td>\n",
       "      <td>1</td>\n",
       "    </tr>\n",
       "    <tr>\n",
       "      <th>409</th>\n",
       "      <td>CNAME</td>\n",
       "      <td>False</td>\n",
       "      <td>True</td>\n",
       "      <td>True</td>\n",
       "      <td>False</td>\n",
       "      <td>False</td>\n",
       "      <td>14626</td>\n",
       "      <td>False</td>\n",
       "      <td>False</td>\n",
       "      <td>US</td>\n",
       "      <td>...</td>\n",
       "      <td>0.3</td>\n",
       "      <td>0.3</td>\n",
       "      <td>0.0</td>\n",
       "      <td>0.2</td>\n",
       "      <td>2</td>\n",
       "      <td>1</td>\n",
       "      <td>3</td>\n",
       "      <td>0</td>\n",
       "      <td>32</td>\n",
       "      <td>1</td>\n",
       "    </tr>\n",
       "    <tr>\n",
       "      <th>...</th>\n",
       "      <td>...</td>\n",
       "      <td>...</td>\n",
       "      <td>...</td>\n",
       "      <td>...</td>\n",
       "      <td>...</td>\n",
       "      <td>...</td>\n",
       "      <td>...</td>\n",
       "      <td>...</td>\n",
       "      <td>...</td>\n",
       "      <td>...</td>\n",
       "      <td>...</td>\n",
       "      <td>...</td>\n",
       "      <td>...</td>\n",
       "      <td>...</td>\n",
       "      <td>...</td>\n",
       "      <td>...</td>\n",
       "      <td>...</td>\n",
       "      <td>...</td>\n",
       "      <td>...</td>\n",
       "      <td>...</td>\n",
       "      <td>...</td>\n",
       "    </tr>\n",
       "    <tr>\n",
       "      <th>89441</th>\n",
       "      <td>CNAME</td>\n",
       "      <td>False</td>\n",
       "      <td>False</td>\n",
       "      <td>False</td>\n",
       "      <td>False</td>\n",
       "      <td>False</td>\n",
       "      <td>852</td>\n",
       "      <td>False</td>\n",
       "      <td>False</td>\n",
       "      <td>US</td>\n",
       "      <td>...</td>\n",
       "      <td>0.4</td>\n",
       "      <td>0.2</td>\n",
       "      <td>0.0</td>\n",
       "      <td>0.2</td>\n",
       "      <td>1</td>\n",
       "      <td>1</td>\n",
       "      <td>2</td>\n",
       "      <td>0</td>\n",
       "      <td>9</td>\n",
       "      <td>1</td>\n",
       "    </tr>\n",
       "    <tr>\n",
       "      <th>89442</th>\n",
       "      <td>CNAME</td>\n",
       "      <td>False</td>\n",
       "      <td>False</td>\n",
       "      <td>False</td>\n",
       "      <td>False</td>\n",
       "      <td>False</td>\n",
       "      <td>16984</td>\n",
       "      <td>False</td>\n",
       "      <td>False</td>\n",
       "      <td>NaN</td>\n",
       "      <td>...</td>\n",
       "      <td>0.5</td>\n",
       "      <td>0.1</td>\n",
       "      <td>0.0</td>\n",
       "      <td>0.2</td>\n",
       "      <td>3</td>\n",
       "      <td>1</td>\n",
       "      <td>2</td>\n",
       "      <td>0</td>\n",
       "      <td>25</td>\n",
       "      <td>1</td>\n",
       "    </tr>\n",
       "    <tr>\n",
       "      <th>89443</th>\n",
       "      <td>CNAME</td>\n",
       "      <td>False</td>\n",
       "      <td>False</td>\n",
       "      <td>False</td>\n",
       "      <td>False</td>\n",
       "      <td>False</td>\n",
       "      <td>16984</td>\n",
       "      <td>False</td>\n",
       "      <td>False</td>\n",
       "      <td>NaN</td>\n",
       "      <td>...</td>\n",
       "      <td>0.4</td>\n",
       "      <td>0.2</td>\n",
       "      <td>0.0</td>\n",
       "      <td>0.2</td>\n",
       "      <td>2</td>\n",
       "      <td>1</td>\n",
       "      <td>2</td>\n",
       "      <td>0</td>\n",
       "      <td>18</td>\n",
       "      <td>1</td>\n",
       "    </tr>\n",
       "    <tr>\n",
       "      <th>89446</th>\n",
       "      <td>CNAME</td>\n",
       "      <td>False</td>\n",
       "      <td>False</td>\n",
       "      <td>False</td>\n",
       "      <td>False</td>\n",
       "      <td>False</td>\n",
       "      <td>16984</td>\n",
       "      <td>False</td>\n",
       "      <td>False</td>\n",
       "      <td>NaN</td>\n",
       "      <td>...</td>\n",
       "      <td>0.6</td>\n",
       "      <td>0.2</td>\n",
       "      <td>0.0</td>\n",
       "      <td>0.1</td>\n",
       "      <td>4</td>\n",
       "      <td>1</td>\n",
       "      <td>2</td>\n",
       "      <td>0</td>\n",
       "      <td>18</td>\n",
       "      <td>1</td>\n",
       "    </tr>\n",
       "    <tr>\n",
       "      <th>89449</th>\n",
       "      <td>CNAME</td>\n",
       "      <td>True</td>\n",
       "      <td>True</td>\n",
       "      <td>True</td>\n",
       "      <td>False</td>\n",
       "      <td>False</td>\n",
       "      <td>2631</td>\n",
       "      <td>False</td>\n",
       "      <td>True</td>\n",
       "      <td>NaN</td>\n",
       "      <td>...</td>\n",
       "      <td>0.5</td>\n",
       "      <td>0.1</td>\n",
       "      <td>0.0</td>\n",
       "      <td>0.3</td>\n",
       "      <td>2</td>\n",
       "      <td>2</td>\n",
       "      <td>2</td>\n",
       "      <td>0</td>\n",
       "      <td>15</td>\n",
       "      <td>1</td>\n",
       "    </tr>\n",
       "  </tbody>\n",
       "</table>\n",
       "<p>1981 rows × 33 columns</p>\n",
       "</div>"
      ],
      "text/plain": [
       "      DNSRecordType  MXDnsResponse  TXTDnsResponse  HasSPFInfo  HasDkimInfo  \\\n",
       "50            CNAME          False            True        True        False   \n",
       "55            CNAME          False            True        True        False   \n",
       "77            CNAME          False            True        True        False   \n",
       "149           CNAME          False            True        True        False   \n",
       "409           CNAME          False            True        True        False   \n",
       "...             ...            ...             ...         ...          ...   \n",
       "89441         CNAME          False           False       False        False   \n",
       "89442         CNAME          False           False       False        False   \n",
       "89443         CNAME          False           False       False        False   \n",
       "89446         CNAME          False           False       False        False   \n",
       "89449         CNAME           True            True        True        False   \n",
       "\n",
       "       HasDmarcInfo     Ip  DomainInAlexaDB  CommonPorts CountryCode  ...  \\\n",
       "50            False  14626            False        False          US  ...   \n",
       "55            False  14626            False        False          US  ...   \n",
       "77            False  14626            False        False          US  ...   \n",
       "149           False  14626            False        False          US  ...   \n",
       "409           False  14626            False        False          US  ...   \n",
       "...             ...    ...              ...          ...         ...  ...   \n",
       "89441         False    852            False        False          US  ...   \n",
       "89442         False  16984            False        False         NaN  ...   \n",
       "89443         False  16984            False        False         NaN  ...   \n",
       "89446         False  16984            False        False         NaN  ...   \n",
       "89449         False   2631            False         True         NaN  ...   \n",
       "\n",
       "      ConsoantRatio  NumericRatio  SpecialCharRatio  VowelRatio  \\\n",
       "50              0.3           0.3               0.0         0.2   \n",
       "55              0.3           0.3               0.0         0.2   \n",
       "77              0.3           0.2               0.0         0.2   \n",
       "149             0.3           0.3               0.0         0.2   \n",
       "409             0.3           0.3               0.0         0.2   \n",
       "...             ...           ...               ...         ...   \n",
       "89441           0.4           0.2               0.0         0.2   \n",
       "89442           0.5           0.1               0.0         0.2   \n",
       "89443           0.4           0.2               0.0         0.2   \n",
       "89446           0.6           0.2               0.0         0.1   \n",
       "89449           0.5           0.1               0.0         0.3   \n",
       "\n",
       "       ConsoantSequence VowelSequence  NumericSequence  SpecialCharSequence  \\\n",
       "50                    2             1                3                    0   \n",
       "55                    2             1                3                    0   \n",
       "77                    2             1                3                    0   \n",
       "149                   2             1                3                    0   \n",
       "409                   2             1                3                    0   \n",
       "...                 ...           ...              ...                  ...   \n",
       "89441                 1             1                2                    0   \n",
       "89442                 3             1                2                    0   \n",
       "89443                 2             1                2                    0   \n",
       "89446                 4             1                2                    0   \n",
       "89449                 2             2                2                    0   \n",
       "\n",
       "       DomainLength  Class  \n",
       "50               31      1  \n",
       "55               30      1  \n",
       "77               29      1  \n",
       "149              32      1  \n",
       "409              32      1  \n",
       "...             ...    ...  \n",
       "89441             9      1  \n",
       "89442            25      1  \n",
       "89443            18      1  \n",
       "89446            18      1  \n",
       "89449            15      1  \n",
       "\n",
       "[1981 rows x 33 columns]"
      ]
     },
     "execution_count": 518,
     "metadata": {},
     "output_type": "execute_result"
    }
   ],
   "source": [
    "raw_data.loc[raw_data[\"DNSRecordType\"] == \"CNAME\"].drop(columns=[\"Domain\"]).drop_duplicates()"
   ]
  },
  {
   "cell_type": "markdown",
   "metadata": {},
   "source": [
    "As seen above, nearly all of the domains with a value of 57 for SubdomainNumber are CNAME records. Further, by dropping the duplicate rows from the subset of domains with SubdomainNumber = 57 we see that the row count drops from > 28,000 to only 25.\n",
    "\n",
    "Without access to the unanonymized dataset and without knowing the exact methods that were taken to produce this data we cannot be certain of the cause of this seemingly anomolous data.\n",
    "\n",
    "Regardless it appears that the CNAME records are unsutable for use in model construction."
   ]
  },
  {
   "cell_type": "code",
   "execution_count": 515,
   "metadata": {},
   "outputs": [
    {
     "data": {
      "text/html": [
       "<div>\n",
       "<style scoped>\n",
       "    .dataframe tbody tr th:only-of-type {\n",
       "        vertical-align: middle;\n",
       "    }\n",
       "\n",
       "    .dataframe tbody tr th {\n",
       "        vertical-align: top;\n",
       "    }\n",
       "\n",
       "    .dataframe thead th {\n",
       "        text-align: right;\n",
       "    }\n",
       "</style>\n",
       "<table border=\"1\" class=\"dataframe\">\n",
       "  <thead>\n",
       "    <tr style=\"text-align: right;\">\n",
       "      <th></th>\n",
       "      <th>DNSRecordType</th>\n",
       "      <th>MXDnsResponse</th>\n",
       "      <th>TXTDnsResponse</th>\n",
       "      <th>HasSPFInfo</th>\n",
       "      <th>HasDkimInfo</th>\n",
       "      <th>HasDmarcInfo</th>\n",
       "      <th>Ip</th>\n",
       "      <th>DomainInAlexaDB</th>\n",
       "      <th>CommonPorts</th>\n",
       "      <th>CountryCode</th>\n",
       "      <th>...</th>\n",
       "      <th>ConsoantRatio</th>\n",
       "      <th>NumericRatio</th>\n",
       "      <th>SpecialCharRatio</th>\n",
       "      <th>VowelRatio</th>\n",
       "      <th>ConsoantSequence</th>\n",
       "      <th>VowelSequence</th>\n",
       "      <th>NumericSequence</th>\n",
       "      <th>SpecialCharSequence</th>\n",
       "      <th>DomainLength</th>\n",
       "      <th>Class</th>\n",
       "    </tr>\n",
       "  </thead>\n",
       "  <tbody>\n",
       "    <tr>\n",
       "      <th>0</th>\n",
       "      <td>A</td>\n",
       "      <td>False</td>\n",
       "      <td>False</td>\n",
       "      <td>False</td>\n",
       "      <td>False</td>\n",
       "      <td>False</td>\n",
       "      <td>16984</td>\n",
       "      <td>False</td>\n",
       "      <td>False</td>\n",
       "      <td>NaN</td>\n",
       "      <td>...</td>\n",
       "      <td>0.6</td>\n",
       "      <td>0.1</td>\n",
       "      <td>0.0</td>\n",
       "      <td>0.2</td>\n",
       "      <td>10</td>\n",
       "      <td>4</td>\n",
       "      <td>1</td>\n",
       "      <td>0</td>\n",
       "      <td>134</td>\n",
       "      <td>1</td>\n",
       "    </tr>\n",
       "    <tr>\n",
       "      <th>1</th>\n",
       "      <td>A</td>\n",
       "      <td>False</td>\n",
       "      <td>False</td>\n",
       "      <td>False</td>\n",
       "      <td>False</td>\n",
       "      <td>False</td>\n",
       "      <td>16984</td>\n",
       "      <td>False</td>\n",
       "      <td>False</td>\n",
       "      <td>NaN</td>\n",
       "      <td>...</td>\n",
       "      <td>0.7</td>\n",
       "      <td>0.1</td>\n",
       "      <td>0.0</td>\n",
       "      <td>0.2</td>\n",
       "      <td>12</td>\n",
       "      <td>2</td>\n",
       "      <td>2</td>\n",
       "      <td>1</td>\n",
       "      <td>123</td>\n",
       "      <td>1</td>\n",
       "    </tr>\n",
       "    <tr>\n",
       "      <th>2</th>\n",
       "      <td>A</td>\n",
       "      <td>False</td>\n",
       "      <td>False</td>\n",
       "      <td>False</td>\n",
       "      <td>False</td>\n",
       "      <td>False</td>\n",
       "      <td>16984</td>\n",
       "      <td>False</td>\n",
       "      <td>False</td>\n",
       "      <td>NaN</td>\n",
       "      <td>...</td>\n",
       "      <td>0.6</td>\n",
       "      <td>0.2</td>\n",
       "      <td>0.0</td>\n",
       "      <td>0.2</td>\n",
       "      <td>16</td>\n",
       "      <td>2</td>\n",
       "      <td>3</td>\n",
       "      <td>0</td>\n",
       "      <td>150</td>\n",
       "      <td>1</td>\n",
       "    </tr>\n",
       "    <tr>\n",
       "      <th>3</th>\n",
       "      <td>A</td>\n",
       "      <td>False</td>\n",
       "      <td>False</td>\n",
       "      <td>False</td>\n",
       "      <td>False</td>\n",
       "      <td>False</td>\n",
       "      <td>16984</td>\n",
       "      <td>False</td>\n",
       "      <td>False</td>\n",
       "      <td>NaN</td>\n",
       "      <td>...</td>\n",
       "      <td>0.6</td>\n",
       "      <td>0.1</td>\n",
       "      <td>0.0</td>\n",
       "      <td>0.1</td>\n",
       "      <td>9</td>\n",
       "      <td>1</td>\n",
       "      <td>2</td>\n",
       "      <td>0</td>\n",
       "      <td>122</td>\n",
       "      <td>1</td>\n",
       "    </tr>\n",
       "    <tr>\n",
       "      <th>4</th>\n",
       "      <td>A</td>\n",
       "      <td>False</td>\n",
       "      <td>False</td>\n",
       "      <td>False</td>\n",
       "      <td>False</td>\n",
       "      <td>False</td>\n",
       "      <td>16984</td>\n",
       "      <td>False</td>\n",
       "      <td>False</td>\n",
       "      <td>NaN</td>\n",
       "      <td>...</td>\n",
       "      <td>0.6</td>\n",
       "      <td>0.2</td>\n",
       "      <td>0.0</td>\n",
       "      <td>0.1</td>\n",
       "      <td>10</td>\n",
       "      <td>2</td>\n",
       "      <td>2</td>\n",
       "      <td>0</td>\n",
       "      <td>151</td>\n",
       "      <td>1</td>\n",
       "    </tr>\n",
       "    <tr>\n",
       "      <th>...</th>\n",
       "      <td>...</td>\n",
       "      <td>...</td>\n",
       "      <td>...</td>\n",
       "      <td>...</td>\n",
       "      <td>...</td>\n",
       "      <td>...</td>\n",
       "      <td>...</td>\n",
       "      <td>...</td>\n",
       "      <td>...</td>\n",
       "      <td>...</td>\n",
       "      <td>...</td>\n",
       "      <td>...</td>\n",
       "      <td>...</td>\n",
       "      <td>...</td>\n",
       "      <td>...</td>\n",
       "      <td>...</td>\n",
       "      <td>...</td>\n",
       "      <td>...</td>\n",
       "      <td>...</td>\n",
       "      <td>...</td>\n",
       "      <td>...</td>\n",
       "    </tr>\n",
       "    <tr>\n",
       "      <th>89995</th>\n",
       "      <td>A</td>\n",
       "      <td>False</td>\n",
       "      <td>False</td>\n",
       "      <td>False</td>\n",
       "      <td>False</td>\n",
       "      <td>False</td>\n",
       "      <td>16984</td>\n",
       "      <td>False</td>\n",
       "      <td>False</td>\n",
       "      <td>NaN</td>\n",
       "      <td>...</td>\n",
       "      <td>0.5</td>\n",
       "      <td>0.2</td>\n",
       "      <td>0.0</td>\n",
       "      <td>0.2</td>\n",
       "      <td>4</td>\n",
       "      <td>1</td>\n",
       "      <td>2</td>\n",
       "      <td>0</td>\n",
       "      <td>27</td>\n",
       "      <td>0</td>\n",
       "    </tr>\n",
       "    <tr>\n",
       "      <th>89996</th>\n",
       "      <td>A</td>\n",
       "      <td>False</td>\n",
       "      <td>False</td>\n",
       "      <td>False</td>\n",
       "      <td>False</td>\n",
       "      <td>False</td>\n",
       "      <td>16984</td>\n",
       "      <td>False</td>\n",
       "      <td>False</td>\n",
       "      <td>NaN</td>\n",
       "      <td>...</td>\n",
       "      <td>0.6</td>\n",
       "      <td>0.0</td>\n",
       "      <td>0.0</td>\n",
       "      <td>0.4</td>\n",
       "      <td>3</td>\n",
       "      <td>2</td>\n",
       "      <td>0</td>\n",
       "      <td>0</td>\n",
       "      <td>26</td>\n",
       "      <td>0</td>\n",
       "    </tr>\n",
       "    <tr>\n",
       "      <th>89997</th>\n",
       "      <td>A</td>\n",
       "      <td>False</td>\n",
       "      <td>False</td>\n",
       "      <td>False</td>\n",
       "      <td>False</td>\n",
       "      <td>False</td>\n",
       "      <td>16984</td>\n",
       "      <td>False</td>\n",
       "      <td>False</td>\n",
       "      <td>NaN</td>\n",
       "      <td>...</td>\n",
       "      <td>0.5</td>\n",
       "      <td>0.1</td>\n",
       "      <td>0.0</td>\n",
       "      <td>0.4</td>\n",
       "      <td>3</td>\n",
       "      <td>2</td>\n",
       "      <td>2</td>\n",
       "      <td>0</td>\n",
       "      <td>31</td>\n",
       "      <td>0</td>\n",
       "    </tr>\n",
       "    <tr>\n",
       "      <th>89998</th>\n",
       "      <td>A</td>\n",
       "      <td>True</td>\n",
       "      <td>True</td>\n",
       "      <td>True</td>\n",
       "      <td>False</td>\n",
       "      <td>False</td>\n",
       "      <td>7723</td>\n",
       "      <td>False</td>\n",
       "      <td>False</td>\n",
       "      <td>US</td>\n",
       "      <td>...</td>\n",
       "      <td>0.5</td>\n",
       "      <td>0.0</td>\n",
       "      <td>0.0</td>\n",
       "      <td>0.4</td>\n",
       "      <td>4</td>\n",
       "      <td>2</td>\n",
       "      <td>0</td>\n",
       "      <td>0</td>\n",
       "      <td>11</td>\n",
       "      <td>0</td>\n",
       "    </tr>\n",
       "    <tr>\n",
       "      <th>89999</th>\n",
       "      <td>A</td>\n",
       "      <td>False</td>\n",
       "      <td>False</td>\n",
       "      <td>False</td>\n",
       "      <td>False</td>\n",
       "      <td>False</td>\n",
       "      <td>16984</td>\n",
       "      <td>False</td>\n",
       "      <td>False</td>\n",
       "      <td>NaN</td>\n",
       "      <td>...</td>\n",
       "      <td>0.6</td>\n",
       "      <td>0.0</td>\n",
       "      <td>0.0</td>\n",
       "      <td>0.3</td>\n",
       "      <td>3</td>\n",
       "      <td>2</td>\n",
       "      <td>0</td>\n",
       "      <td>1</td>\n",
       "      <td>31</td>\n",
       "      <td>0</td>\n",
       "    </tr>\n",
       "  </tbody>\n",
       "</table>\n",
       "<p>49529 rows × 33 columns</p>\n",
       "</div>"
      ],
      "text/plain": [
       "      DNSRecordType  MXDnsResponse  TXTDnsResponse  HasSPFInfo  HasDkimInfo  \\\n",
       "0                 A          False           False       False        False   \n",
       "1                 A          False           False       False        False   \n",
       "2                 A          False           False       False        False   \n",
       "3                 A          False           False       False        False   \n",
       "4                 A          False           False       False        False   \n",
       "...             ...            ...             ...         ...          ...   \n",
       "89995             A          False           False       False        False   \n",
       "89996             A          False           False       False        False   \n",
       "89997             A          False           False       False        False   \n",
       "89998             A           True            True        True        False   \n",
       "89999             A          False           False       False        False   \n",
       "\n",
       "       HasDmarcInfo     Ip  DomainInAlexaDB  CommonPorts CountryCode  ...  \\\n",
       "0             False  16984            False        False         NaN  ...   \n",
       "1             False  16984            False        False         NaN  ...   \n",
       "2             False  16984            False        False         NaN  ...   \n",
       "3             False  16984            False        False         NaN  ...   \n",
       "4             False  16984            False        False         NaN  ...   \n",
       "...             ...    ...              ...          ...         ...  ...   \n",
       "89995         False  16984            False        False         NaN  ...   \n",
       "89996         False  16984            False        False         NaN  ...   \n",
       "89997         False  16984            False        False         NaN  ...   \n",
       "89998         False   7723            False        False          US  ...   \n",
       "89999         False  16984            False        False         NaN  ...   \n",
       "\n",
       "      ConsoantRatio  NumericRatio  SpecialCharRatio  VowelRatio  \\\n",
       "0               0.6           0.1               0.0         0.2   \n",
       "1               0.7           0.1               0.0         0.2   \n",
       "2               0.6           0.2               0.0         0.2   \n",
       "3               0.6           0.1               0.0         0.1   \n",
       "4               0.6           0.2               0.0         0.1   \n",
       "...             ...           ...               ...         ...   \n",
       "89995           0.5           0.2               0.0         0.2   \n",
       "89996           0.6           0.0               0.0         0.4   \n",
       "89997           0.5           0.1               0.0         0.4   \n",
       "89998           0.5           0.0               0.0         0.4   \n",
       "89999           0.6           0.0               0.0         0.3   \n",
       "\n",
       "       ConsoantSequence VowelSequence  NumericSequence  SpecialCharSequence  \\\n",
       "0                    10             4                1                    0   \n",
       "1                    12             2                2                    1   \n",
       "2                    16             2                3                    0   \n",
       "3                     9             1                2                    0   \n",
       "4                    10             2                2                    0   \n",
       "...                 ...           ...              ...                  ...   \n",
       "89995                 4             1                2                    0   \n",
       "89996                 3             2                0                    0   \n",
       "89997                 3             2                2                    0   \n",
       "89998                 4             2                0                    0   \n",
       "89999                 3             2                0                    1   \n",
       "\n",
       "       DomainLength  Class  \n",
       "0               134      1  \n",
       "1               123      1  \n",
       "2               150      1  \n",
       "3               122      1  \n",
       "4               151      1  \n",
       "...             ...    ...  \n",
       "89995            27      0  \n",
       "89996            26      0  \n",
       "89997            31      0  \n",
       "89998            11      0  \n",
       "89999            31      0  \n",
       "\n",
       "[49529 rows x 33 columns]"
      ]
     },
     "execution_count": 515,
     "metadata": {},
     "output_type": "execute_result"
    }
   ],
   "source": [
    "raw_data.drop(columns=[\"Domain\"])[raw_data.DNSRecordType == \"A\"]"
   ]
  },
  {
   "cell_type": "code",
   "execution_count": 516,
   "metadata": {},
   "outputs": [
    {
     "data": {
      "text/plain": [
       "0    33184\n",
       "1     4102\n",
       "Name: Class, dtype: int64"
      ]
     },
     "execution_count": 516,
     "metadata": {},
     "output_type": "execute_result"
    }
   ],
   "source": [
    "raw_data.drop(columns=[\"Domain\"])[raw_data.DNSRecordType == \"A\"].drop_duplicates()[\"Class\"].value_counts()"
   ]
  },
  {
   "cell_type": "markdown",
   "metadata": {},
   "source": [
    "As seen above duplicate data is far less prevalent in the set of type A records. Thus we will restrict the data used for model training and validation to a subset of the type A records. "
   ]
  },
  {
   "cell_type": "code",
   "execution_count": 517,
   "metadata": {},
   "outputs": [],
   "source": [
    "# Reinitialize dataset\n",
    "datasource = \"dataset.csv\"\n",
    "data = pd.read_csv(datasource)\n",
    "\n",
    "# Drop all datapoints that are not type A\n",
    "data = data[data.DNSRecordType == \"A\"]\n",
    "\n",
    "# Drop base class\n",
    "data.drop(columns=[\"Domain\"])\n",
    "\n",
    "# Drop duplicate rows\n",
    "data.drop(columns=[\"Domain\"])[raw_data.DNSRecordType == \"A\"].drop_duplicates()[\"Class\"].value_counts()\n",
    "\n",
    "# Drop irrelevant features\n",
    "data.drop(columns=[\"DNSRecordType\", \"Ip\"])\n",
    "\n",
    "# Balance classes\n",
    "\n",
    "# Redo previous preprocessing\n",
    "\n"
   ]
  }
 ],
 "metadata": {
  "interpreter": {
   "hash": "aee8b7b246df8f9039afb4144a1f6fd8d2ca17a180786b69acc140d282b71a49"
  },
  "kernelspec": {
   "display_name": "Python 3.10.0 64-bit",
   "language": "python",
   "name": "python3"
  },
  "language_info": {
   "codemirror_mode": {
    "name": "ipython",
    "version": 3
   },
   "file_extension": ".py",
   "mimetype": "text/x-python",
   "name": "python",
   "nbconvert_exporter": "python",
   "pygments_lexer": "ipython3",
   "version": "3.10.0"
  },
  "orig_nbformat": 4
 },
 "nbformat": 4,
 "nbformat_minor": 2
}
